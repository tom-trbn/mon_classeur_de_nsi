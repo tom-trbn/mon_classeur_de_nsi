{
 "cells": [
  {
   "cell_type": "markdown",
   "metadata": {},
   "source": [
    "# Fonctions - Un BN pour s'initier à la modularisation\n",
    "> On a déjà utilisé certaines **fonctions** préprogrammées, comme **print()**, **input()**, certaines sont regroupées dans des *modules*...\n",
    ">\n",
    "> On peut également en écrire de nouvelles, personnalisées...\n",
    ">\n",
    "> L'écriture de fonctions facilite la compréhension, la vérification, le développement, l'exploitation, la modification et la maintenance d'un programme.\n",
    "\n",
    "\n",
    "## Pourquoi écrire des fonctions :\n",
    "\n",
    "Prenons l'exemple du programme ci-dessous qui calcule et affiche la moyenne d'un élève sur trois notes:"
   ]
  },
  {
   "cell_type": "code",
   "execution_count": 1,
   "metadata": {},
   "outputs": [
    {
     "name": "stdout",
     "output_type": "stream",
     "text": [
      "La moyenne de Anne est: 13.0\n"
     ]
    }
   ],
   "source": [
    "prenom1=\"Anne\"\n",
    "note1=13\n",
    "note2=10\n",
    "note3=16\n",
    "moyenneA=(note1+note2+note3)/3\n",
    "print(f\"La moyenne de {prenom1} est: {moyenneA}\")"
   ]
  },
  {
   "cell_type": "markdown",
   "metadata": {},
   "source": [
    "Ainsi, on doit réecrire le programme pour chaque élève de la classe :"
   ]
  },
  {
   "cell_type": "code",
   "execution_count": 2,
   "metadata": {},
   "outputs": [
    {
     "name": "stdout",
     "output_type": "stream",
     "text": [
      "La moyenne de Boris est 9.5\n",
      "La moyenne de Céline est 12.0\n",
      "La moyenne de Denis est 14.0\n"
     ]
    }
   ],
   "source": [
    "prenom2=\"Boris\"\n",
    "note4=9\n",
    "note5=7.5\n",
    "note6=12\n",
    "moyenneB=(note4+note5+note6)/3\n",
    "print(f\"La moyenne de {prenom2} est {moyenneB}\")\n",
    "\n",
    "prenom3=\"Céline\"\n",
    "note7=8\n",
    "note8=12\n",
    "note9=16\n",
    "moyenneC=(note7+note8+note9)/3\n",
    "print(f\"La moyenne de {prenom3} est {moyenneC}\")\n",
    "\n",
    "prenom4=\"Denis\"\n",
    "note10=11\n",
    "note11=14\n",
    "note12=17\n",
    "moyenneD=(note10+note11+note12)/3\n",
    "print(f\"La moyenne de {prenom4} est {moyenneD}\")"
   ]
  },
  {
   "cell_type": "markdown",
   "metadata": {},
   "source": [
    "Imaginez maintenant le code pour la classe avec **35 élèves!!!!**\n",
    "\n",
    "Que se passe-t-il si on veux ajouter une note supplémentaire ?  On doit :\n",
    "-  ajouter une note à l'élève ;\n",
    "-  changer le calcul de la moyenne en ajoutant la note supplémentaire et en divisant par 4 ;\n",
    "-  Et ensuite, on doit refaire cela pour tous les élèves. \n",
    "\n",
    "Par exemple pour un élève on écrira."
   ]
  },
  {
   "cell_type": "code",
   "execution_count": 3,
   "metadata": {},
   "outputs": [
    {
     "name": "stdout",
     "output_type": "stream",
     "text": [
      "La moyenne de Anne est 13.25\n"
     ]
    }
   ],
   "source": [
    "prenom1=\"Anne\"\n",
    "note1=13\n",
    "note2=10\n",
    "note3=16\n",
    "note4=14\n",
    "moyenneA=(note1+note2+note3+note4)/4\n",
    "print(f\"La moyenne de {prenom1} est {moyenneA}\")"
   ]
  },
  {
   "cell_type": "markdown",
   "metadata": {},
   "source": [
    "C'est ***Fastidieux !***\n",
    "\n",
    "Quand une tâche peut être effectuée plusieurs fois dans un programme, il devient vite TRÈS INTÉRESSANT d'utiliser un morceau de programme qu'on va réutiliser : on isole alors ce morceau de code dans un ***BLOC*** qu'on appelle  ***FONCTION*** "
   ]
  },
  {
   "cell_type": "code",
   "execution_count": 5,
   "metadata": {},
   "outputs": [
    {
     "name": "stdout",
     "output_type": "stream",
     "text": [
      "13.0\n",
      "9.5\n",
      "12.0\n",
      "14.0\n"
     ]
    }
   ],
   "source": [
    "#bloc fonction qui calcule la moyenne\n",
    "def calcule_moyenne(note1,note2,note3):\n",
    "    moyenne=(note1+note2+note3)/3\n",
    "    return moyenne\n",
    "\n",
    "#appels répétés de la fonction dans le programme principal\n",
    "print(calcule_moyenne(13,10,16))\n",
    "print(calcule_moyenne(9,7.5,12))\n",
    "print(calcule_moyenne(8,12,16))\n",
    "print(calcule_moyenne(11,14,17))"
   ]
  },
  {
   "cell_type": "markdown",
   "metadata": {},
   "source": [
    "Ce qu'on a gagné : \n",
    "\n",
    "- On a écrit une seule fois le calcul de la moyenne ;\n",
    "- Si on ajoute un élève, en une ligne de code, on appelle la fonction une fois de plus ;\n",
    "- Si on ajoute une note, on ne change que le contenu de la fonction calcule_moyenne() ;\n",
    "- Si on veut ajouter l'affichage d'un message, on peut le faire dans la fonction sans changer le programme principal...\n",
    "\n",
    "Comparez maintenant ce dernier programme avec le premier :\n",
    "avec moins de lignes de programme, on fait plus de choses, et en plus ça reste très lisible !\n",
    "\n",
    "C'est aussi très utile si la personne qui définit la fonction est différente de celle qui l'utilise on peut ainsi utiliser une fonction que l'on n'a pas codé sois même, simplement, on l'appelle ! Comme par exemple on le fait avec la fonction `print()`..."
   ]
  },
  {
   "cell_type": "markdown",
   "metadata": {},
   "source": [
    "De plus, on peut très facilement modifier la fonction `calcule_moyenne()` pour calculer et renvoyer la moyenne dans un texte plus significatif :"
   ]
  },
  {
   "cell_type": "code",
   "execution_count": 6,
   "metadata": {},
   "outputs": [
    {
     "name": "stdout",
     "output_type": "stream",
     "text": [
      "La moyenne de Anne est 13.0.\n",
      "La moyenne de Boris est 9.5.\n",
      "La moyenne de Céline est 12.0.\n",
      "La moyenne de Denis est 14.0.\n"
     ]
    }
   ],
   "source": [
    "def affiche_moyenne(prenom,note1,note2,note3):\n",
    "    moyenne=(note1+note2+note3)/3\n",
    "    return f\"La moyenne de {prenom} est {moyenne}.\"\n",
    "\n",
    "print(affiche_moyenne(\"Anne\", 13,10,16))\n",
    "print(affiche_moyenne(\"Boris\", 9,7.5,12))\n",
    "print(affiche_moyenne(\"Céline\", 8,12,16))\n",
    "print(affiche_moyenne(\"Denis\", 11,14,17))"
   ]
  },
  {
   "cell_type": "markdown",
   "metadata": {},
   "source": [
    "On peut ainsi utiliser ces fonctions autant de fois et quand on le souhaite sans avoir à les réécrire. Elles permettent de rendre le code du programme plus court et plus facile à comprendre.\n",
    "\n",
    "## Définition d'une fonction :\n",
    "\n",
    "Une fonction encapsule une portion de programme que l'on souhaite réutiliser. Il nous faut lui attribuer un nom significatif pour pouvoir l'appeller ensuite...\n",
    "\n",
    "Une fonction peut-être vu comme une boite noire qui fait quelque chose. On attribue (passe) des valeurs en arguments à ses paramètres d'entrée pour récupèrer un résultat à la sortie.\n",
    "\n",
    "<img src=\"https://ericecmorlaix.github.io/img/ChaineInformation-FonctionLogique.png\" alt=\"Fonction logique traiter\" width=60% >\n",
    "\n",
    "> Idéalement une fonction devrait se limiter au traitement d'une chose. S'il y a une autre chose à faire il est préférable de la traiter dans une autre fonction dédiée.\n",
    "\n",
    "\n",
    "### La syntaxe python est \n",
    "  ```python\n",
    "  def mafonction(liste de paramètres):\n",
    "      #bloc d'instructions (optionnel)\n",
    "      return valeur\n",
    "  ```\n",
    "- La ligne contenant `def` se termine obligatoirement par un deux-points `:`, qui introduisent un bloc d'instructions qui est précisé grâce à l'indentation.  \n",
    "> Ne pas oublier les deux points à la fin et faire attention à l'indentation, ce sont des erreurs fréquentes au début.\n",
    "-  Ce bloc d'instructions constitue le corps de la fonction ;\n",
    "- Il est possible d'utiliser  `print()` dans une fonction mais il est préférable d'utiliser `return` (pour retourner)  et d'appeler la fonction dans la fonction `print()` ou une autre fonction d'affichage comme `HTML()`, `markdown()`, ... ;\n",
    "- Vous pouvez choisir le nom de votre choix pour la fonction que vous créez, sans utiliser de caractère spécial ou accentué, le caractère souligné « \\_ » est autorisé et remplace l'espace ; sauf les mots-clés tels que :\n",
    "> <u>Remarque</u> : Ne pas utiliser comme nom de variables, ni comme nom de fonctions, les mots clés :\n",
    ">\n",
    "> and ; as ; assert ; break ; class ; continue ; def ; del ; elif ; else ; except ; False ; finally ; for ; from ; global ; if ; import ; in ; is ; lambda ; None ; nonlocal ; not ; or ; pass ; raise ; return ; True ; try ; while  ; with ; yield\n",
    "    \n",
    "- On utilise par convention des minuscules, notamment au début du nom."
   ]
  },
  {
   "cell_type": "markdown",
   "metadata": {},
   "source": [
    "## Variables locales et variables globales"
   ]
  },
  {
   "cell_type": "markdown",
   "metadata": {},
   "source": [
    "Lorsque des variables sont définies à l'intérieur du corps d'une fonction, ces variables ne sont accessibles qu'à la fonction elle-même : ce sont des **variables locales** ;\n",
    "\n",
    "Lorsque des variables sont définies à l'extérieur d'une fonction : ce sont des **variables globales**. Leur contenu est visible à l'intérieur d'une fonction, mais la fonction ne peut pas les modifier.\n",
    "\n",
    "On dit que les **variables locales** et les **variables globales** n'ont pas la même **portée**.\n",
    "\n",
    "> D'une manière générale et en particulier lorsqu'on écrit des fonctions, il est recommandé d'éviter d'utiliser des variables globales."
   ]
  },
  {
   "cell_type": "markdown",
   "metadata": {},
   "source": [
    "<h3 class='fa fa-cogs' style=\"color: darkorange\"> A faire vous-même - <strong>Tester</strong> les exemples suivants :</h3>"
   ]
  },
  {
   "cell_type": "code",
   "execution_count": 1,
   "metadata": {},
   "outputs": [
    {
     "ename": "NameError",
     "evalue": "name 'v' is not defined",
     "output_type": "error",
     "traceback": [
      "\u001b[0;31m---------------------------------------------------------------------------\u001b[0m",
      "\u001b[0;31mNameError\u001b[0m                                 Traceback (most recent call last)",
      "\u001b[0;32m<ipython-input-1-584b97e69240>\u001b[0m in \u001b[0;36m<module>\u001b[0;34m\u001b[0m\n\u001b[1;32m      3\u001b[0m     \u001b[0;32mreturn\u001b[0m \u001b[0ma\u001b[0m \u001b[0;34m*\u001b[0m \u001b[0;36m2\u001b[0m\u001b[0;34m\u001b[0m\u001b[0;34m\u001b[0m\u001b[0m\n\u001b[1;32m      4\u001b[0m \u001b[0;34m\u001b[0m\u001b[0m\n\u001b[0;32m----> 5\u001b[0;31m \u001b[0mprint\u001b[0m\u001b[0;34m(\u001b[0m\u001b[0mv\u001b[0m\u001b[0;34m)\u001b[0m  \u001b[0;31m# La variable locale v est inconnue à l'extérieur de la fonction\u001b[0m\u001b[0;34m\u001b[0m\u001b[0;34m\u001b[0m\u001b[0m\n\u001b[0m",
      "\u001b[0;31mNameError\u001b[0m: name 'v' is not defined"
     ]
    }
   ],
   "source": [
    "def test_0():\n",
    "    v = 5\n",
    "    return a * 2\n",
    "\n",
    "print(v)  # La variable locale v est inconnue à l'extérieur de la fonction "
   ]
  },
  {
   "cell_type": "code",
   "execution_count": 8,
   "metadata": {},
   "outputs": [
    {
     "data": {
      "text/plain": [
       "3"
      ]
     },
     "execution_count": 8,
     "metadata": {},
     "output_type": "execute_result"
    }
   ],
   "source": [
    "m = 2\n",
    "def test_1():\n",
    "    return m + 1  # on a accès à la variable globale dans la fonction\n",
    "\n",
    "test_1()"
   ]
  },
  {
   "cell_type": "code",
   "execution_count": 9,
   "metadata": {},
   "outputs": [
    {
     "ename": "UnboundLocalError",
     "evalue": "local variable 'm' referenced before assignment",
     "output_type": "error",
     "traceback": [
      "\u001b[0;31m---------------------------------------------------------------------------\u001b[0m",
      "\u001b[0;31mUnboundLocalError\u001b[0m                         Traceback (most recent call last)",
      "\u001b[0;32m<ipython-input-9-1469a5df3ad1>\u001b[0m in \u001b[0;36m<module>\u001b[0;34m\u001b[0m\n\u001b[1;32m      3\u001b[0m     \u001b[0;32mreturn\u001b[0m \u001b[0mm\u001b[0m\u001b[0;34m\u001b[0m\u001b[0;34m\u001b[0m\u001b[0m\n\u001b[1;32m      4\u001b[0m \u001b[0;34m\u001b[0m\u001b[0m\n\u001b[0;32m----> 5\u001b[0;31m \u001b[0mtest_2\u001b[0m\u001b[0;34m(\u001b[0m\u001b[0;34m)\u001b[0m\u001b[0;34m\u001b[0m\u001b[0;34m\u001b[0m\u001b[0m\n\u001b[0m",
      "\u001b[0;32m<ipython-input-9-1469a5df3ad1>\u001b[0m in \u001b[0;36mtest_2\u001b[0;34m()\u001b[0m\n\u001b[1;32m      1\u001b[0m \u001b[0;32mdef\u001b[0m \u001b[0mtest_2\u001b[0m\u001b[0;34m(\u001b[0m\u001b[0;34m)\u001b[0m\u001b[0;34m:\u001b[0m\u001b[0;34m\u001b[0m\u001b[0;34m\u001b[0m\u001b[0m\n\u001b[0;32m----> 2\u001b[0;31m     \u001b[0mm\u001b[0m \u001b[0;34m=\u001b[0m \u001b[0mm\u001b[0m \u001b[0;34m+\u001b[0m \u001b[0;36m8\u001b[0m   \u001b[0;31m# on ne peut modifier la variable globale m dans la fonction\u001b[0m\u001b[0;34m\u001b[0m\u001b[0;34m\u001b[0m\u001b[0m\n\u001b[0m\u001b[1;32m      3\u001b[0m     \u001b[0;32mreturn\u001b[0m \u001b[0mm\u001b[0m\u001b[0;34m\u001b[0m\u001b[0;34m\u001b[0m\u001b[0m\n\u001b[1;32m      4\u001b[0m \u001b[0;34m\u001b[0m\u001b[0m\n\u001b[1;32m      5\u001b[0m \u001b[0mtest_2\u001b[0m\u001b[0;34m(\u001b[0m\u001b[0;34m)\u001b[0m\u001b[0;34m\u001b[0m\u001b[0;34m\u001b[0m\u001b[0m\n",
      "\u001b[0;31mUnboundLocalError\u001b[0m: local variable 'm' referenced before assignment"
     ]
    }
   ],
   "source": [
    "def test_2():\n",
    "    m = m + 8   # on ne peut modifier la variable globale m dans la fonction\n",
    "    return m\n",
    "\n",
    "test_2()"
   ]
  },
  {
   "cell_type": "code",
   "execution_count": 10,
   "metadata": {},
   "outputs": [
    {
     "data": {
      "text/plain": [
       "10"
      ]
     },
     "execution_count": 10,
     "metadata": {},
     "output_type": "execute_result"
    }
   ],
   "source": [
    "def test_3():\n",
    "    global m    # cette déclaration permet de modifier la variable globale dans cette fonction\n",
    "    m = m + 8   \n",
    "    return m\n",
    "\n",
    "test_3()"
   ]
  },
  {
   "cell_type": "markdown",
   "metadata": {},
   "source": [
    "## Documentation, spécification d'une fonction :\n",
    "\n",
    "Pour faciliter l'utilisation d'une fonction par autrui (ou soi même après quelques semaines...) il est nécessaire qu'elle soit bien documentée. \n",
    "\n",
    "Cette spécification s'écrit sur plusieures lignes dans une \"Docstring\", avec 3 guillemets ouvrants et 3 guillemets fermants :\n",
    "\n",
    "```python\n",
    "def ma_fonction(liste de paramètres):\n",
    "    \"\"\" \n",
    "        Description :\n",
    "        \n",
    "        Exemple :\n",
    "    \n",
    "        Préconditions :\n",
    "            \n",
    "        Postconditions :        \n",
    "                \n",
    "    \"\"\"\n",
    "    # Assertions de vérification des préconditions :\n",
    "    \n",
    "    assert condition , 'message'\n",
    "    \n",
    "    # bloc d'instructions :\n",
    "    \n",
    "    return \n",
    "```\n",
    "Il s'agit de décrire ce que fait la fonction et comment s'en servir.\n",
    "\n",
    "On y précise pour cela les préconditions sur les paramètres d'entrée (type, attendues et limitations quant aux valeurs, ...) et les postconditions sur les sorties (type, description de la valeur renvoyée).\n",
    "\n",
    "On peut également ajouter un exemple d'appel de la fonction et le résultat qu'elle produit alors.\n",
    "\n",
    "De plus, on doit fournir des tests qui permettent de vérifier son fonctionnement. Il est possible de les indiquer dans la docstring mais on peut aussi les écrire dans le code sous la forme d'assertions pour vérifier les préconditions et ainsi augmenter la robustesse de notre fonction.\n",
    "\n",
    "Enfin, la tendance étant aux langages de programmation fonctionnelles qui utilisent un typage statique, l'utilisation des annotations de type se généralise depuis la version 3.5 de Python :\n",
    " - On peut préciser les types des paramètres d'entrée (``variable_1 : float, variable_2 : int``) ;\n",
    " - Et le type du retour (``-> float``) ;\n",
    " > Ces annotations sont toutefois facultatives, elles peuvent être vérifiées avec le module [`MyPy`](https://blog.invivoo.com/type-checking-in-python-avec-mypy/) et importées avec le module [typing](https://docs.python.org/3/library/typing.html)\n",
    " \n",
    " Par exemple voici une proposition de documentation, d'assertions et d'annotations de typage statique, pour notre fonction ``affiche_moyenne()`` :"
   ]
  },
  {
   "cell_type": "code",
   "execution_count": 2,
   "metadata": {},
   "outputs": [],
   "source": [
    "def affiche_moyenne(prenom : str, note1 : float, note2 : float, note3 : float) -> str :\n",
    "    \"\"\" ==================================================================================================================\n",
    "    \n",
    "        * Description : \n",
    "            Je calcule la moyenne de 3 notes sur 20 d'un élève et renvoie le résultat formaté pour un affichage de texte ;\n",
    "                        \n",
    "        * Exemple :\n",
    "            >>> affiche_moyenne(\"Boris\", 9,7.5,12)\n",
    "            'La moyenne de Boris est 9.5.'\n",
    "                    \n",
    "        * Préconditions :\n",
    "            - prenom (str) : une chaine de caractères identifiant de l'élève ;\n",
    "            - note_ (float) : un nombre entier ou flottant compris entre 0 et 20 inclus ;\n",
    "                    \n",
    "        * Postconditions :\n",
    "            (str) : une chaine de caractère formatée contenant l'identifiant de l'élève et sa moyenne calculée.\n",
    "        \n",
    "        ==================================================================================================================\n",
    "    \"\"\"\n",
    "    # Assertions de vérification des préconditions :\n",
    "    assert type(prenom) == str  , \"La valeur du premier argument doit être une chaine de caractères identifiant l'élève\"\n",
    "    assert note1 >= 0.0  , \"Le second argument est une note comprise entre 0 et 20 inclus\"\n",
    "    assert note1 <= 20.0  , \"Le second argument est une note comprise entre 0 et 20 inclus\"\n",
    "    \n",
    "    \n",
    "    # bloc d'instructions :\n",
    "    moyenne=(note1+note2+note3)/3\n",
    "    return f\"La moyenne de {prenom} est {moyenne}.\""
   ]
  },
  {
   "cell_type": "markdown",
   "metadata": {},
   "source": [
    "<h3 class='fa fa-cogs' style=\"color: darkorange\"> A faire vous-même - <strong>Tester</strong> dans les cellules suivantes la fonction affiche_moyenne() et vérifier sa robustesse :</h3>"
   ]
  },
  {
   "cell_type": "code",
   "execution_count": 7,
   "metadata": {},
   "outputs": [
    {
     "name": "stdout",
     "output_type": "stream",
     "text": [
      "Help on function affiche_moyenne in module __main__:\n",
      "\n",
      "affiche_moyenne(prenom: str, note1: float, note2: float, note3: float) -> str\n",
      "    ==================================================================================================================\n",
      "    \n",
      "    * Description : \n",
      "        Je calcule la moyenne de 3 notes sur 20 d'un élève et renvoie le résultat formaté pour un affichage de texte ;\n",
      "                    \n",
      "    * Exemple :\n",
      "        >>> affiche_moyenne(\"Boris\", 9,7.5,12)\n",
      "        'La moyenne de Boris est 9.5.'\n",
      "                \n",
      "    * Préconditions :\n",
      "        - prenom (str) : une chaine de caractères identifiant de l'élève ;\n",
      "        - note_ (float) : un nombre entier ou flottant compris entre 0 et 20 inclus ;\n",
      "                \n",
      "    * Postconditions :\n",
      "        (str) : une chaine de caractère formatée contenant l'identifiant de l'élève et sa moyenne calculée.\n",
      "    \n",
      "    ==================================================================================================================\n",
      "\n"
     ]
    }
   ],
   "source": [
    "help(affiche_moyenne)"
   ]
  },
  {
   "cell_type": "code",
   "execution_count": 8,
   "metadata": {},
   "outputs": [
    {
     "data": {
      "text/plain": [
       "'La moyenne de Boris est 9.5.'"
      ]
     },
     "execution_count": 8,
     "metadata": {},
     "output_type": "execute_result"
    }
   ],
   "source": [
    "affiche_moyenne(\"Boris\", 9,7.5,12)"
   ]
  },
  {
   "cell_type": "code",
   "execution_count": 9,
   "metadata": {},
   "outputs": [
    {
     "ename": "AssertionError",
     "evalue": "La valeur du premier argument doit être une chaine de caractères identifiant l'élève",
     "output_type": "error",
     "traceback": [
      "\u001b[0;31m---------------------------------------------------------------------------\u001b[0m",
      "\u001b[0;31mAssertionError\u001b[0m                            Traceback (most recent call last)",
      "\u001b[0;32m<ipython-input-9-04f07113f619>\u001b[0m in \u001b[0;36m<module>\u001b[0;34m\u001b[0m\n\u001b[0;32m----> 1\u001b[0;31m \u001b[0maffiche_moyenne\u001b[0m\u001b[0;34m(\u001b[0m\u001b[0;36m907\u001b[0m\u001b[0;34m,\u001b[0m \u001b[0;36m13\u001b[0m\u001b[0;34m,\u001b[0m\u001b[0;36m10\u001b[0m\u001b[0;34m,\u001b[0m\u001b[0;36m16\u001b[0m\u001b[0;34m)\u001b[0m\u001b[0;34m\u001b[0m\u001b[0;34m\u001b[0m\u001b[0m\n\u001b[0m",
      "\u001b[0;32m<ipython-input-6-bcaabf54f5b3>\u001b[0m in \u001b[0;36maffiche_moyenne\u001b[0;34m(prenom, note1, note2, note3)\u001b[0m\n\u001b[1;32m     19\u001b[0m     \"\"\"\n\u001b[1;32m     20\u001b[0m     \u001b[0;31m# Assertions de vérification des préconditions :\u001b[0m\u001b[0;34m\u001b[0m\u001b[0;34m\u001b[0m\u001b[0;34m\u001b[0m\u001b[0m\n\u001b[0;32m---> 21\u001b[0;31m     \u001b[0;32massert\u001b[0m \u001b[0mtype\u001b[0m\u001b[0;34m(\u001b[0m\u001b[0mprenom\u001b[0m\u001b[0;34m)\u001b[0m \u001b[0;34m==\u001b[0m \u001b[0mstr\u001b[0m  \u001b[0;34m,\u001b[0m \u001b[0;34m\"La valeur du premier argument doit être une chaine de caractères identifiant l'élève\"\u001b[0m\u001b[0;34m\u001b[0m\u001b[0;34m\u001b[0m\u001b[0m\n\u001b[0m\u001b[1;32m     22\u001b[0m     \u001b[0;32massert\u001b[0m \u001b[0mnote1\u001b[0m \u001b[0;34m>=\u001b[0m \u001b[0;36m0.0\u001b[0m  \u001b[0;34m,\u001b[0m \u001b[0;34m\"Le second argument est une note comprise entre 0 et 20 inclus\"\u001b[0m\u001b[0;34m\u001b[0m\u001b[0;34m\u001b[0m\u001b[0m\n\u001b[1;32m     23\u001b[0m     \u001b[0;32massert\u001b[0m \u001b[0mnote1\u001b[0m \u001b[0;34m<=\u001b[0m \u001b[0;36m20.0\u001b[0m  \u001b[0;34m,\u001b[0m \u001b[0;34m\"Le second argument est une note comprise entre 0 et 20 inclus\"\u001b[0m\u001b[0;34m\u001b[0m\u001b[0;34m\u001b[0m\u001b[0m\n",
      "\u001b[0;31mAssertionError\u001b[0m: La valeur du premier argument doit être une chaine de caractères identifiant l'élève"
     ]
    }
   ],
   "source": [
    "affiche_moyenne(907, 13,10,16)"
   ]
  },
  {
   "cell_type": "code",
   "execution_count": 16,
   "metadata": {},
   "outputs": [
    {
     "ename": "AssertionError",
     "evalue": "Le second argument est une note comprise entre 0 et 20 inclus",
     "output_type": "error",
     "traceback": [
      "\u001b[0;31m---------------------------------------------------------------------------\u001b[0m",
      "\u001b[0;31mAssertionError\u001b[0m                            Traceback (most recent call last)",
      "\u001b[0;32m<ipython-input-16-a5576d82da67>\u001b[0m in \u001b[0;36m<module>\u001b[0;34m\u001b[0m\n\u001b[0;32m----> 1\u001b[0;31m \u001b[0maffiche_moyenne\u001b[0m\u001b[0;34m(\u001b[0m\u001b[0;34m\"Anne\"\u001b[0m\u001b[0;34m,\u001b[0m \u001b[0;34m-\u001b[0m\u001b[0;36m1\u001b[0m\u001b[0;34m,\u001b[0m\u001b[0;36m10\u001b[0m\u001b[0;34m,\u001b[0m\u001b[0;36m16\u001b[0m\u001b[0;34m)\u001b[0m\u001b[0;34m\u001b[0m\u001b[0;34m\u001b[0m\u001b[0m\n\u001b[0m",
      "\u001b[0;32m<ipython-input-12-bcaabf54f5b3>\u001b[0m in \u001b[0;36maffiche_moyenne\u001b[0;34m(prenom, note1, note2, note3)\u001b[0m\n\u001b[1;32m     20\u001b[0m     \u001b[0;31m# Assertions de vérification des préconditions :\u001b[0m\u001b[0;34m\u001b[0m\u001b[0;34m\u001b[0m\u001b[0;34m\u001b[0m\u001b[0m\n\u001b[1;32m     21\u001b[0m     \u001b[0;32massert\u001b[0m \u001b[0mtype\u001b[0m\u001b[0;34m(\u001b[0m\u001b[0mprenom\u001b[0m\u001b[0;34m)\u001b[0m \u001b[0;34m==\u001b[0m \u001b[0mstr\u001b[0m  \u001b[0;34m,\u001b[0m \u001b[0;34m\"La valeur du premier argument doit être une chaine de caractères identifiant l'élève\"\u001b[0m\u001b[0;34m\u001b[0m\u001b[0;34m\u001b[0m\u001b[0m\n\u001b[0;32m---> 22\u001b[0;31m     \u001b[0;32massert\u001b[0m \u001b[0mnote1\u001b[0m \u001b[0;34m>=\u001b[0m \u001b[0;36m0.0\u001b[0m  \u001b[0;34m,\u001b[0m \u001b[0;34m\"Le second argument est une note comprise entre 0 et 20 inclus\"\u001b[0m\u001b[0;34m\u001b[0m\u001b[0;34m\u001b[0m\u001b[0m\n\u001b[0m\u001b[1;32m     23\u001b[0m     \u001b[0;32massert\u001b[0m \u001b[0mnote1\u001b[0m \u001b[0;34m<=\u001b[0m \u001b[0;36m20.0\u001b[0m  \u001b[0;34m,\u001b[0m \u001b[0;34m\"Le second argument est une note comprise entre 0 et 20 inclus\"\u001b[0m\u001b[0;34m\u001b[0m\u001b[0;34m\u001b[0m\u001b[0m\n\u001b[1;32m     24\u001b[0m \u001b[0;34m\u001b[0m\u001b[0m\n",
      "\u001b[0;31mAssertionError\u001b[0m: Le second argument est une note comprise entre 0 et 20 inclus"
     ]
    }
   ],
   "source": [
    "affiche_moyenne(\"Anne\", -1,10,16)"
   ]
  },
  {
   "cell_type": "code",
   "execution_count": 17,
   "metadata": {},
   "outputs": [
    {
     "ename": "AssertionError",
     "evalue": "Le second argument est une note comprise entre 0 et 20 inclus",
     "output_type": "error",
     "traceback": [
      "\u001b[0;31m---------------------------------------------------------------------------\u001b[0m",
      "\u001b[0;31mAssertionError\u001b[0m                            Traceback (most recent call last)",
      "\u001b[0;32m<ipython-input-17-6715859873db>\u001b[0m in \u001b[0;36m<module>\u001b[0;34m\u001b[0m\n\u001b[0;32m----> 1\u001b[0;31m \u001b[0maffiche_moyenne\u001b[0m\u001b[0;34m(\u001b[0m\u001b[0;34m\"Anne\"\u001b[0m\u001b[0;34m,\u001b[0m \u001b[0;36m21\u001b[0m\u001b[0;34m,\u001b[0m\u001b[0;36m10\u001b[0m\u001b[0;34m,\u001b[0m\u001b[0;36m16\u001b[0m\u001b[0;34m)\u001b[0m\u001b[0;34m\u001b[0m\u001b[0;34m\u001b[0m\u001b[0m\n\u001b[0m",
      "\u001b[0;32m<ipython-input-12-bcaabf54f5b3>\u001b[0m in \u001b[0;36maffiche_moyenne\u001b[0;34m(prenom, note1, note2, note3)\u001b[0m\n\u001b[1;32m     21\u001b[0m     \u001b[0;32massert\u001b[0m \u001b[0mtype\u001b[0m\u001b[0;34m(\u001b[0m\u001b[0mprenom\u001b[0m\u001b[0;34m)\u001b[0m \u001b[0;34m==\u001b[0m \u001b[0mstr\u001b[0m  \u001b[0;34m,\u001b[0m \u001b[0;34m\"La valeur du premier argument doit être une chaine de caractères identifiant l'élève\"\u001b[0m\u001b[0;34m\u001b[0m\u001b[0;34m\u001b[0m\u001b[0m\n\u001b[1;32m     22\u001b[0m     \u001b[0;32massert\u001b[0m \u001b[0mnote1\u001b[0m \u001b[0;34m>=\u001b[0m \u001b[0;36m0.0\u001b[0m  \u001b[0;34m,\u001b[0m \u001b[0;34m\"Le second argument est une note comprise entre 0 et 20 inclus\"\u001b[0m\u001b[0;34m\u001b[0m\u001b[0;34m\u001b[0m\u001b[0m\n\u001b[0;32m---> 23\u001b[0;31m     \u001b[0;32massert\u001b[0m \u001b[0mnote1\u001b[0m \u001b[0;34m<=\u001b[0m \u001b[0;36m20.0\u001b[0m  \u001b[0;34m,\u001b[0m \u001b[0;34m\"Le second argument est une note comprise entre 0 et 20 inclus\"\u001b[0m\u001b[0;34m\u001b[0m\u001b[0;34m\u001b[0m\u001b[0m\n\u001b[0m\u001b[1;32m     24\u001b[0m \u001b[0;34m\u001b[0m\u001b[0m\n\u001b[1;32m     25\u001b[0m \u001b[0;34m\u001b[0m\u001b[0m\n",
      "\u001b[0;31mAssertionError\u001b[0m: Le second argument est une note comprise entre 0 et 20 inclus"
     ]
    }
   ],
   "source": [
    "affiche_moyenne(\"Anne\", 21,10,16)"
   ]
  },
  {
   "cell_type": "code",
   "execution_count": 18,
   "metadata": {},
   "outputs": [
    {
     "name": "stdout",
     "output_type": "stream",
     "text": [
      "La moyenne de Anne est 15.333333333333334.\n"
     ]
    }
   ],
   "source": [
    "print(affiche_moyenne(\"Anne\", 20,10,16))"
   ]
  },
  {
   "cell_type": "code",
   "execution_count": 19,
   "metadata": {},
   "outputs": [],
   "source": [
    "# Faire d'autres tests ici..."
   ]
  },
  {
   "cell_type": "markdown",
   "metadata": {},
   "source": [
    "## Quelques exemples de fonctions très simples :\n",
    "\n",
    "En programmation informatique on rencontre une grande variété de fonctions ayant un ou plusieurs paramètres, voire aucun. De plus les paramètres en entrée d'une fonction peuvent être de types différents.\n",
    "\n",
    "De même les fonctions peuvent retourner une chaîne de caractères, un nombre, un tuple, ..., voire même ne rien retourner du tout.\n",
    "\n",
    "### Fonctions sans paramètre :\n",
    "\n",
    "#### Exemples :"
   ]
  },
  {
   "cell_type": "code",
   "execution_count": 20,
   "metadata": {},
   "outputs": [],
   "source": [
    "def bonjour():\n",
    "    print(\"Demat! Mont a ra ?\")"
   ]
  },
  {
   "cell_type": "code",
   "execution_count": 21,
   "metadata": {},
   "outputs": [],
   "source": [
    "def compteur():\n",
    "    for i in range(4):\n",
    "        print(i)"
   ]
  },
  {
   "cell_type": "markdown",
   "metadata": {},
   "source": [
    "Nous avons défini une première fonction qui affiche le texte ***Bonjour*** et une deuxième fonction simple qui affiche les entier de 0 à 3.  \n",
    "Notez bien les parenthèses, les deux-points, et l'indentation du bloc d'instructions qui suit la ligne d'en-tête (c'est ce bloc d'instructions qui constitue le corps de la fonction proprement dite).\n",
    "\n",
    "Avoir une fonction, c'est bien mais encore faut il l'utiliser."
   ]
  },
  {
   "cell_type": "code",
   "execution_count": 22,
   "metadata": {},
   "outputs": [
    {
     "name": "stdout",
     "output_type": "stream",
     "text": [
      "Demat! Mont a ra ?\n"
     ]
    }
   ],
   "source": [
    "bonjour()"
   ]
  },
  {
   "cell_type": "code",
   "execution_count": 23,
   "metadata": {},
   "outputs": [
    {
     "name": "stdout",
     "output_type": "stream",
     "text": [
      "Demat! Mont a ra ?\n"
     ]
    },
    {
     "data": {
      "text/plain": [
       "NoneType"
      ]
     },
     "execution_count": 23,
     "metadata": {},
     "output_type": "execute_result"
    }
   ],
   "source": [
    "type(bonjour())"
   ]
  },
  {
   "cell_type": "code",
   "execution_count": 24,
   "metadata": {},
   "outputs": [
    {
     "name": "stdout",
     "output_type": "stream",
     "text": [
      "0\n",
      "1\n",
      "2\n",
      "3\n"
     ]
    }
   ],
   "source": [
    "compteur()"
   ]
  },
  {
   "cell_type": "markdown",
   "metadata": {},
   "source": [
    "Nous pouvons maintenant réutiliser cette fonction à plusieurs reprises, autant\n",
    "de fois que nous le souhaitons.\n",
    "\n",
    "Nous pouvons également l'incorporer dans la définition d'une autre fonction.\n",
    "\n",
    "**Exemple de fonction qui appelle une autre fonction**"
   ]
  },
  {
   "cell_type": "code",
   "execution_count": 25,
   "metadata": {},
   "outputs": [
    {
     "name": "stdout",
     "output_type": "stream",
     "text": [
      "Demat! Mont a ra ?\n",
      "Demat! Mont a ra ?\n",
      "Demat! Mont a ra ?\n"
     ]
    }
   ],
   "source": [
    "def poli():\n",
    "    for i in range(3):\n",
    "        bonjour()\n",
    "poli()"
   ]
  },
  {
   "cell_type": "markdown",
   "metadata": {},
   "source": [
    "Une première fonction peut donc appeler une deuxième fonction, qui elle-même en appelle une troisième, etc.\n",
    "\n",
    "Créer une nouvelle fonction offre l'opportunité de donner un nom à tout un ensemble d'instructions. De cette manière, on peut simplifier le corps principal d'un programme, en dissimulant un algorithme secondaire complexe sous une commande unique, à laquelle on peut donner un nom explicite.\n",
    "\n",
    "Une fonction est donc en quelque sorte une nouvelle instruction personnalisée, qu'il est possible d'ajouter librement à notre langage de programmation.\n",
    "\n",
    "### Fonction avec paramètres.\n",
    "\n",
    "#### Exemples :"
   ]
  },
  {
   "cell_type": "code",
   "execution_count": 26,
   "metadata": {},
   "outputs": [],
   "source": [
    "def bonjour(nom):\n",
    "    print(f\"Demat {nom}\")"
   ]
  },
  {
   "cell_type": "code",
   "execution_count": 27,
   "metadata": {},
   "outputs": [],
   "source": [
    "def compteur(stop):\n",
    "    for i in range(stop):\n",
    "        print(i)"
   ]
  },
  {
   "cell_type": "markdown",
   "metadata": {},
   "source": [
    "Pour tester ces fonctions, il faut les appeler avec un argument."
   ]
  },
  {
   "cell_type": "code",
   "execution_count": 28,
   "metadata": {},
   "outputs": [
    {
     "name": "stdout",
     "output_type": "stream",
     "text": [
      "Demat toto\n"
     ]
    }
   ],
   "source": [
    "bonjour(\"toto\")"
   ]
  },
  {
   "cell_type": "code",
   "execution_count": 29,
   "metadata": {},
   "outputs": [
    {
     "name": "stdout",
     "output_type": "stream",
     "text": [
      "0\n",
      "1\n",
      "2\n",
      "3\n"
     ]
    }
   ],
   "source": [
    "compteur(4)"
   ]
  },
  {
   "cell_type": "markdown",
   "metadata": {},
   "source": [
    "On peut bien sur avoir des fonctions qui appellent des fonctions"
   ]
  },
  {
   "cell_type": "code",
   "execution_count": 30,
   "metadata": {},
   "outputs": [
    {
     "name": "stdout",
     "output_type": "stream",
     "text": [
      "Demat toto\n",
      "Demat toto\n",
      "Demat toto\n"
     ]
    }
   ],
   "source": [
    "def trespoli(nbfois):\n",
    "    for i in range(nbfois):\n",
    "        bonjour(\"toto\")\n",
    "trespoli(3)"
   ]
  },
  {
   "cell_type": "markdown",
   "metadata": {},
   "source": [
    "### Utilisation d'une variable comme argument.\n",
    "\n",
    "L'argument que nous utilisons dans l'appel d'une fonction peut être une variable.\n",
    "\n",
    "#### Exemple :"
   ]
  },
  {
   "cell_type": "code",
   "execution_count": 31,
   "metadata": {},
   "outputs": [
    {
     "name": "stdout",
     "output_type": "stream",
     "text": [
      "Demat Alan Turing\n"
     ]
    }
   ],
   "source": [
    "a = \"Alan Turing\"\n",
    "bonjour(a)"
   ]
  },
  {
   "cell_type": "markdown",
   "metadata": {},
   "source": [
    "Dans l'exemple ci-dessus, l'argument que nous passons à la fonction `bonjour()` est le contenu de la variable `a`.  \n",
    "À l'intérieur de la fonction, cet argument est affecté au paramètre `stop`, qui est une tout autre variable.\n",
    "\n",
    "Notez donc bien dès à présent que :\n",
    "\n",
    "  * Le nom d'une variable que nous passons comme argument n'a rien à voir avec le nom du paramètre correspondant dans la fonction.\n",
    "  * Ces noms peuvent être identiques si vous le voulez, mais vous devez bien comprendre qu'ils ne désignent pas la même chose (en dépit du fait qu'ils puissent contenir une valeur identique).\n",
    "  \n",
    "### Fonction avec plusieurs paramètres.\n",
    "\n",
    "#### Exemples :"
   ]
  },
  {
   "cell_type": "code",
   "execution_count": 32,
   "metadata": {},
   "outputs": [
    {
     "name": "stdout",
     "output_type": "stream",
     "text": [
      "Demat Alan Turing\n",
      "Demat Ada Lovelace\n"
     ]
    }
   ],
   "source": [
    "def bonjour(prenom, nom):\n",
    "    print(f\"Demat {prenom} {nom}\")\n",
    "\n",
    "bonjour(\"Alan\",\"Turing\")\n",
    "bonjour(\"Ada\",\"Lovelace\")"
   ]
  },
  {
   "cell_type": "markdown",
   "metadata": {},
   "source": [
    "La fonction suivante utilise trois paramètres : `start` qui contient la valeur de départ, `stop` la borne supérieure exclue comme dans l'exemple précédent et `step` le pas du compteur."
   ]
  },
  {
   "cell_type": "code",
   "execution_count": 33,
   "metadata": {},
   "outputs": [
    {
     "name": "stdout",
     "output_type": "stream",
     "text": [
      "1\n",
      "3\n",
      "5\n"
     ]
    }
   ],
   "source": [
    "def compteur(start, stop, step):\n",
    "    for i in range(start, stop, step):\n",
    "        print(i)\n",
    "compteur(1, 7, 2)"
   ]
  },
  {
   "cell_type": "markdown",
   "metadata": {},
   "source": [
    "À retenir:\n",
    "\n",
    "- Pour définir une **fonction avec plusieurs paramètres**, il suffit d'inclure **les paramètres** entre les parenthèses qui suivent le nom de la fonction, en **les séparant à l'aide de virgules**.\n",
    "- Lors de l'appel de la fonction, **les arguments utilisés** doivent être fournis dans **le même ordre** que celui des paramètres correspondants (en les séparant eux aussi à l'aide de virgules).  \n",
    "Le premier argument sera affecté au premier paramètre, le second argument sera affecté au second paramètre, et ainsi de suite."
   ]
  },
  {
   "cell_type": "code",
   "execution_count": 34,
   "metadata": {},
   "outputs": [
    {
     "name": "stdout",
     "output_type": "stream",
     "text": [
      "Veuillez agréer, Monsieur Dupont, mes salutations distinguées.\n"
     ]
    }
   ],
   "source": [
    "def politesse(nom, titre =\"Monsieur\"):\n",
    "    print(f\"Veuillez agréer, {titre} {nom}, mes salutations distinguées.\")\n",
    "    \n",
    "politesse(\"Dupont\")"
   ]
  },
  {
   "cell_type": "markdown",
   "metadata": {},
   "source": [
    "### Valeurs par défaut pour les paramètres\n",
    "\n",
    "Dans la définition d'une fonction, il est possible de définir un argument par\n",
    "défaut pour chacun des paramètres. On obtient ainsi une fonction qui peut être\n",
    "appelée avec une partie seulement des arguments attendus.\n",
    "\n",
    "#### Exemples :"
   ]
  },
  {
   "cell_type": "code",
   "execution_count": 35,
   "metadata": {},
   "outputs": [
    {
     "name": "stdout",
     "output_type": "stream",
     "text": [
      "1\n",
      "2\n",
      "3\n"
     ]
    }
   ],
   "source": [
    "def compteur(start, stop, step=1):\n",
    "    for i in range(start, stop, step):\n",
    "        print(i)\n",
    "compteur(1, 4)"
   ]
  },
  {
   "cell_type": "markdown",
   "metadata": {},
   "source": [
    "Lorsque l'on appelle cette fonction en ne lui fournissant que les deux premier arguments, le troisième argument step second reçoit tout de même une valeur par défaut (ici 1). \n",
    "\n",
    "alors que sans ça, l'oublie d'un paramètre amène à une erreur comme ci-dessous."
   ]
  },
  {
   "cell_type": "code",
   "execution_count": 36,
   "metadata": {},
   "outputs": [
    {
     "ename": "TypeError",
     "evalue": "compteur_complet() missing 1 required positional argument: 'step'",
     "output_type": "error",
     "traceback": [
      "\u001b[0;31m---------------------------------------------------------------------------\u001b[0m",
      "\u001b[0;31mTypeError\u001b[0m                                 Traceback (most recent call last)",
      "\u001b[0;32m<ipython-input-36-967a8fbb213b>\u001b[0m in \u001b[0;36m<module>\u001b[0;34m\u001b[0m\n\u001b[1;32m      2\u001b[0m     \u001b[0;32mfor\u001b[0m \u001b[0mi\u001b[0m \u001b[0;32min\u001b[0m \u001b[0mrange\u001b[0m\u001b[0;34m(\u001b[0m\u001b[0mstart\u001b[0m\u001b[0;34m,\u001b[0m \u001b[0mstop\u001b[0m\u001b[0;34m,\u001b[0m \u001b[0mstep\u001b[0m\u001b[0;34m)\u001b[0m\u001b[0;34m:\u001b[0m\u001b[0;34m\u001b[0m\u001b[0;34m\u001b[0m\u001b[0m\n\u001b[1;32m      3\u001b[0m         \u001b[0mprint\u001b[0m\u001b[0;34m(\u001b[0m\u001b[0mi\u001b[0m\u001b[0;34m)\u001b[0m\u001b[0;34m\u001b[0m\u001b[0;34m\u001b[0m\u001b[0m\n\u001b[0;32m----> 4\u001b[0;31m \u001b[0mcompteur_complet\u001b[0m\u001b[0;34m(\u001b[0m\u001b[0;36m1\u001b[0m\u001b[0;34m,\u001b[0m \u001b[0;36m7\u001b[0m\u001b[0;34m)\u001b[0m\u001b[0;34m\u001b[0m\u001b[0;34m\u001b[0m\u001b[0m\n\u001b[0m",
      "\u001b[0;31mTypeError\u001b[0m: compteur_complet() missing 1 required positional argument: 'step'"
     ]
    }
   ],
   "source": [
    "def compteur_complet(start, stop, step):\n",
    "    for i in range(start, stop, step):\n",
    "        print(i)\n",
    "compteur_complet(1, 7)"
   ]
  },
  {
   "cell_type": "markdown",
   "metadata": {},
   "source": [
    "### Arguments avec étiquettes\n",
    "\n",
    "Dans la plupart des langages de programmation, les arguments que l'on fournit lors de l'appel d'une fonction doivent être fournis exactement dans le même ordre que celui des paramètres qui leur correspondent dans la définition de la\n",
    "fonction.\n",
    "\n",
    "Python autorise l'appel aux fonctions en fournissant les arguments correspondants **dans n'importe quel\n",
    "ordre, à la condition de désigner nommément les paramètres correspondants**.\n",
    "\n",
    "#### Exemple :"
   ]
  },
  {
   "cell_type": "code",
   "execution_count": 37,
   "metadata": {},
   "outputs": [
    {
     "name": "stdout",
     "output_type": "stream",
     "text": [
      "1\n",
      "3\n"
     ]
    }
   ],
   "source": [
    "def compteur_autre(start, stop, step):\n",
    "    for i in range(start, stop, step):\n",
    "        print(i)\n",
    "compteur_autre( step=2, stop=4,start=1)"
   ]
  },
  {
   "cell_type": "markdown",
   "metadata": {},
   "source": [
    "## Les fonctions avec return\n",
    "\n",
    "\n",
    "Vous avez vu en  mathématiques les fonctions pour un $x$ donnée **retournent** une valeur $f(x)$ (éventuellement).\n",
    "\n",
    "python utilise le mot clé ***return*** \n",
    "\n",
    "Par exemple pour la fonction $f: x \\longmapsto 2x+3$  on utilisera la fonction: "
   ]
  },
  {
   "cell_type": "code",
   "execution_count": 38,
   "metadata": {},
   "outputs": [
    {
     "name": "stdout",
     "output_type": "stream",
     "text": [
      "3\n",
      "5\n"
     ]
    }
   ],
   "source": [
    "def f(x):\n",
    "    return 2*x+3\n",
    "\n",
    "print(f(0))\n",
    "print(f(1))"
   ]
  },
  {
   "cell_type": "code",
   "execution_count": 39,
   "metadata": {},
   "outputs": [
    {
     "data": {
      "text/plain": [
       "int"
      ]
     },
     "execution_count": 39,
     "metadata": {},
     "output_type": "execute_result"
    }
   ],
   "source": [
    "type(f(0))"
   ]
  },
  {
   "cell_type": "markdown",
   "metadata": {},
   "source": [
    "On encore pour améliorer la lisibilité."
   ]
  },
  {
   "cell_type": "code",
   "execution_count": 40,
   "metadata": {},
   "outputs": [
    {
     "name": "stdout",
     "output_type": "stream",
     "text": [
      "f(0) = 3\n",
      "f(1) = 5\n",
      "f(2) = 7\n",
      "f(3) = 9\n",
      "f(4) = 11\n"
     ]
    }
   ],
   "source": [
    "for i in range(0,5):\n",
    "    print(f\"f({i}) = {f(i)}\")"
   ]
  },
  {
   "cell_type": "markdown",
   "metadata": {},
   "source": [
    "<h3 class='fa fa-code' style=\"color: darkorange\"> A coder vous-même - <strong>Exercice :</strong></h3>\n",
    "\n",
    "***a.*** Créer une fonction `tri3c(a,b,c)`  qui retourne les trois valeurs triées par ordre croissant\n",
    "\n",
    "Voici un algorithme possible en pseudo code.\n",
    "\n",
    "__Algorithme : Tri de 3 valeurs__  \n",
    "__entrée__ : les réels $a, b$ et $c$.\n",
    "__sortie__ : Les réels $a, b$ et $c$  trié par ordre croissant.\n",
    "\n",
    ">Fonction tri3c(a,b,c)    \n",
    ">>  __si__ a > b alors  \n",
    ">>>    on échange a et b\n",
    ">>  \n",
    ">>  __si__ b > c alors  \n",
    ">>>    on échange b et c  \n",
    ">>  \n",
    ">>  __si__ a > b alors  \n",
    ">>>    on échange a et b\n",
    "\n",
    "__Fin__"
   ]
  },
  {
   "cell_type": "code",
   "execution_count": 1,
   "metadata": {},
   "outputs": [],
   "source": [
    "# Votre code ici\n",
    "\n",
    "def tri3c(a,b,c):\n",
    "    \n",
    "    '''\n",
    "    On prend en entrée trois entiers avec les variables a, b et c.\n",
    "    Puis si a est superieur à b, on inverse les entiers rattachés aux variables.\n",
    "    Si b est superieur à c, on inverse egalement.\n",
    "    Et de nouveau on verifie si a est superieur à b, et si c'est le cas on re-inverse.\n",
    "    Enfin, on affiche un texte suivi des nombres triés dans l'ordre croissant.\n",
    "\n",
    "    '''\n",
    "    \n",
    "    \n",
    "    if a > b :\n",
    "        a = a + b\n",
    "        b = a - b\n",
    "        a = a - b\n",
    "    \n",
    "    if b > c :\n",
    "        b = b + c\n",
    "        c = b - c\n",
    "        b = b - c\n",
    "        \n",
    "    if a > b :\n",
    "        a = a + b\n",
    "        b = a - b\n",
    "        a = a - b\n",
    "        \n",
    "    \n",
    "    return f\"La suite de nombre dans l'ordre croissant est la suivante : {a}, {b}, {c}\""
   ]
  },
  {
   "cell_type": "code",
   "execution_count": 2,
   "metadata": {},
   "outputs": [
    {
     "data": {
      "text/plain": [
       "\"La suite de nombre dans l'ordre croissant est la suivante : 12, 18, 36\""
      ]
     },
     "execution_count": 2,
     "metadata": {},
     "output_type": "execute_result"
    }
   ],
   "source": [
    "tri3c(18, 36, 12)"
   ]
  },
  {
   "cell_type": "markdown",
   "metadata": {},
   "source": [
    "***b.*** Créer une fonction `tri3d(a,b,c)` qui retourne les trois valeurs triées par ordre décroissant"
   ]
  },
  {
   "cell_type": "code",
   "execution_count": 3,
   "metadata": {},
   "outputs": [],
   "source": [
    "# Votre code ici\n",
    "\n",
    "def tri3d(a,b,c):\n",
    "    \n",
    "    '''\n",
    "    On prend en entrée trois entiers avec les variables a, b et c.\n",
    "    Puis si a est inférieur à b, on inverse les entiers rattachés aux variables.\n",
    "    Si b est inférieur à c, on inverse egalement.\n",
    "    Et de nouveau on verifie si a est inférieur à b, et si c'est le cas on re-inverse.\n",
    "    Enfin, on affiche un texte suivi des nombres triés dans l'ordre décroissant.\n",
    "\n",
    "    '''\n",
    "    \n",
    "    if a < b :\n",
    "        a = a + b\n",
    "        b = a - b\n",
    "        a = a - b\n",
    "    \n",
    "    if b < c :\n",
    "        b = b + c\n",
    "        c = b - c\n",
    "        b = b - c\n",
    "        \n",
    "    if a < b :\n",
    "        a = a + b\n",
    "        b = a - b\n",
    "        a = a - b\n",
    "        \n",
    "    \n",
    "    return f\"La suite de nombre dans l'ordre decroissant est la suivante : {a}, {b}, {c}\""
   ]
  },
  {
   "cell_type": "code",
   "execution_count": 4,
   "metadata": {
    "scrolled": true
   },
   "outputs": [
    {
     "data": {
      "text/plain": [
       "\"La suite de nombre dans l'ordre decroissant est la suivante : 14, 5, 2\""
      ]
     },
     "execution_count": 4,
     "metadata": {},
     "output_type": "execute_result"
    }
   ],
   "source": [
    "tri3d(2,14,5)"
   ]
  },
  {
   "cell_type": "markdown",
   "metadata": {},
   "source": [
    "***c.*** Créer une fonction `tri3(a,b,c,reverse=False)` qui retourne les valeurs $a, b$ et $c$ triées par ordre croissant et décroissant si `reverse=True`"
   ]
  },
  {
   "cell_type": "code",
   "execution_count": 9,
   "metadata": {},
   "outputs": [],
   "source": [
    "#Version fonctionnelle mais un peu plus lourde\n",
    "\n",
    "def tri3(a,b,c,reverse=False):\n",
    "    \n",
    "    '''\n",
    "    On prend en entrée trois entiers avec les variables a, b et c, ainsi que la variable\n",
    "    reverse qui est definie par False.\n",
    "    Si reverse = True, on utilise la fonction tri3d().\n",
    "    Sinon, on utilise la fonction tri3c()\n",
    "    Enfin, on affiche un texte suivi des nombres triés dans l'ordre croissant ou \n",
    "    decroissant, defini dans chaque cas par la variable pilote.\n",
    "\n",
    "    '''\n",
    "    \n",
    "    if reverse :\n",
    "        if a < b :\n",
    "            a = a + b\n",
    "            b = a - b\n",
    "            a = a - b\n",
    "    \n",
    "        if b < c :\n",
    "            b = b + c\n",
    "            c = b - c\n",
    "            b = b - c\n",
    "        \n",
    "        if a < b :\n",
    "            a = a + b\n",
    "            b = a - b\n",
    "            a = a - b\n",
    "        \n",
    "        pilote = \"décroissant\"\n",
    "            \n",
    "            \n",
    "    else :\n",
    "        \n",
    "        if a > b :\n",
    "            a = a + b\n",
    "            b = a - b\n",
    "            a = a - b\n",
    "    \n",
    "        if b > c :\n",
    "            b = b + c\n",
    "            c = b - c\n",
    "            b = b - c\n",
    "        \n",
    "        if a > b :\n",
    "            a = a + b\n",
    "            b = a - b\n",
    "            a = a - b\n",
    "        \n",
    "        pilote = \"croissant\"\n",
    "        \n",
    "        \n",
    "    return f\"La suite de nombre dans l'ordre {pilote} est la suivante : {a}, {b}, {c}\""
   ]
  },
  {
   "cell_type": "code",
   "execution_count": 10,
   "metadata": {
    "scrolled": false
   },
   "outputs": [
    {
     "data": {
      "text/plain": [
       "\"La suite de nombre dans l'ordre croissant est la suivante : 16, 17, 29\""
      ]
     },
     "execution_count": 10,
     "metadata": {},
     "output_type": "execute_result"
    }
   ],
   "source": [
    "tri3(16, 17, 29, False)"
   ]
  },
  {
   "cell_type": "code",
   "execution_count": 9,
   "metadata": {
    "scrolled": true
   },
   "outputs": [],
   "source": [
    "# V1 mise en pause car non-fonctionnelle\n",
    "\n",
    "def tri3(a,b,c,reverse=False):\n",
    "    \n",
    "    \n",
    "    '''\n",
    "    On prend en entrée trois entiers avec les variables a, b et c, ainsi que la variable\n",
    "    reverse qui est definie par False.\n",
    "    Si reverse = True, on utilise la fonction tri3d().\n",
    "    Sinon, on utilise la fonction tri3c()\n",
    "    Enfin, on affiche un texte suivi des nombres triés dans l'ordre croissant ou \n",
    "    decroissant, defini dans chaque cas par la variable pilote.\n",
    "\n",
    "    '''\n",
    "\n",
    "    \n",
    "    if reverse :\n",
    "        tri = tri3d(a,b,c)\n",
    "        pilote = \"décroissant\"\n",
    "    \n",
    "    else :\n",
    "        tri = tri3c(a,b,c)\n",
    "        pilote = \"croissant\"\n",
    "        \n",
    "    return f\"La suite de nombre dans l'ordre {pilote} est la suivante : {tri[0]}, {tri[1]}, {tri[2]}\""
   ]
  },
  {
   "cell_type": "code",
   "execution_count": 30,
   "metadata": {},
   "outputs": [
    {
     "name": "stdout",
     "output_type": "stream",
     "text": [
      "Help on function tri3 in module __main__:\n",
      "\n",
      "tri3(a, b, c, reverse=False)\n",
      "    On prend en entrée trois entiers avec les variables a, b et c, ainsi que la variable\n",
      "    reverse qui est definie par False.\n",
      "    Si reverse = True, on utilise la fonction tri3d().\n",
      "    Sinon, on utilise la fonction tri3c()\n",
      "    Enfin, on affiche un texte suivi des nombres triés dans l'ordre croissant ou decroissant.\n",
      "\n"
     ]
    }
   ],
   "source": [
    "help(tri3)"
   ]
  },
  {
   "cell_type": "markdown",
   "metadata": {},
   "source": [
    "## Modules :\n",
    "\n",
    "### Importer les fonctions d'un module :\n",
    "\n",
    "Un module est un fichier qui rassemble le code de fonctions et des variables qui ont généralement un rapport entre elles.\n",
    "\n",
    "Il existe différentes méthodes pour importer un module afin d'utiliser ses fonctions et ses variables :"
   ]
  },
  {
   "cell_type": "code",
   "execution_count": 1,
   "metadata": {},
   "outputs": [],
   "source": [
    "import math"
   ]
  },
  {
   "cell_type": "markdown",
   "metadata": {},
   "source": [
    "Toutes les fonctions contenues dans ce module sont maintenant accessibles dans ce carnet.\n",
    "\n",
    "La fonction ``help()`` permet alors d'accéder à la documentation de ce module :"
   ]
  },
  {
   "cell_type": "code",
   "execution_count": 2,
   "metadata": {},
   "outputs": [
    {
     "name": "stdout",
     "output_type": "stream",
     "text": [
      "Help on built-in module math:\n",
      "\n",
      "NAME\n",
      "    math\n",
      "\n",
      "DESCRIPTION\n",
      "    This module is always available.  It provides access to the\n",
      "    mathematical functions defined by the C standard.\n",
      "\n",
      "FUNCTIONS\n",
      "    acos(x, /)\n",
      "        Return the arc cosine (measured in radians) of x.\n",
      "    \n",
      "    acosh(x, /)\n",
      "        Return the inverse hyperbolic cosine of x.\n",
      "    \n",
      "    asin(x, /)\n",
      "        Return the arc sine (measured in radians) of x.\n",
      "    \n",
      "    asinh(x, /)\n",
      "        Return the inverse hyperbolic sine of x.\n",
      "    \n",
      "    atan(x, /)\n",
      "        Return the arc tangent (measured in radians) of x.\n",
      "    \n",
      "    atan2(y, x, /)\n",
      "        Return the arc tangent (measured in radians) of y/x.\n",
      "        \n",
      "        Unlike atan(y/x), the signs of both x and y are considered.\n",
      "    \n",
      "    atanh(x, /)\n",
      "        Return the inverse hyperbolic tangent of x.\n",
      "    \n",
      "    ceil(x, /)\n",
      "        Return the ceiling of x as an Integral.\n",
      "        \n",
      "        This is the smallest integer >= x.\n",
      "    \n",
      "    copysign(x, y, /)\n",
      "        Return a float with the magnitude (absolute value) of x but the sign of y.\n",
      "        \n",
      "        On platforms that support signed zeros, copysign(1.0, -0.0)\n",
      "        returns -1.0.\n",
      "    \n",
      "    cos(x, /)\n",
      "        Return the cosine of x (measured in radians).\n",
      "    \n",
      "    cosh(x, /)\n",
      "        Return the hyperbolic cosine of x.\n",
      "    \n",
      "    degrees(x, /)\n",
      "        Convert angle x from radians to degrees.\n",
      "    \n",
      "    erf(x, /)\n",
      "        Error function at x.\n",
      "    \n",
      "    erfc(x, /)\n",
      "        Complementary error function at x.\n",
      "    \n",
      "    exp(x, /)\n",
      "        Return e raised to the power of x.\n",
      "    \n",
      "    expm1(x, /)\n",
      "        Return exp(x)-1.\n",
      "        \n",
      "        This function avoids the loss of precision involved in the direct evaluation of exp(x)-1 for small x.\n",
      "    \n",
      "    fabs(x, /)\n",
      "        Return the absolute value of the float x.\n",
      "    \n",
      "    factorial(x, /)\n",
      "        Find x!.\n",
      "        \n",
      "        Raise a ValueError if x is negative or non-integral.\n",
      "    \n",
      "    floor(x, /)\n",
      "        Return the floor of x as an Integral.\n",
      "        \n",
      "        This is the largest integer <= x.\n",
      "    \n",
      "    fmod(x, y, /)\n",
      "        Return fmod(x, y), according to platform C.\n",
      "        \n",
      "        x % y may differ.\n",
      "    \n",
      "    frexp(x, /)\n",
      "        Return the mantissa and exponent of x, as pair (m, e).\n",
      "        \n",
      "        m is a float and e is an int, such that x = m * 2.**e.\n",
      "        If x is 0, m and e are both 0.  Else 0.5 <= abs(m) < 1.0.\n",
      "    \n",
      "    fsum(seq, /)\n",
      "        Return an accurate floating point sum of values in the iterable seq.\n",
      "        \n",
      "        Assumes IEEE-754 floating point arithmetic.\n",
      "    \n",
      "    gamma(x, /)\n",
      "        Gamma function at x.\n",
      "    \n",
      "    gcd(x, y, /)\n",
      "        greatest common divisor of x and y\n",
      "    \n",
      "    hypot(x, y, /)\n",
      "        Return the Euclidean distance, sqrt(x*x + y*y).\n",
      "    \n",
      "    isclose(a, b, *, rel_tol=1e-09, abs_tol=0.0)\n",
      "        Determine whether two floating point numbers are close in value.\n",
      "        \n",
      "          rel_tol\n",
      "            maximum difference for being considered \"close\", relative to the\n",
      "            magnitude of the input values\n",
      "          abs_tol\n",
      "            maximum difference for being considered \"close\", regardless of the\n",
      "            magnitude of the input values\n",
      "        \n",
      "        Return True if a is close in value to b, and False otherwise.\n",
      "        \n",
      "        For the values to be considered close, the difference between them\n",
      "        must be smaller than at least one of the tolerances.\n",
      "        \n",
      "        -inf, inf and NaN behave similarly to the IEEE 754 Standard.  That\n",
      "        is, NaN is not close to anything, even itself.  inf and -inf are\n",
      "        only close to themselves.\n",
      "    \n",
      "    isfinite(x, /)\n",
      "        Return True if x is neither an infinity nor a NaN, and False otherwise.\n",
      "    \n",
      "    isinf(x, /)\n",
      "        Return True if x is a positive or negative infinity, and False otherwise.\n",
      "    \n",
      "    isnan(x, /)\n",
      "        Return True if x is a NaN (not a number), and False otherwise.\n",
      "    \n",
      "    ldexp(x, i, /)\n",
      "        Return x * (2**i).\n",
      "        \n",
      "        This is essentially the inverse of frexp().\n",
      "    \n",
      "    lgamma(x, /)\n",
      "        Natural logarithm of absolute value of Gamma function at x.\n",
      "    \n",
      "    log(...)\n",
      "        log(x, [base=math.e])\n",
      "        Return the logarithm of x to the given base.\n",
      "        \n",
      "        If the base not specified, returns the natural logarithm (base e) of x.\n",
      "    \n",
      "    log10(x, /)\n",
      "        Return the base 10 logarithm of x.\n",
      "    \n",
      "    log1p(x, /)\n",
      "        Return the natural logarithm of 1+x (base e).\n",
      "        \n",
      "        The result is computed in a way which is accurate for x near zero.\n",
      "    \n",
      "    log2(x, /)\n",
      "        Return the base 2 logarithm of x.\n",
      "    \n",
      "    modf(x, /)\n",
      "        Return the fractional and integer parts of x.\n",
      "        \n",
      "        Both results carry the sign of x and are floats.\n",
      "    \n",
      "    pow(x, y, /)\n",
      "        Return x**y (x to the power of y).\n",
      "    \n",
      "    radians(x, /)\n",
      "        Convert angle x from degrees to radians.\n",
      "    \n",
      "    remainder(x, y, /)\n",
      "        Difference between x and the closest integer multiple of y.\n",
      "        \n",
      "        Return x - n*y where n*y is the closest integer multiple of y.\n",
      "        In the case where x is exactly halfway between two multiples of\n",
      "        y, the nearest even value of n is used. The result is always exact.\n",
      "    \n",
      "    sin(x, /)\n",
      "        Return the sine of x (measured in radians).\n",
      "    \n",
      "    sinh(x, /)\n",
      "        Return the hyperbolic sine of x.\n",
      "    \n",
      "    sqrt(x, /)\n",
      "        Return the square root of x.\n",
      "    \n",
      "    tan(x, /)\n",
      "        Return the tangent of x (measured in radians).\n",
      "    \n",
      "    tanh(x, /)\n",
      "        Return the hyperbolic tangent of x.\n",
      "    \n",
      "    trunc(x, /)\n",
      "        Truncates the Real x to the nearest Integral toward 0.\n",
      "        \n",
      "        Uses the __trunc__ magic method.\n",
      "\n",
      "DATA\n",
      "    e = 2.718281828459045\n",
      "    inf = inf\n",
      "    nan = nan\n",
      "    pi = 3.141592653589793\n",
      "    tau = 6.283185307179586\n",
      "\n",
      "FILE\n",
      "    (built-in)\n",
      "\n",
      "\n"
     ]
    }
   ],
   "source": [
    "help(math)"
   ]
  },
  {
   "cell_type": "markdown",
   "metadata": {},
   "source": [
    "Pour appeler une fonction du module, il faut taper le nom du module suivi d'un point « . » puis du nom de la fonction :"
   ]
  },
  {
   "cell_type": "code",
   "execution_count": 3,
   "metadata": {},
   "outputs": [
    {
     "data": {
      "text/plain": [
       "5.0"
      ]
     },
     "execution_count": 3,
     "metadata": {},
     "output_type": "execute_result"
    }
   ],
   "source": [
    "math.sqrt(25)"
   ]
  },
  {
   "cell_type": "markdown",
   "metadata": {},
   "source": [
    "La fonction ``help()`` affiche alors la docstring de cette fonction :"
   ]
  },
  {
   "cell_type": "code",
   "execution_count": 4,
   "metadata": {},
   "outputs": [
    {
     "name": "stdout",
     "output_type": "stream",
     "text": [
      "Help on built-in function sqrt in module math:\n",
      "\n",
      "sqrt(x, /)\n",
      "    Return the square root of x.\n",
      "\n"
     ]
    }
   ],
   "source": [
    "help(math.sqrt)"
   ]
  },
  {
   "cell_type": "markdown",
   "metadata": {},
   "source": [
    "On peut aussi n'importer qu'une fonction d'un module et même lui attribuer un nom personalisé (un alias) :"
   ]
  },
  {
   "cell_type": "code",
   "execution_count": 5,
   "metadata": {},
   "outputs": [
    {
     "data": {
      "text/plain": [
       "5.0"
      ]
     },
     "execution_count": 5,
     "metadata": {},
     "output_type": "execute_result"
    }
   ],
   "source": [
    "from math import sqrt as rc\n",
    "rc(25)"
   ]
  },
  {
   "cell_type": "markdown",
   "metadata": {},
   "source": [
    "> D'une manière générale, et surtout lorsqu'on importe plusieurs modules différents dans le même programme, il faut éviter de faire `from math import *`pour ne pas risquer d'avoir des conflits de nom de fonction.\n",
    "\n",
    "### Créer un module personalisé :\n",
    "\n",
    "Dans le dossier qui contient ce carnet jupyter, créer un nouveau fichier texte et le nommer ``mon_module.py``.\n",
    "\n",
    "Copier puis coller le code suivant de la fonction `affiche_moyenne()` dans ce fichier et l'enregistrer.\n",
    "\n",
    "````Python\n",
    "def affiche_moyenne(prenom : str, note1 : float, note2 : float, note3 : float) -> str :\n",
    "    \"\"\"\n",
    "    ==================================================================================================================\n",
    "    \n",
    "       * Description : \n",
    "          Je calcule la moyenne de 3 notes sur 20 d'un élève et renvoie le résultat formaté pour un affichage de texte ;\n",
    "                        \n",
    "       * Exemple :\n",
    "            >>> affiche_moyenne(\"Boris\", 9,7.5,12)\n",
    "            'La moyenne de Boris est 9.5.'\n",
    "                    \n",
    "       * Préconditions :\n",
    "            - prenom (str) : une chaine de caractères identifiant de l'élève ;\n",
    "            - note_ (float) : un nombre entier ou flottant compris entre 0 et 20 inclus ;\n",
    "                    \n",
    "       * Postconditions :\n",
    "            (str) : une chaine de caractère formatée contenant l'identifiant de l'élève et sa moyenne calculée.\n",
    "        \n",
    "    ==================================================================================================================\n",
    "    \"\"\"\n",
    "    # Assertions de vérification des préconditions :\n",
    "    assert type(prenom) == str  , \"La valeur du premier argument doit être une chaine de caractères identifiant l'élève\"\n",
    "    assert note1 >= 0.0  , \"Le second argument est une note comprise entre 0 et 20 inclus\"\n",
    "    assert note1 <= 20.0  , \"Le second argument est une note comprise entre 0 et 20 inclus\"\n",
    "    \n",
    "    \n",
    "    # bloc d'instructions :\n",
    "    moyenne=(note1+note2+note3)/3\n",
    "    return f\"La moyenne de {prenom} est {moyenne}.\"\n",
    "````\n",
    "\n",
    "Dans ce carnet, exécuter alors les cellules suivantes :"
   ]
  },
  {
   "cell_type": "code",
   "execution_count": 24,
   "metadata": {},
   "outputs": [],
   "source": [
    "import mon_module"
   ]
  },
  {
   "cell_type": "code",
   "execution_count": 25,
   "metadata": {},
   "outputs": [
    {
     "data": {
      "text/plain": [
       "'La moyenne de Toto est 19.0.'"
      ]
     },
     "execution_count": 25,
     "metadata": {},
     "output_type": "execute_result"
    }
   ],
   "source": [
    "mon_module.affiche_moyenne(\"Toto\", 20, 17, 20)"
   ]
  },
  {
   "cell_type": "code",
   "execution_count": 26,
   "metadata": {},
   "outputs": [
    {
     "name": "stdout",
     "output_type": "stream",
     "text": [
      "Help on module mon_module:\n",
      "\n",
      "NAME\n",
      "    mon_module\n",
      "\n",
      "FUNCTIONS\n",
      "    affiche_moyenne(prenom: str, note1: float, note2: float, note3: float) -> str\n",
      "        ==================================================================================================================\n",
      "        \n",
      "           * Description : \n",
      "              Je calcule la moyenne de 3 notes sur 20 d'un élève et renvoie le résultat formaté pour un affichage de texte ;\n",
      "        \n",
      "           * Exemple :\n",
      "                >>> affiche_moyenne(\"Boris\", 9,7.5,12)\n",
      "                'La moyenne de Boris est 9.5.'\n",
      "        \n",
      "           * Préconditions :\n",
      "                - prenom (str) : une chaine de caractères identifiant de l'élève ;\n",
      "                - note_ (float) : un nombre entier ou flottant compris entre 0 et 20 inclus ;\n",
      "        \n",
      "           * Postconditions :\n",
      "                (str) : une chaine de caractère formatée contenant l'identifiant de l'élève et sa moyenne calculée.\n",
      "        \n",
      "        ==================================================================================================================\n",
      "\n",
      "FILE\n",
      "    /private/var/mobile/Containers/Data/Application/B76D8C5F-E6EA-4514-A53C-CA2103E8EFB4/Documents/NSI/2021:2022/mon_module.py\n",
      "\n",
      "\n"
     ]
    }
   ],
   "source": [
    "help(mon_module)"
   ]
  },
  {
   "cell_type": "code",
   "execution_count": 27,
   "metadata": {},
   "outputs": [
    {
     "data": {
      "text/plain": [
       "'La moyenne de Titi est 12.0.'"
      ]
     },
     "execution_count": 27,
     "metadata": {},
     "output_type": "execute_result"
    }
   ],
   "source": [
    "from mon_module import affiche_moyenne as moy\n",
    "moy(\"Titi\", 12, 9, 15)"
   ]
  },
  {
   "cell_type": "code",
   "execution_count": 28,
   "metadata": {},
   "outputs": [
    {
     "ename": "SyntaxError",
     "evalue": "invalid syntax (<ipython-input-28-56b214c59f61>, line 1)",
     "output_type": "error",
     "traceback": [
      "\u001b[0;36m  File \u001b[0;32m\"<ipython-input-28-56b214c59f61>\"\u001b[0;36m, line \u001b[0;32m1\u001b[0m\n\u001b[0;31m    moy? # affiche l'aide de la fonction\u001b[0m\n\u001b[0m       ^\u001b[0m\n\u001b[0;31mSyntaxError\u001b[0m\u001b[0;31m:\u001b[0m invalid syntax\n"
     ]
    }
   ],
   "source": [
    "moy? # affiche l'aide de la fonction"
   ]
  },
  {
   "cell_type": "code",
   "execution_count": 29,
   "metadata": {},
   "outputs": [
    {
     "ename": "SyntaxError",
     "evalue": "invalid syntax (<ipython-input-29-8a8a0ed4fd2e>, line 1)",
     "output_type": "error",
     "traceback": [
      "\u001b[0;36m  File \u001b[0;32m\"<ipython-input-29-8a8a0ed4fd2e>\"\u001b[0;36m, line \u001b[0;32m1\u001b[0m\n\u001b[0;31m    moy?? ## affiche le code source de la fonction\u001b[0m\n\u001b[0m       ^\u001b[0m\n\u001b[0;31mSyntaxError\u001b[0m\u001b[0;31m:\u001b[0m invalid syntax\n"
     ]
    }
   ],
   "source": [
    "moy?? ## affiche le code source de la fonction"
   ]
  },
  {
   "cell_type": "markdown",
   "metadata": {},
   "source": [
    "Toutes les fonctions qui sont contenues dans le fichier ``mon_module.py`` seront accessibles après `import` dans tout carnet jupyter ouvert depuis le dossier du fichier ``mon_module.py``... "
   ]
  },
  {
   "cell_type": "markdown",
   "metadata": {},
   "source": [
    "****\n",
    "## Références aux programmes :\n",
    "\n",
    "<style type=\"text/css\">\n",
    ".tg  {border-collapse:collapse;border-spacing:0;}\n",
    ".tg td{font-family:Arial, sans-serif;font-size:14px;padding:10px 5px;border-style:solid;border-width:1px;overflow:hidden;word-break:normal;border-color:black;}\n",
    ".tg th{font-family:Arial, sans-serif;font-size:14px;font-weight:normal;padding:10px 5px;border-style:solid;border-width:1px;overflow:hidden;word-break:normal;border-color:black;}\n",
    ".tg .tg-cv16{font-weight:bold;background-color:#dae8fc;border-color:inherit;text-align:center}\n",
    ".tg .tg-xldj{border-color:inherit;text-align:left}\n",
    "</style>\n",
    "<table class=\"tg\">\n",
    "  <tr>\n",
    "    <th class=\"tg-cv16\">Contenus</th>\n",
    "    <th class=\"tg-cv16\">Capacités attendues</th>\n",
    "    <th class=\"tg-cv16\">Commentaires</th>\n",
    "  </tr>\n",
    "  <tr>\n",
    "    <td class=\"tg-xldj\">Spécification.</td>\n",
    "    <td class=\"tg-xldj\">Prototyper une fonction.<br>Décrire les préconditions sur les arguments.<br>Décrire des postconditions sur les résultats.</td>\n",
    "    <td class=\"tg-xldj\">Des assertions peuvent être utilisées pour garantir des préconditions ou des postconditions.</td>\n",
    "  </tr>\n",
    "  <tr>\n",
    "    <td class=\"tg-xldj\">Mise au point de programmes</td>\n",
    "    <td class=\"tg-xldj\">Utiliser des jeux de tests.</td>\n",
    "    <td class=\"tg-xldj\">L’importance de la qualité et du nombre des tests est mise en évidence.<br>Le succès d’un jeu de tests ne garantit pas la correction d’un programme.</td>\n",
    "  </tr>\n",
    "  <tr>\n",
    "    <td class=\"tg-xldj\">Utilisation de bibliothèques</td>\n",
    "    <td class=\"tg-xldj\">Utiliser la documentation d’une bibliothèque.</td>\n",
    "    <td class=\"tg-xldj\">Aucune connaissance exhaustive d’une bibliothèque particulière n’est exigible.</td>\n",
    "  </tr>  \n",
    "</table>"
   ]
  },
  {
   "cell_type": "markdown",
   "metadata": {},
   "source": [
    "<a rel=\"license\" href=\"http://creativecommons.org/licenses/by-sa/4.0/\"><img alt=\"Licence Creative Commons\" style=\"border-width:0\" src=\"https://i.creativecommons.org/l/by-sa/4.0/88x31.png\" /></a><br />Ce document est basé sur un travail partagé par Jean-Claude MEILLAND, il est mis à disposition selon les termes de la <a rel=\"license\" href=\"http://creativecommons.org/licenses/by-sa/4.0/\">Licence Creative Commons Attribution -  Partage dans les Mêmes Conditions 4.0 International</a>.\n",
    "\n",
    "Pour toute question, suggestion ou commentaire : <a href=\"mailto:eric.madec@ecmorlaix.fr\">eric.madec@ecmorlaix.fr</a>"
   ]
  }
 ],
 "metadata": {
  "kernelspec": {
   "display_name": "Python 3",
   "language": "python",
   "name": "python3"
  },
  "language_info": {
   "codemirror_mode": {
    "name": "ipython",
    "version": 3
   },
   "file_extension": ".py",
   "mimetype": "text/x-python",
   "name": "python",
   "nbconvert_exporter": "python",
   "pygments_lexer": "ipython3",
   "version": "3.7.1"
  },
  "toc": {
   "base_numbering": 1,
   "nav_menu": {},
   "number_sections": true,
   "sideBar": true,
   "skip_h1_title": false,
   "title_cell": "Table of Contents",
   "title_sidebar": "Contents",
   "toc_cell": false,
   "toc_position": {},
   "toc_section_display": true,
   "toc_window_display": false
  },
  "varInspector": {
   "cols": {
    "lenName": 16,
    "lenType": 16,
    "lenVar": 40
   },
   "kernels_config": {
    "python": {
     "delete_cmd_postfix": "",
     "delete_cmd_prefix": "del ",
     "library": "var_list.py",
     "varRefreshCmd": "print(var_dic_list())"
    },
    "r": {
     "delete_cmd_postfix": ") ",
     "delete_cmd_prefix": "rm(",
     "library": "var_list.r",
     "varRefreshCmd": "cat(var_dic_list()) "
    }
   },
   "types_to_exclude": [
    "module",
    "function",
    "builtin_function_or_method",
    "instance",
    "_Feature"
   ],
   "window_display": false
  }
 },
 "nbformat": 4,
 "nbformat_minor": 2
}
