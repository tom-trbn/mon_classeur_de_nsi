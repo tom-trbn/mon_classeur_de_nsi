{
 "cells": [
  {
   "cell_type": "markdown",
   "metadata": {},
   "source": [
    "<center><h1>Le BN des bases de programmation avec Python 3 :</h1></center>"
   ]
  },
  {
   "cell_type": "markdown",
   "metadata": {},
   "source": [
    "Nous avons découvert les bases de la programmation en Python 3 en nous appuyant sur les activités de la rubrique Cours et Problèmes proposées par [FranceIOI](http://www.france-ioi.org/algo/chapters.php).\n",
    "\n",
    "Voici l'essentiel à retenir..."
   ]
  },
  {
   "cell_type": "markdown",
   "metadata": {},
   "source": [
    "***  \n",
    "> Ce document est un notebook jupyter, si vous n'êtes pas familiarisé avec cet environnement, regardez cette [Introduction](Introduction-Le_BN_pour_explorer.ipynb).  \n",
    "\n",
    ">Les cellules si dessous sont éditables et exécutables. Vous pouvez exécuter une cellule à l'aide du bouton <button class='fa fa-step-forward icon-step-forward btn btn-xs btn-default'></button> ou en utilisant le menu **`Cell>Run...`** ou encore en vous servant des touches :\n",
    "* **`<Maj+Entrée>`** : le code de la cellule est exécuté et le curseur va à la cellule suivante.\n",
    "* **`<Ctrl+Entrée>`** : le code de la cellule est exécuté et le curseur reste sur la même cellule.\n",
    "* **`<Alt+Entrée>`** : le code de la cellule est exécuté et le notebook crée une nouvelle cellule immédiatement après.\n",
    "\n",
    ">Vous pouvez également ajouter une nouvelle cellule à l'aide du bouton <button class='fa fa-plus icon-plus btn btn-xs btn-default'></button>.\n",
    "\n",
    "> Un des avantages principaux des notebooks est de vous permettre de modifier le code que nous avons écrit, et de voir par vous-même comment se comporte le code modifié.  \n",
    "Pour cette raison chaque élève dispose de sa **propre copie** de chaque notebook, ainsi vous pouvez bien sûr apporter toutes les modifications que vous souhaitez à vos notebooks sans affecter ceux des autres élèves et revenir à la version originale en rechargeant un notebook à partir du lien fourni.\n",
    "\n",
    "***"
   ]
  },
  {
   "cell_type": "markdown",
   "metadata": {},
   "source": [
    "## Généralité :\n",
    "[Python](https://fr.wikipedia.org/wiki/Python_(langage)) est un langage de programmation moderne imaginé par [Guido Van Rossum](https://fr.wikipedia.org/wiki/Guido_van_Rossum) , [multi-plateforme](https://fr.wikipedia.org/wiki/Logiciel_multiplate-forme), [open-source](https://fr.wikipedia.org/wiki/Open_source), [généraliste](https://fr.wikipedia.org/wiki/Langage_d%C3%A9di%C3%A9), [orienté objet](https://fr.wikipedia.org/wiki/Programmation_orient%C3%A9e_objet) et de [haut niveau](https://fr.wikipedia.org/wiki/Langage_de_haut_niveau).\n",
    "\n",
    "![Guido Van Rossum](https://upload.wikimedia.org/wikipedia/commons/thumb/e/e2/Guido-portrait-2014-drc.jpg/390px-Guido-portrait-2014-drc.jpg)\n",
    "\n",
    "> Python n'a rien à voir avec le reptile du même nom, mais avec le groupe d'humoristes anglais des années 1970 [Monty Python](https://fr.wikipedia.org/wiki/Monty_Python).\n",
    "\n",
    "C'est un langage à la fois simple et puissant :\n",
    "\n",
    "* simple car facile à apprendre, son code est réputé concis et clair, sa syntaxe est très proche d'une notation algorithmique, base de toute programmation.\n",
    "\n",
    "* puissant car il possède une importante bibliothèque standard et un très grand nombre de paquets complémentaires dédiés au calcul scientifique et aussi pour de nombreux autres domaines d'application. C'est le langage retenu en Classe Préparatoire aux Grandes Ecoles...\n",
    "\n",
    "> Python est considéré comme un langage de conception rapide (Rapid Application Development).\n",
    "\n",
    "C'est un langage **interprété** : pas besoin de compiler tout le programme source en code machine pour l'exécuter. L'interpréteur Python lit et exécute ligne après ligne un script codé en Python. Ce qui est un très gros avantage pour l'apprentissage d'un langage informatique car on peut tester progressivement des portions de code au cours du développement d'un programme plus complet.  \n",
    "\n",
    "Ceci est particulièrement favorisé dans un jupyter notebook qui permet d'exécuter du code cellule après cellule.  \n",
    "**Mais attention, il est important que les cellules de code soient évaluées dans le bon ordre. Si vous ne respectez pas l'ordre dans lequel les cellules de code sont présentées, le résultat peut être inattendu.**  \n",
    "On rappelle que la façon habituelle de lire l'ensemble du notebook consiste à partir de la première cellule de code à taper **`<Maj+Entrée>`** jusqu'à la fin du notebook, de sorte à bien évaluer toutes les cellules de code.  \n",
    "En fait, évaluer un programme sous forme de notebook revient à le découper en petits fragments, et si on exécute ces fragments dans le désordre, on obtient naturellement le résultat d'un programme différent."
   ]
  },
  {
   "cell_type": "markdown",
   "metadata": {},
   "source": [
    "## Entrée **In[ ]:** et Sortie **Out[ ]:** :\n",
    "\n",
    "En appuyant sur les touches **`<Maj+Entrée>`** (ou en cliquant sur le bouton <button class='fa fa-step-forward icon-step-forward btn btn-xs btn-default'></button>, ou encore en utilisant dans le menu **`Cell>Run and Select Below...`**) celà a pour effet **d'exécuter le code** Python de la cellule sélectionnée.\n",
    "\n",
    "<h3 class='fa fa-cogs' style=\"color: MediumSeaGreen\"> Essayez vous-même : </h3>"
   ]
  },
  {
   "cell_type": "code",
   "execution_count": 1,
   "metadata": {},
   "outputs": [
    {
     "data": {
      "text/plain": [
       "2"
      ]
     },
     "execution_count": 1,
     "metadata": {},
     "output_type": "execute_result"
    }
   ],
   "source": [
    "1+1"
   ]
  },
  {
   "cell_type": "code",
   "execution_count": 2,
   "metadata": {},
   "outputs": [
    {
     "data": {
      "text/plain": [
       "'Bonjour ! '"
      ]
     },
     "execution_count": 2,
     "metadata": {},
     "output_type": "execute_result"
    }
   ],
   "source": [
    "\"Bonjour ! \""
   ]
  },
  {
   "cell_type": "markdown",
   "metadata": {},
   "source": [
    "Une ligne **Out[ ]:** apparait en dessous des instructions de code, affichant le résultat de celles-ci en sortie...\n",
    "\n",
    "On peut rappeler le résultat de la dernière sortie dans la cellule suivante et le réutiliser ainsi :"
   ]
  },
  {
   "cell_type": "code",
   "execution_count": 3,
   "metadata": {},
   "outputs": [
    {
     "data": {
      "text/plain": [
       "'Bonjour ! '"
      ]
     },
     "execution_count": 3,
     "metadata": {},
     "output_type": "execute_result"
    }
   ],
   "source": [
    "_"
   ]
  },
  {
   "cell_type": "code",
   "execution_count": 4,
   "metadata": {},
   "outputs": [
    {
     "data": {
      "text/plain": [
       "'Bonjour ! Bonjour ! '"
      ]
     },
     "execution_count": 4,
     "metadata": {},
     "output_type": "execute_result"
    }
   ],
   "source": [
    "_ * 2"
   ]
  },
  {
   "cell_type": "markdown",
   "metadata": {},
   "source": [
    "On peut rappeler le résultat d'une sortie particulière dans une autre cellule pour le réutiliser :"
   ]
  },
  {
   "cell_type": "code",
   "execution_count": 6,
   "metadata": {},
   "outputs": [
    {
     "data": {
      "text/plain": [
       "'Bonjour ! Bonjour ! Bonjour ! Bonjour ! '"
      ]
     },
     "execution_count": 6,
     "metadata": {},
     "output_type": "execute_result"
    }
   ],
   "source": [
    "Out[4] * 2"
   ]
  },
  {
   "cell_type": "markdown",
   "metadata": {},
   "source": [
    "## Les Commentaires :\n",
    "Lorsque l'on rédige un programme informatique il est essentiel de le commenter, pour cela en Python on utilise le caractère **`#`** qui permet d'indiquer que tous les caractères suivants sur la même ligne ne doivent pas être interprétés comme du code d'instruction :"
   ]
  },
  {
   "cell_type": "code",
   "execution_count": 7,
   "metadata": {},
   "outputs": [
    {
     "data": {
      "text/plain": [
       "'Bonjour ! Bonjour ! '"
      ]
     },
     "execution_count": 7,
     "metadata": {},
     "output_type": "execute_result"
    }
   ],
   "source": [
    "##########################################\n",
    "#   Un programme pour saluer doublement  #\n",
    "##########################################\n",
    "Out[2] * Out[1]\n",
    "# Décommenter l'instruction précédente..."
   ]
  },
  {
   "cell_type": "markdown",
   "metadata": {},
   "source": [
    "><u>Remarque</u>: Le simple fait d'ajouter un **`#`** permet de désactiver une ligne d'instruction sans avoir à l'effacer. Elle ne sera donc pas prise en compte par Python lors de l'exécution du programme. Aussi, il suffira de la décommenter en enlevant ce **`#`** pour la réactiver plus tard si besoin...\n",
    ">\n",
    "> Pour cela on peut utiliser la combinaison de touches **`<Ctrl+/>`**.\n",
    "\n",
    "<h3 class='fa fa-cogs' style=\"color: MediumSeaGreen\"> Essayez vous-même : </h3>\n",
    "\n",
    "- Décommenter l'instruction `Out[2] * Out[1]`\n"
   ]
  },
  {
   "cell_type": "markdown",
   "metadata": {},
   "source": [
    "##  Variables :"
   ]
  },
  {
   "cell_type": "markdown",
   "metadata": {},
   "source": [
    "Dans la mémoire vive de notre ordinateur, nous créons des boîtes (les variables) dans lesquelles nous mettons des valeurs :"
   ]
  },
  {
   "cell_type": "code",
   "execution_count": 3,
   "metadata": {},
   "outputs": [],
   "source": [
    "maPremiereVariable='Hello World!'"
   ]
  },
  {
   "cell_type": "markdown",
   "metadata": {},
   "source": [
    "Pour déclarer une variable en Python, il suffit de la nommer directement (sans autre mot clé comme var, int, contrairement à d'autres langages).  \n",
    "Pour affecter une valeur à la variable on utilise l'opérateur d'affectation **`=`** et Python lui attribue de façon dynamique un **type** correspondant à cette valeur.\n",
    "\n",
    "> Depuis  le menu **``Edit > nbextensions config``** cocher la case **``Variable Inspector``** puis dans le menu du notebook cliquer sur le bouton <button class='fa fa-crosshairs icon-crosshairs btn btn-xs btn-default'></button> pour faire apparaitre la fenêtre de suivie des variables.\n",
    "\n",
    "> Contrairement à Python ou JavaScript qui ont un typage **dynamique**, certains langages ont un typage **statique**, c’est à dire qu’il faut indiquer le type de chaque variable avant de l’utiliser. C’est le cas en Java ou en C par exemple : ``int a = 5;``."
   ]
  },
  {
   "cell_type": "markdown",
   "metadata": {},
   "source": [
    "Le premier programme qu'écrit tout apprentis programmeur est le fameux [\"Hello World!\"](https://fr.wikipedia.org/wiki/Hello_world), pour ce faire, exécutez ces deux premières intructions précédente puis suivante :"
   ]
  },
  {
   "cell_type": "code",
   "execution_count": 4,
   "metadata": {},
   "outputs": [
    {
     "data": {
      "text/plain": [
       "'Hello World!'"
      ]
     },
     "execution_count": 4,
     "metadata": {},
     "output_type": "execute_result"
    }
   ],
   "source": [
    "maPremiereVariable"
   ]
  },
  {
   "cell_type": "markdown",
   "metadata": {},
   "source": [
    "<h3 class='fa fa-graduation-cap' style=\"color: darkorange\"> Permutation de variables : </h3>\n",
    "\n",
    "Soit les variables `a` et `b` telles que :"
   ]
  },
  {
   "cell_type": "code",
   "execution_count": 4,
   "metadata": {},
   "outputs": [],
   "source": [
    "a = 5\n",
    "b = 'toto'"
   ]
  },
  {
   "cell_type": "code",
   "execution_count": 5,
   "metadata": {},
   "outputs": [
    {
     "data": {
      "text/plain": [
       "5"
      ]
     },
     "execution_count": 5,
     "metadata": {},
     "output_type": "execute_result"
    }
   ],
   "source": [
    "a"
   ]
  },
  {
   "cell_type": "code",
   "execution_count": 6,
   "metadata": {},
   "outputs": [
    {
     "data": {
      "text/plain": [
       "'toto'"
      ]
     },
     "execution_count": 6,
     "metadata": {},
     "output_type": "execute_result"
    }
   ],
   "source": [
    "b"
   ]
  },
  {
   "cell_type": "markdown",
   "metadata": {},
   "source": [
    "Dans la cellule suivante, écrire un script qui, en utilsant une variable tampon nommée `c`, va intervertir les valeus de `a` et de `b` :"
   ]
  },
  {
   "cell_type": "code",
   "execution_count": 7,
   "metadata": {},
   "outputs": [
    {
     "name": "stdout",
     "output_type": "stream",
     "text": [
      "toto\n",
      "5\n"
     ]
    }
   ],
   "source": [
    "c = a\n",
    "a = b\n",
    "b = c\n",
    "\n",
    "print(a)\n",
    "print(b)"
   ]
  },
  {
   "cell_type": "markdown",
   "metadata": {},
   "source": [
    "## Structure séquentielle : une ligne de code <=> une instruction"
   ]
  },
  {
   "cell_type": "markdown",
   "metadata": {},
   "source": [
    "Un programme informatique est une séquence d'instructions. <img src=\"https://ericecmorlaix.github.io/img/Sequence.svg\" width=\"15%\">\n",
    "\n",
    "L'instruction 3 sera exécutée seulement après l'exécution de l'instruction 2. L'ordre des instructions est donc important."
   ]
  },
  {
   "cell_type": "markdown",
   "metadata": {},
   "source": [
    "> Dans de nombreux langages de programmation comme Java, C, PHP ou JavaScript, les instructions sont séparées par un point-virgule.\n",
    ">\n",
    "> On observe qu'il n'y a pas de **`;`** à la fin d'une instruction Python, c'est donc le retour à la ligne qui marque la fin de l'instruction et donc le début de la suivante."
   ]
  },
  {
   "cell_type": "markdown",
   "metadata": {},
   "source": [
    "<h3 class='fa fa-graduation-cap' style=\"color: MediumSeaGreen\">France IOI - Dans le fourré : </h3>\n",
    "\n",
    "[![fourre.png](http://data.france-ioi.org/Task/71162fa338ff8ea0caf3c619d19551fa/fourre.png)](http://www.france-ioi.org/algo/task.php?idChapter=642&idTask=1872)\n",
    "\n",
    "Coller ici le code de votre programme qui a permis sur [France IOI](http://www.france-ioi.org/algo/task.php?idChapter=642&idTask=1872) à votre robot d'atteindre la clé :"
   ]
  },
  {
   "cell_type": "code",
   "execution_count": 23,
   "metadata": {},
   "outputs": [
    {
     "name": "stderr",
     "output_type": "stream",
     "text": [
      "Traceback (most recent call last):\n",
      "  File \"<input>\", line 1, in <module>\n",
      "ModuleNotFoundError: No module named 'robot'\n"
     ]
    }
   ],
   "source": [
    "from robot import *\n",
    "\n",
    "haut()\n",
    "haut()\n",
    "haut()\n",
    "droite()\n",
    "droite()\n",
    "bas()\n",
    "bas()\n",
    "droite()\n",
    "\n"
   ]
  },
  {
   "cell_type": "markdown",
   "metadata": {},
   "source": [
    "> En réalité Python autorise le **`;`** pour séparer des instructions et permet ainsi d'écrire une séquence d'instructions sur une même ligne tel que :"
   ]
  },
  {
   "cell_type": "code",
   "execution_count": 9,
   "metadata": {},
   "outputs": [
    {
     "data": {
      "text/plain": [
       "'Hello World!'"
      ]
     },
     "execution_count": 9,
     "metadata": {},
     "output_type": "execute_result"
    }
   ],
   "source": [
    "maPremiereVariable='Hello World!';maPremiereVariable"
   ]
  },
  {
   "cell_type": "markdown",
   "metadata": {},
   "source": [
    "> Le résultat est bien évidemment le même, mais cette pratique, très rarement utilisée, est à éviter car cela devient vite illisible.  \n",
    "Elle est à réserver pour des tests temporaires pour son coté pratique car il suffit alors d'un seul **`#`** pour désactiver toute une séquence..."
   ]
  },
  {
   "cell_type": "markdown",
   "metadata": {},
   "source": [
    "##  Type :"
   ]
  },
  {
   "cell_type": "markdown",
   "metadata": {},
   "source": [
    "La fonction **`type()`** renvoie le type de la variable :\n",
    "\n",
    "<h3 class='fa fa-cogs' style=\"color: MediumSeaGreen\"> Essayez vous-même : </h3>"
   ]
  },
  {
   "cell_type": "code",
   "execution_count": 10,
   "metadata": {},
   "outputs": [
    {
     "data": {
      "text/plain": [
       "str"
      ]
     },
     "execution_count": 10,
     "metadata": {},
     "output_type": "execute_result"
    }
   ],
   "source": [
    "type(maPremiereVariable)"
   ]
  },
  {
   "cell_type": "code",
   "execution_count": 11,
   "metadata": {},
   "outputs": [
    {
     "data": {
      "text/plain": [
       "(5, int)"
      ]
     },
     "execution_count": 11,
     "metadata": {},
     "output_type": "execute_result"
    }
   ],
   "source": [
    "maSecondeVariable=5\n",
    "maSecondeVariable, type(maSecondeVariable)"
   ]
  },
  {
   "cell_type": "code",
   "execution_count": 12,
   "metadata": {},
   "outputs": [
    {
     "data": {
      "text/plain": [
       "(5.0, float)"
      ]
     },
     "execution_count": 12,
     "metadata": {},
     "output_type": "execute_result"
    }
   ],
   "source": [
    "maTroisiemeVariable=5.0\n",
    "maTroisiemeVariable, type(maTroisiemeVariable)"
   ]
  },
  {
   "cell_type": "markdown",
   "metadata": {},
   "source": [
    "> Voici donc quelques types de variables :\n",
    "* **`str`** pour string, une chaine de caractères alphanumériques ;\n",
    "* **`int`** pour integer, un nombre entier ;\n",
    "* **`float`** un nombre [flottant](https://fr.wikipedia.org/wiki/Virgule_flottante), représentant un nombre réel."
   ]
  },
  {
   "cell_type": "markdown",
   "metadata": {},
   "source": [
    "## Fonction d'entrée de données :\n",
    "\n",
    "Il est parfois nécessaire de demander à l'utilisateur d'entrer des données pour attribuer une valeur à une variable. On utilise pour cela la fonction **`input()`**.\n",
    "\n",
    "<h3 class='fa fa-cogs' style=\"color: MediumSeaGreen\"> Essayez vous-même : </h3>\n",
    "\n",
    "- Exécuter cette cellule plusieurs fois pour essayer avec des entrées de différents types..."
   ]
  },
  {
   "cell_type": "code",
   "execution_count": 10,
   "metadata": {},
   "outputs": [
    {
     "name": "stdout",
     "output_type": "stream",
     "text": [
      "Entrer une valeur d'un type quelconque : Hey\n"
     ]
    },
    {
     "data": {
      "text/plain": [
       "('Hey', str)"
      ]
     },
     "execution_count": 10,
     "metadata": {},
     "output_type": "execute_result"
    }
   ],
   "source": [
    "maVariable=input(\"Entrer une valeur d'un type quelconque : \")\n",
    "maVariable, type(maVariable)"
   ]
  },
  {
   "cell_type": "markdown",
   "metadata": {},
   "source": [
    "> On observe que le type renvoyé par cette cellule est toujours une chaines de caractères alphanumériques.  \n",
    "Il sera donc nécessaire de changer ce type en nombre pour pouvoir utiliser cette variable dans des opérations de calculs arythmétiques, et inversement pour des opérations sur des chaines de caractères."
   ]
  },
  {
   "cell_type": "markdown",
   "metadata": {},
   "source": [
    "Les fonctions de conversion de type qui nous seront utiles ici sont **`int()`**, **`float()`**, **`str()`**."
   ]
  },
  {
   "cell_type": "code",
   "execution_count": 11,
   "metadata": {},
   "outputs": [
    {
     "name": "stdout",
     "output_type": "stream",
     "text": [
      "Entrer un réel : 5\n"
     ]
    },
    {
     "data": {
      "text/plain": [
       "(5.0, float)"
      ]
     },
     "execution_count": 11,
     "metadata": {},
     "output_type": "execute_result"
    }
   ],
   "source": [
    "maNouvelleVariable=float(input(\"Entrer un réel : \"))\n",
    "maNouvelleVariable, type(maNouvelleVariable)"
   ]
  },
  {
   "cell_type": "markdown",
   "metadata": {},
   "source": [
    "## Opération de calcul sur les nombres :"
   ]
  },
  {
   "cell_type": "markdown",
   "metadata": {},
   "source": [
    "Les opérateurs arithmétiques de Python 3 sont :\n",
    "\n",
    "| Symbole | Opération    |\n",
    "|---------|--------------|\n",
    "| +       | Addition     |\n",
    "| -       | Soustraction |\n",
    "| *       | Multiplication |\n",
    "| /       | Division     |\n",
    "| //      | Division partie entière |\n",
    "| **      | Puissance |\n",
    "| %       | Modulo       |\n",
    "\n",
    "Pour observer les fonctionnalités de la machine à calculer Python, rendez-vous sur le bloc note [Arithmétique](Arithmetique-Le_BN_pour_calculer.ipynb)"
   ]
  },
  {
   "cell_type": "markdown",
   "metadata": {},
   "source": [
    "Ces opérations arithmétiques s'appliquent aussi entre des variables de type nombre et on peut en mémoriser le résultat dans une autre variable :"
   ]
  },
  {
   "cell_type": "code",
   "execution_count": 14,
   "metadata": {},
   "outputs": [
    {
     "data": {
      "text/plain": [
       "17"
      ]
     },
     "execution_count": 14,
     "metadata": {},
     "output_type": "execute_result"
    }
   ],
   "source": [
    "a, b = 5, 12\n",
    "c = a + b\n",
    "c"
   ]
  },
  {
   "cell_type": "markdown",
   "metadata": {},
   "source": [
    "Ces opérateurs vont donc nous permettre de faire évoluer les variables de type nombre dans nos programme..."
   ]
  },
  {
   "cell_type": "markdown",
   "metadata": {},
   "source": [
    "<h3 class='fa fa-graduation-cap' style=\"color: darkorange\"> Permutation de variables par calcul : </h3>\n",
    "\n",
    "Soit les variables `a` et `b` telles que :"
   ]
  },
  {
   "cell_type": "code",
   "execution_count": 9,
   "metadata": {},
   "outputs": [],
   "source": [
    "a = 5\n",
    "b = 3"
   ]
  },
  {
   "cell_type": "code",
   "execution_count": 10,
   "metadata": {},
   "outputs": [
    {
     "data": {
      "text/plain": [
       "5"
      ]
     },
     "execution_count": 10,
     "metadata": {},
     "output_type": "execute_result"
    }
   ],
   "source": [
    "a"
   ]
  },
  {
   "cell_type": "code",
   "execution_count": 11,
   "metadata": {},
   "outputs": [
    {
     "data": {
      "text/plain": [
       "3"
      ]
     },
     "execution_count": 11,
     "metadata": {},
     "output_type": "execute_result"
    }
   ],
   "source": [
    "b"
   ]
  },
  {
   "cell_type": "markdown",
   "metadata": {},
   "source": [
    "Dans la cellule suivante, écrire un script qui, par une suite d'opérations arithmétiques, va intervertir les valeus de `a` et de `b` :"
   ]
  },
  {
   "cell_type": "code",
   "execution_count": 12,
   "metadata": {},
   "outputs": [],
   "source": [
    "a = a + b\n",
    "b = a - b\n",
    "a = a - b"
   ]
  },
  {
   "cell_type": "code",
   "execution_count": 13,
   "metadata": {},
   "outputs": [
    {
     "data": {
      "text/plain": [
       "3"
      ]
     },
     "execution_count": 13,
     "metadata": {},
     "output_type": "execute_result"
    }
   ],
   "source": [
    "a"
   ]
  },
  {
   "cell_type": "code",
   "execution_count": 14,
   "metadata": {},
   "outputs": [
    {
     "data": {
      "text/plain": [
       "5"
      ]
     },
     "execution_count": 14,
     "metadata": {},
     "output_type": "execute_result"
    }
   ],
   "source": [
    "b"
   ]
  },
  {
   "cell_type": "markdown",
   "metadata": {},
   "source": [
    "<h3 class='fa fa-cogs' style=\"color: MediumSeaGreen\"> Essayez vous-même : </h3>\n",
    "\n",
    "- Initialisez la variable `i` puis,\n",
    "- Exécutez les cellules des codes d'incrémentation et de décrémentation suivantes plusieures fois de suite ;\n",
    "- Essayez aussi pour des valeurs de $pas\\neq1$..."
   ]
  },
  {
   "cell_type": "code",
   "execution_count": 44,
   "metadata": {},
   "outputs": [
    {
     "data": {
      "text/plain": [
       "0"
      ]
     },
     "execution_count": 44,
     "metadata": {},
     "output_type": "execute_result"
    }
   ],
   "source": [
    "# initialisation de la variable\n",
    "i = 0\n",
    "i"
   ]
  },
  {
   "cell_type": "markdown",
   "metadata": {},
   "source": [
    "### L'incrémentation :"
   ]
  },
  {
   "cell_type": "code",
   "execution_count": 58,
   "metadata": {},
   "outputs": [
    {
     "data": {
      "text/plain": [
       "14"
      ]
     },
     "execution_count": 58,
     "metadata": {},
     "output_type": "execute_result"
    }
   ],
   "source": [
    "# incrémentation de la variable d'un pas de 1, code de base\n",
    "i = i + 1\n",
    "i"
   ]
  },
  {
   "cell_type": "code",
   "execution_count": 92,
   "metadata": {},
   "outputs": [
    {
     "data": {
      "text/plain": [
       "8"
      ]
     },
     "execution_count": 92,
     "metadata": {},
     "output_type": "execute_result"
    }
   ],
   "source": [
    "# incrémentation de la variable d'un pas de 1, code condensé\n",
    "i += 1\n",
    "i"
   ]
  },
  {
   "cell_type": "markdown",
   "metadata": {},
   "source": [
    "### La décrémentation :"
   ]
  },
  {
   "cell_type": "code",
   "execution_count": 94,
   "metadata": {},
   "outputs": [
    {
     "data": {
      "text/plain": [
       "6"
      ]
     },
     "execution_count": 94,
     "metadata": {},
     "output_type": "execute_result"
    }
   ],
   "source": [
    "# incrémentation de la variable d'un pas de -1, code de base\n",
    "i = i - 1\n",
    "i"
   ]
  },
  {
   "cell_type": "code",
   "execution_count": 97,
   "metadata": {},
   "outputs": [
    {
     "data": {
      "text/plain": [
       "-1"
      ]
     },
     "execution_count": 97,
     "metadata": {},
     "output_type": "execute_result"
    }
   ],
   "source": [
    "# incrémentation de la variable d'un pas de -1, code condensé\n",
    "i -= 1\n",
    "i"
   ]
  },
  {
   "cell_type": "markdown",
   "metadata": {},
   "source": [
    "> D'autres langages possèdent des notations encore plus condensées pour l'incrémentation **`i++`** et la décrémentation **`i--`** par pas de 1."
   ]
  },
  {
   "cell_type": "markdown",
   "metadata": {},
   "source": [
    "## Opération sur les chaines de caractères alphanumériques :"
   ]
  },
  {
   "cell_type": "markdown",
   "metadata": {},
   "source": [
    "En Python, les chaines de caractères sont des données immutables (non modifiables).\n",
    "\n",
    "Ce sont des valeurs textuelles (espace, alphanumériques, symboles) encadrée par deux apostrophes `'` où par deux guillemets `\"`. Ce qui permet d'intégrer une **`'`** ou des **`\"`** dans une chaines de caractères.\n",
    "\n",
    "Une autre solution consiste à utiliser un caractère spécial d'échappement **`\\`** :\n",
    "\n",
    "<h3 class='fa fa-cogs' style=\"color: MediumSeaGreen\"> Essayez vous-même : </h3>\n",
    "\n",
    "### Concaténation\n",
    "\n",
    "On peut concaténer deux chaines grâce à l'opérateur **`+`**."
   ]
  },
  {
   "cell_type": "code",
   "execution_count": 28,
   "metadata": {},
   "outputs": [
    {
     "data": {
      "text/plain": [
       "'Hello World !'"
      ]
     },
     "execution_count": 28,
     "metadata": {},
     "output_type": "execute_result"
    }
   ],
   "source": [
    "phrase= 'Hello'+' '+'World'+' !'\n",
    "phrase"
   ]
  },
  {
   "cell_type": "markdown",
   "metadata": {},
   "source": [
    "### Répétition\n",
    "\n",
    "On peut répéter une chaine grâce à l'opérateur **`*`**."
   ]
  },
  {
   "cell_type": "code",
   "execution_count": 29,
   "metadata": {},
   "outputs": [
    {
     "data": {
      "text/plain": [
       "'toto'"
      ]
     },
     "execution_count": 29,
     "metadata": {},
     "output_type": "execute_result"
    }
   ],
   "source": [
    "mot=\"to\"*2\n",
    "mot"
   ]
  },
  {
   "cell_type": "markdown",
   "metadata": {},
   "source": [
    "## Fonction d'affichage en sortie :"
   ]
  },
  {
   "cell_type": "markdown",
   "metadata": {},
   "source": [
    "La fonction **`print()`** permet d'afficher du contenu :\n",
    "\n",
    "<h3 class='fa fa-cogs' style=\"color: MediumSeaGreen\"> Essayez vous-même : </h3>"
   ]
  },
  {
   "cell_type": "code",
   "execution_count": 30,
   "metadata": {},
   "outputs": [
    {
     "name": "stdout",
     "output_type": "stream",
     "text": [
      "L'heure est venue de programmer\n",
      "au lycée Notre Dame du Mur\n",
      "Hello World!\n",
      "5\n",
      "5.0\n",
      "26\n",
      "12\n",
      "Python...\n",
      ">>>>>>>>>> c'est \"cool\" !\n"
     ]
    }
   ],
   "source": [
    "print(\"L'heure est venue de programmer\")\n",
    "print(\"au\",\"lycée\",\"Notre\",\"Dame\",\"du\",\"Mur\")\n",
    "print(maPremiereVariable)\n",
    "print(maSecondeVariable)\n",
    "print(maTroisiemeVariable)\n",
    "print(0x1A)\n",
    "print(0b1100)\n",
    "print(\"Python...\\n\" + \">\" * 10, 'c\\'est \"cool\" !')"
   ]
  },
  {
   "cell_type": "markdown",
   "metadata": {},
   "source": [
    "> On observe que les chaines de caractères s'affichent sans guillemets  \n",
    "et qu'un nombre indiqué en hexadécimal ou en binaire est affiché en décimal."
   ]
  },
  {
   "cell_type": "markdown",
   "metadata": {},
   "source": [
    "La fonction **`print()`** admet deux arguments interessants :  \n",
    "\n",
    "* **`sep`**  qui permet de séparer les valeurs par un texte de votre choix.  Par défaut le séparateur est un espace **`\" \"`**.\n",
    "* **`end`** qui permet d'ajouter à la fin un texte de votre choix. Par defaut la fin de ligne est un retour à la ligne **`\"\\n\"`**."
   ]
  },
  {
   "cell_type": "code",
   "execution_count": 31,
   "metadata": {},
   "outputs": [
    {
     "name": "stdout",
     "output_type": "stream",
     "text": [
      "L'heure est venue de programmer au lycée Notre Dame du Mur\n",
      "Hello World! | 5 | 5.0 | 26 | 12\n",
      "Python...\n",
      ">>>>>>>>>> c'est \"cool\" !\n"
     ]
    }
   ],
   "source": [
    "print(\"L'heure est venue de programmer\", end = \" \")\n",
    "print(\"au\",\"lycée\",\"Notre\",\"Dame\",\"du\",\"Mur\")\n",
    "print(maPremiereVariable, end=\" | \")\n",
    "print(maSecondeVariable, end=\" | \")\n",
    "print(maTroisiemeVariable, end=\" | \")\n",
    "print(0x1A, end=\" | \")\n",
    "print(0b1100)\n",
    "print(\"Python...\", \">\" * 10 + ' c\\'est \"cool\" !', sep = \"\\n\")"
   ]
  },
  {
   "cell_type": "markdown",
   "metadata": {},
   "source": [
    "Pour afficher un résultat avec du texte combiné avec des variables, il existe plusieurs méthodes :"
   ]
  },
  {
   "cell_type": "code",
   "execution_count": 32,
   "metadata": {},
   "outputs": [
    {
     "name": "stdout",
     "output_type": "stream",
     "text": [
      "u1 = 15\n"
     ]
    }
   ],
   "source": [
    "u = 15\n",
    "i = 1\n",
    "print(\"u\",i,\" = \",u,sep='')"
   ]
  },
  {
   "cell_type": "markdown",
   "metadata": {},
   "source": [
    "> Par défaut sep est un espace, si on souhaite que l'indice soit acollé à la variable u, il faut redéfinir sep... "
   ]
  },
  {
   "cell_type": "code",
   "execution_count": 33,
   "metadata": {},
   "outputs": [
    {
     "name": "stdout",
     "output_type": "stream",
     "text": [
      "u1 = 15\n"
     ]
    }
   ],
   "source": [
    "u = 15\n",
    "i = 1\n",
    "print(\"u\"+str(i)+\" = \"+str(u))"
   ]
  },
  {
   "cell_type": "markdown",
   "metadata": {},
   "source": [
    "> Il faut convertir les nombres en **`string`** pour pouvoir les **concaténer** avec du texte."
   ]
  },
  {
   "cell_type": "markdown",
   "metadata": {},
   "source": [
    "Avant Python 3.6, le plus élégant consistait à utiliser la méthode **`format()`**, en voici un exemple :"
   ]
  },
  {
   "cell_type": "code",
   "execution_count": 34,
   "metadata": {},
   "outputs": [
    {
     "name": "stdout",
     "output_type": "stream",
     "text": [
      "Le produit de 4 par 5 est 20\n",
      "La division de 5 par 4 donne 1.25\n"
     ]
    }
   ],
   "source": [
    "a=4\n",
    "b=5\n",
    "print(\"Le produit de {0} par {1} est {2}\\nLa division de {1} par {0} donne {3}\".format(a,b,a*b,b/a))"
   ]
  },
  {
   "cell_type": "markdown",
   "metadata": {},
   "source": [
    "> On remplace **`{ }`** par le contenu de la variable. Peu importe son type, le résultat sera affiché."
   ]
  },
  {
   "cell_type": "markdown",
   "metadata": {},
   "source": [
    "Depuis Python 3.6, on peut utiliser les **`f-strings`** pour formatter une chaine de caractères :"
   ]
  },
  {
   "cell_type": "code",
   "execution_count": 35,
   "metadata": {},
   "outputs": [
    {
     "name": "stdout",
     "output_type": "stream",
     "text": [
      "Le produit de 4 par 5 est 20\n",
      "La division de 5 par 4 donne 1.25\n"
     ]
    }
   ],
   "source": [
    "a=4\n",
    "b=5\n",
    "print(f\"Le produit de {a} par {b} est {a*b}\\nLa division de {b} par {a} donne {b/a}\")"
   ]
  },
  {
   "cell_type": "markdown",
   "metadata": {},
   "source": [
    "## Structure itérative : boucle de répétitions avec for\n",
    "\n",
    "La notion de boucle est fondamentale en informatique. Une boucle permet d'exécuter plusieurs fois des instructions qui ne sont inscrites qu'une seule fois dans le code."
   ]
  },
  {
   "cell_type": "markdown",
   "metadata": {},
   "source": [
    "La boucle **_for_** prend ses valeurs dans un ensemble itératif :\n",
    "\n",
    "```python\n",
    "for variable in liste_valeurs\n",
    "```\n",
    "À chaque itération la variable prendra pour valeur un élément de la liste.\n"
   ]
  },
  {
   "cell_type": "markdown",
   "metadata": {},
   "source": [
    "Pour créer une boucle équivalente aux boucles traditionnelles (pour **_i_** allant de **_m_** à **_n_**, faire...), nous utiliserons la fonction **`range()`**.  \n",
    "La syntaxe générale est\n",
    "```python\n",
    "for i in range(m,n,p):\n",
    "```  \n",
    "**_i_** prend alors toutes les valeurs de **_m_** à **_n-1_** par pas de **_p_**\n",
    "\n",
    "<h3 class='fa fa-cogs' style=\"color: MediumSeaGreen\"> Essayez vous-même : </h3>"
   ]
  },
  {
   "cell_type": "code",
   "execution_count": 36,
   "metadata": {},
   "outputs": [
    {
     "name": "stdout",
     "output_type": "stream",
     "text": [
      "1\n",
      "2\n",
      "3\n"
     ]
    }
   ],
   "source": [
    "for i in range(1,4):\n",
    "    print(i)"
   ]
  },
  {
   "cell_type": "code",
   "execution_count": 37,
   "metadata": {},
   "outputs": [
    {
     "name": "stdout",
     "output_type": "stream",
     "text": [
      "0\n",
      "1\n",
      "2\n",
      "3\n"
     ]
    }
   ],
   "source": [
    "for i in range(4):\n",
    "    print(i)"
   ]
  },
  {
   "cell_type": "code",
   "execution_count": 38,
   "metadata": {},
   "outputs": [
    {
     "name": "stdout",
     "output_type": "stream",
     "text": [
      "0\n",
      "2\n",
      "4\n"
     ]
    }
   ],
   "source": [
    "for i in range(0,6,2):\n",
    "    print(i)"
   ]
  },
  {
   "cell_type": "code",
   "execution_count": 40,
   "metadata": {},
   "outputs": [
    {
     "name": "stdout",
     "output_type": "stream",
     "text": [
      "4\n",
      "3\n",
      "2\n",
      "1\n"
     ]
    }
   ],
   "source": [
    "for i in range(4,0,-1):\n",
    "    print(i)"
   ]
  },
  {
   "cell_type": "markdown",
   "metadata": {},
   "source": [
    "On peut aussi parcourir une chaîne de caractères :"
   ]
  },
  {
   "cell_type": "code",
   "execution_count": 41,
   "metadata": {},
   "outputs": [
    {
     "name": "stdout",
     "output_type": "stream",
     "text": [
      "B\n",
      "o\n",
      "n\n",
      "j\n",
      "o\n",
      "u\n",
      "r\n"
     ]
    }
   ],
   "source": [
    "for i in \"Bonjour\":\n",
    "    print(i)"
   ]
  },
  {
   "cell_type": "markdown",
   "metadata": {},
   "source": [
    "<h3 class='fa fa-graduation-cap' style=\"color: MediumSeaGreen\">France IOI - Vendanges : </h3>\n",
    "\n",
    "[![vendanges.png](http://data.france-ioi.org/Task/0f4c8c16c0967004a61d7010841dccc1/vendanges.png)](http://www.france-ioi.org/algo/task.php?idChapter=643&idTask=1884)\n",
    "\n",
    "Coller ici le code de votre programme qui a permis sur [France IOI](http://www.france-ioi.org/algo/task.php?idChapter=643&idTask=1884) à votre robot d'aider aux vendanges :\n",
    "\n",
    "Le robot est initialement tout à gauche, là où se trouve un grand tas de raisins. Il devra, 20 fois :\n",
    "- ramasser des raisins pour remplir la hotte de ramassage ;\n",
    "- se rendre à la charrette ;\n",
    "- déposer le contenu de la hotte ;\n",
    "- revenir au point de départ."
   ]
  },
  {
   "cell_type": "code",
   "execution_count": null,
   "metadata": {},
   "outputs": [],
   "source": [
    "from robot import*\n",
    "  \n",
    "\n",
    "for loop in range(20):\n",
    "    ramasser()\n",
    "    for loop  in range(15):\n",
    "        droite()\n",
    "    deposer()\n",
    "    for loop in range(15):\n",
    "        gauche()"
   ]
  },
  {
   "cell_type": "markdown",
   "metadata": {},
   "source": [
    "## Indentation obligatoire en Python :\n",
    "\n",
    "Python oblige donc le développeur à structurer son code a l'aide des **indentations** : ce sont elles qui, après les **`:`**, détermineront les limites du bloc de la séquence d'instructions répétées dans la boucle et non pas les accolades comme dans la majorité des langages comme par exemple en JavaScript:\n",
    "``` javascript\n",
    "for (initialisation ; condition ; modification) {\n",
    "\tInstruction 1 ;\n",
    "\tInstruction 2 ;\n",
    "\t... ;\n",
    "}\n",
    "```\n",
    "> L'indentation n'est donc pas ogligatoire dans tous les langages informatiques. Par exemple en Javascript on pourrait programmer tel que :\n",
    ">\n",
    "``` javascript\n",
    "for(var i=0;i<8;i++){ellipse(positionX+entraxe*i,positionY,diametre,diametre);Instruction 2 ; Instruction 3 ; Instruction 4 ... ;}\n",
    "```  \n",
    "> Ce qui devient bien évidemment rapidement illisible pour un humain normalement constitué...\n",
    "\n",
    "Python oblige donc par nature à produire du code clair et lisible donc plus facilement maintenable...\n",
    "\n",
    "[![dev_python_indentation_code.jpg](https://lesjoiesducode.fr/content/043/dev_python_indentation_code.jpg)](https://lesjoiesducode.fr/anniversaire-langage-python-30-ans)\n",
    "\n"
   ]
  },
  {
   "cell_type": "markdown",
   "metadata": {},
   "source": [
    ">_Que ceux qui souhaiteraient coder avec des accolades en Python, exécutent l'instruction  suivante dans un interpréteur :_\n",
    "\n",
    "```python\n",
    "from __future__ import braces\n",
    "```"
   ]
  },
  {
   "cell_type": "code",
   "execution_count": 1,
   "metadata": {},
   "outputs": [
    {
     "ename": "SyntaxError",
     "evalue": "from __future__ imports must occur at the beginning of the file (<ipython-input-1-b9e031678f96>, line 4)",
     "output_type": "error",
     "traceback": [
      "\u001b[0;36m  File \u001b[0;32m\"<ipython-input-1-b9e031678f96>\"\u001b[0;36m, line \u001b[0;32m4\u001b[0m\n\u001b[0;31mSyntaxError\u001b[0m\u001b[0;31m:\u001b[0m from __future__ imports must occur at the beginning of the file\n"
     ]
    }
   ],
   "source": [
    "from __future__ import braces "
   ]
  },
  {
   "cell_type": "markdown",
   "metadata": {},
   "source": [
    "> _et constatent que les développeurs de Python, avec ce genre d'\"easter egg\", ne manquent pas d'humour à l'instar des Monty..._\n",
    ">_https://stackoverflow.com/questions/17811855/syntax-error-not-a-chance_\n",
    ">\n",
    "> Essayer aussi avec :\n",
    "```python\n",
    "import this\n",
    "```\n",
    "```python\n",
    "import __hello__\n",
    "```\n",
    "```python\n",
    "import antigravity\n",
    "```"
   ]
  },
  {
   "cell_type": "code",
   "execution_count": 2,
   "metadata": {},
   "outputs": [
    {
     "name": "stdout",
     "output_type": "stream",
     "text": [
      "Hello world!\n"
     ]
    }
   ],
   "source": [
    "import __hello__"
   ]
  },
  {
   "cell_type": "code",
   "execution_count": 3,
   "metadata": {},
   "outputs": [],
   "source": [
    "import antigravity"
   ]
  },
  {
   "cell_type": "code",
   "execution_count": 31,
   "metadata": {
    "scrolled": true
   },
   "outputs": [
    {
     "name": "stdout",
     "output_type": "stream",
     "text": [
      "The Zen of Python, by Tim Peters\n",
      "\n",
      "Beautiful is better than ugly.\n",
      "Explicit is better than implicit.\n",
      "Simple is better than complex.\n",
      "Complex is better than complicated.\n",
      "Flat is better than nested.\n",
      "Sparse is better than dense.\n",
      "Readability counts.\n",
      "Special cases aren't special enough to break the rules.\n",
      "Although practicality beats purity.\n",
      "Errors should never pass silently.\n",
      "Unless explicitly silenced.\n",
      "In the face of ambiguity, refuse the temptation to guess.\n",
      "There should be one-- and preferably only one --obvious way to do it.\n",
      "Although that way may not be obvious at first unless you're Dutch.\n",
      "Now is better than never.\n",
      "Although never is often better than *right* now.\n",
      "If the implementation is hard to explain, it's a bad idea.\n",
      "If the implementation is easy to explain, it may be a good idea.\n",
      "Namespaces are one honking great idea -- let's do more of those!\n"
     ]
    }
   ],
   "source": [
    "import this"
   ]
  },
  {
   "cell_type": "markdown",
   "metadata": {},
   "source": [
    "## Opérateurs relationnels, les comparateurs :"
   ]
  },
  {
   "cell_type": "markdown",
   "metadata": {},
   "source": [
    "| Symbole | Opération |\n",
    "|---------|-----------|\n",
    "| ==      | égal      |\n",
    "| !=      | différent |\n",
    "| <       | inférieur |\n",
    "| >       | supérieur |\n",
    "| <=      | inférieur ou égal |\n",
    "| >=      | supérieur ou égal |"
   ]
  },
  {
   "cell_type": "markdown",
   "metadata": {},
   "source": [
    "Ces opérateurs permettent de faire des tests conditionnels :\n",
    "\n",
    "<h3 class='fa fa-cogs' style=\"color: MediumSeaGreen\"> Essayez vous-même : </h3>"
   ]
  },
  {
   "cell_type": "code",
   "execution_count": 32,
   "metadata": {},
   "outputs": [
    {
     "data": {
      "text/plain": [
       "(False, bool)"
      ]
     },
     "execution_count": 32,
     "metadata": {},
     "output_type": "execute_result"
    }
   ],
   "source": [
    "condition1 = ( 0 == 1 )\n",
    "condition1,type(condition1)"
   ]
  },
  {
   "cell_type": "code",
   "execution_count": 33,
   "metadata": {},
   "outputs": [
    {
     "data": {
      "text/plain": [
       "(True, bool)"
      ]
     },
     "execution_count": 33,
     "metadata": {},
     "output_type": "execute_result"
    }
   ],
   "source": [
    "condition2 = ( 0 <= 1 )\n",
    "condition2,type(condition2)"
   ]
  },
  {
   "cell_type": "markdown",
   "metadata": {},
   "source": [
    "> On découvre là un nouveau type de variable **`bool`** pour booléen, leur valeur est soit **`True`** soit **`False`**.\n",
    "> \n",
    "> Nous verrons plus tard plus en détails la logique booléenne que l'on doit à [George](https://fr.wikipedia.org/wiki/George_Boole)"
   ]
  },
  {
   "cell_type": "markdown",
   "metadata": {},
   "source": [
    "## Structure conditionnelle (alternatives), si ...  alors ...  sinon :\n",
    "\n",
    "\n",
    "```python\n",
    "if condition:\n",
    "    # Traitement bloc 1\n",
    "else:\n",
    "    # Traitement bloc 2\n",
    "```\n",
    "\n",
    "Pour les tests multiples, il faudra enchaîner les if en cascade grâce à l'instruction elif, contraction de else if :\n",
    "\n",
    "\n",
    "```python\n",
    "if condition:\n",
    "    # Traitement bloc 1\n",
    "elif:\n",
    "    # Traitement bloc 2\n",
    "else:\n",
    "    # Traitement bloc 3\n",
    "```\n",
    "\n",
    "<h3 class='fa fa-graduation-cap' style=\"color: MediumSeaGreen\">France IOI - Mot de passe du village : </h3>\n",
    "\n",
    "\n",
    "Coller ici le code de votre programme qui a permis sur [France IOI](http://www.france-ioi.org/algo/task.php?idChapter=646&idTask=1947) à votre robot d'autoriser certains villageois à accéder au festin :\n",
    "\n",
    "Votre programme doit lire un entier : le code fourni par l'utilisateur. Si ce code correspond au code secret, qui est 64 741, alors le programme devra afficher le texte « Bon festin ! ». Sinon, il devra afficher « Allez-vous en ! »."
   ]
  },
  {
   "cell_type": "code",
   "execution_count": 7,
   "metadata": {},
   "outputs": [
    {
     "name": "stdout",
     "output_type": "stream",
     "text": [
      "64741\n",
      "Allez-vous en!\n"
     ]
    }
   ],
   "source": [
    "mdpfourni = int(input())\n",
    "\n",
    "if mdpfourni == 64741:\n",
    "    print(\"Bon festin !\")\n",
    "else:\n",
    "    print(\"Allez-vous en!\")"
   ]
  },
  {
   "cell_type": "markdown",
   "metadata": {},
   "source": [
    "<h3 class='fa fa-cogs' style=\"color: MediumSeaGreen\">Autre exemple à tester vous-même : </h3>\n",
    "\n",
    "- Essayez le script de la cellule suivante et trouver une stratégie qui permet de réduire le nombre de tentatives :"
   ]
  },
  {
   "cell_type": "code",
   "execution_count": 1,
   "metadata": {},
   "outputs": [
    {
     "name": "stdout",
     "output_type": "stream",
     "text": [
      "Saurez-vous trouver le nombre secret en moins de 10 coups ?\n",
      "\n",
      "Saisir un nombre entier compris entre 1 et 100 = 50\n",
      "C'est plus grand...\n",
      "Il vous reste 9 tentatives.\n",
      "\n",
      "Saisir un nombre entier compris entre 1 et 100 = 75\n",
      "C'est plus petit...\n",
      "Il vous reste 8 tentatives.\n",
      "\n",
      "Saisir un nombre entier compris entre 1 et 100 = 60\n",
      "C'est plus grand...\n",
      "Il vous reste 7 tentatives.\n",
      "\n",
      "Saisir un nombre entier compris entre 1 et 100 = 67\n",
      "C'est plus grand...\n",
      "Il vous reste 6 tentatives.\n",
      "\n",
      "Saisir un nombre entier compris entre 1 et 100 = 72\n",
      "C'est plus petit...\n",
      "Il vous reste 5 tentatives.\n",
      "\n",
      "Saisir un nombre entier compris entre 1 et 100 = 70\n",
      "C'est plus petit...\n",
      "Il vous reste 4 tentatives.\n",
      "\n",
      "Saisir un nombre entier compris entre 1 et 100 = 68\n",
      "Bravo, vous avez trouvez le nombre secret en 7 coups !\n"
     ]
    }
   ],
   "source": [
    "# L'ordinateur génère un nombre secret compris entre 1 et 100 de façon aléatoire\n",
    "from random import randint\n",
    "nombre_secret = randint(1,100)\n",
    "\n",
    "print(\"Saurez-vous trouver le nombre secret en moins de 10 coups ?\")\n",
    "\n",
    "for i in range (10) :\n",
    "    \n",
    "    # On demande au joueur de saisir un nombre entier compris entre 1 et 100\n",
    "    proposition_du_joueur = int(input(\"\\nSaisir un nombre entier compris entre 1 et 100 = \"))\n",
    "    \n",
    "    if proposition_du_joueur < nombre_secret :\n",
    "        print(f\"C'est plus grand...\\nIl vous reste {9-i} tentatives.\")\n",
    "            \n",
    "    elif proposition_du_joueur > nombre_secret :\n",
    "        print(f\"C'est plus petit...\\nIl vous reste {9-i} tentatives.\")\n",
    "            \n",
    "    else :\n",
    "        print(f\"Bravo, vous avez trouvez le nombre secret en {i+1} coups !\")\n",
    "        break\n",
    "\n",
    "if i+1 == 10 :\n",
    "    print(f\"Dommage, vous n'avez pas trouvez le nombre secret en moins de {i+1} coups !\\nRéfléchissez à une stratégie pour trouvez en réduisant vos tentatives...\")\n",
    "      "
   ]
  },
  {
   "cell_type": "markdown",
   "metadata": {},
   "source": [
    "> Ce script utilise la méthode `randint()` du module `random` :"
   ]
  },
  {
   "cell_type": "code",
   "execution_count": 2,
   "metadata": {},
   "outputs": [
    {
     "name": "stdout",
     "output_type": "stream",
     "text": [
      "Help on method randint in module random:\n",
      "\n",
      "randint(a, b) method of random.Random instance\n",
      "    Return random integer in range [a, b], including both end points.\n",
      "\n"
     ]
    }
   ],
   "source": [
    "from random import randint\n",
    "help(randint)"
   ]
  },
  {
   "cell_type": "code",
   "execution_count": 3,
   "metadata": {},
   "outputs": [
    {
     "data": {
      "text/plain": [
       "3"
      ]
     },
     "execution_count": 3,
     "metadata": {},
     "output_type": "execute_result"
    }
   ],
   "source": [
    "randint(1,6)# Simule le lancé d'un dé à six faces"
   ]
  },
  {
   "cell_type": "markdown",
   "metadata": {},
   "source": [
    "<h3 class='fa fa-code' style=\"color: darkorange\"> Chi Fou Mi à coder vous même : </h3>\n",
    "\n",
    "- Programmer un jeu de [Pierre-Feuille-Ciseau](https://fr.wikipedia.org/wiki/Pierre-papier-ciseaux) entre un joueur et l'ordinateur. Le meilleur des cinqs manches remporte la partie :"
   ]
  },
  {
   "cell_type": "code",
   "execution_count": 12,
   "metadata": {},
   "outputs": [
    {
     "name": "stdout",
     "output_type": "stream",
     "text": [
      "Voulez-vous jouer ? Entrez 1 pour Oui et 2 pour Non\n",
      "1\n",
      "Super ! Alors jouons\n",
      "Les règles sont simples, on va jouer 5 manches, celui ou celle ayant le plus haut score au final remporte la partie\n",
      "\n",
      "Que voulez-vous jouer ? 3 pour Pierre, 4 pour Feuille, 5 pour Ciseaux\n",
      "4\n",
      "Egalité ! Votre nombre de manches remportées s'élève à : 0\n",
      "Que voulez-vous jouer ? 3 pour Pierre, 4 pour Feuille, 5 pour Ciseaux\n",
      "5\n",
      "Egalité ! Votre nombre de manches remportées s'élève à : 0\n",
      "Que voulez-vous jouer ? 3 pour Pierre, 4 pour Feuille, 5 pour Ciseaux\n",
      "3\n",
      "Egalité ! Votre nombre de manches remportées s'élève à : 0\n",
      "Que voulez-vous jouer ? 3 pour Pierre, 4 pour Feuille, 5 pour Ciseaux\n",
      "4\n",
      "Dommage, vous avez perdu la manche. Votre nombre de manches remportées s'élève à : 0\n",
      "Que voulez-vous jouer ? 3 pour Pierre, 4 pour Feuille, 5 pour Ciseaux\n",
      "3\n",
      "Dommage, vous avez perdu la manche. Votre nombre de manches remportées s'élève à : 0\n",
      "Dommage, vous n'avez pas gagné la partie.\n"
     ]
    }
   ],
   "source": [
    "# Ma version\n",
    "\n",
    "from random import randint\n",
    "\n",
    "vJ = 0\n",
    "vO = 0\n",
    "e = 0\n",
    "\n",
    "# question au joueur, veux-tu jouer ? 1 pour Oui et 2 pour Non\n",
    "print(\"Voulez-vous jouer ? Entrez 1 pour Oui et 2 pour Non\")\n",
    "lancement = int(input())\n",
    "\n",
    "\n",
    "\n",
    "# Si oui, \"Super ! Alors jouons\"\n",
    "if lancement == 1 :\n",
    "    print(\"Super ! Alors jouons\")\n",
    "\n",
    "    print(\"Les règles sont simples, on va jouer 5 manches, celui ou celle ayant le plus haut score au final remporte la partie\")\n",
    "    print()\n",
    "    \n",
    "    for loop in range(5):\n",
    "# choix joueur entre Pierre (3), Feuille (4) et Ciseaux (5) \n",
    "        print(\"Que voulez-vous jouer ? 3 pour Pierre, 4 pour Feuille, 5 pour Ciseaux\")\n",
    "        choix_joueur = int(input())\n",
    "\n",
    "# choix ordi entre Pierre (3), Feuille (4) et Ciseaux (5) \n",
    "        choix_ordi = randint(3,5)\n",
    "    \n",
    "# comparaison choix\n",
    "    \n",
    "    \n",
    "        if choix_joueur == 5 :\n",
    "            if choix_ordi == 5 :\n",
    "                e = e + 1\n",
    "                print(\"Egalité ! Votre nombre de manches remportées s'élève à :\", vJ)\n",
    "    \n",
    "        if choix_joueur == 5 :\n",
    "            if choix_ordi == 4 :\n",
    "                vJ = vJ + 1\n",
    "                print(\"Bien joué, vous avez remporté la manche. Votre nombre de manches remportées s'élève à :\", vJ)\n",
    "\n",
    "        if choix_joueur == 5 :\n",
    "            if choix_ordi == 3 :\n",
    "                vO = vO + 1\n",
    "                print(\"Dommage, vous avez perdu la manche. Votre nombre de manches remportées s'élève à :\", vJ)\n",
    "\n",
    "        if choix_joueur == 4 :\n",
    "            if choix_ordi == 5 :\n",
    "                vO = vO + 1\n",
    "                print(\"Dommage, vous avez perdu la manche. Votre nombre de manches remportées s'élève à :\", vJ)\n",
    "\n",
    "        if choix_joueur == 4 :\n",
    "            if choix_ordi == 4 :\n",
    "                e = e + 1\n",
    "                print(\"Egalité ! Votre nombre de manches remportées s'élève à :\", vJ)\n",
    "\n",
    "        if choix_joueur == 4 :\n",
    "            if choix_ordi == 3 :\n",
    "                vJ = vJ + 1\n",
    "                print(\"Bien joué, vous avez remporté la manche. Votre nombre de manches remportées s'élève à :\", vJ)\n",
    "\n",
    "        if choix_joueur == 3 :\n",
    "            if choix_ordi == 5 :\n",
    "                vJ = vJ + 1\n",
    "                print(\"Bien joué, vous avez remporté la manche. Votre nombre de manches remportées s'élève à :\", vJ)\n",
    "\n",
    "        if choix_joueur == 3 :\n",
    "            if choix_ordi == 4 :\n",
    "                vO = vO + 1 \n",
    "                print(\"Dommage, vous avez perdu la manche. Votre nombre de manches remportées s'élève à :\", vJ)\n",
    "\n",
    "        if choix_joueur == 3 :\n",
    "            if choix_ordi == 3 :\n",
    "                e = e + 1\n",
    "                print(\"Egalité ! Votre nombre de manches remportées s'élève à :\", vJ)\n",
    "    \n",
    "    \n",
    "\n",
    "# Si joueur gagnant \"Bravo ! Vous avez gagné\"\n",
    "\n",
    "    if vJ > vO :\n",
    "        print(\"Bravo vous avez gagné la partie !\")\n",
    "            \n",
    "    \n",
    "    \n",
    "# Si joueur perdant \"Dommage, vous avez perdu\"\n",
    "          \n",
    "    else :\n",
    "        print(\"Dommage, vous n'avez pas gagné la partie.\")\n",
    "    \n",
    "\n",
    "# Si non, \"Dommage, a une prochaine fois alors\"\n",
    "\n",
    "if lancement == 2 :\n",
    "    print(\"Dommage, a la prochaine !\")"
   ]
  },
  {
   "cell_type": "code",
   "execution_count": null,
   "metadata": {},
   "outputs": [
    {
     "name": "stdout",
     "output_type": "stream",
     "text": [
      "Voulez-vous jouer ? Entrez 1 pour Oui et 2 pour Non\n",
      "1\n",
      "Super ! Alors jouons\n",
      "Les règles sont simples, on va jouer 5 manches, celui ou celle ayant le plus haut score au final remporte la partie\n",
      "\n",
      "Que voulez-vous jouer ? 3 pour Pierre, 4 pour Feuille, 5 pour Ciseaux\n",
      "4\n",
      "Bien joué, vous avez remporté la manche. Votre nombre de manches remportées s'élève à : 1\n",
      "Que voulez-vous jouer ? 3 pour Pierre, 4 pour Feuille, 5 pour Ciseaux\n"
     ]
    }
   ],
   "source": [
    "# Version corrigée\n",
    "\n",
    "from random import randint\n",
    "\n",
    "vJ = 0\n",
    "vO = 0\n",
    "e = 0\n",
    "\n",
    "# question au joueur, veux-tu jouer ? 1 pour Oui et 2 pour Non\n",
    "print(\"Voulez-vous jouer ? Entrez 1 pour Oui et 2 pour Non\")\n",
    "lancement = int(input())\n",
    "\n",
    "\n",
    "\n",
    "# Si oui, \"Super ! Alors jouons\"\n",
    "if lancement == 1 :\n",
    "    print(\"Super ! Alors jouons\")\n",
    "\n",
    "    print(\"Les règles sont simples, on va jouer 5 manches, celui ou celle ayant le plus haut score au final remporte la partie\")\n",
    "    print()\n",
    "    \n",
    "    for loop in range(5):\n",
    "# choix joueur entre Pierre (3), Feuille (4) et Ciseaux (5) \n",
    "        print(\"Que voulez-vous jouer ? 3 pour Pierre, 4 pour Feuille, 5 pour Ciseaux\")\n",
    "        choix_joueur = int(input())\n",
    "\n",
    "# choix ordi entre Pierre (3), Feuille (4) et Ciseaux (5) \n",
    "        choix_ordi = randint(3,5)\n",
    "    \n",
    "# comparaison choix\n",
    "    \n",
    "    \n",
    "        if choix_joueur == 5 :\n",
    "            if choix_ordi == 5 :\n",
    "                e = e + 1\n",
    "                print(\"Egalité ! Votre nombre de manches remportées s'élève à :\", vJ)\n",
    "    \n",
    "        \n",
    "            elif choix_ordi == 4 :\n",
    "                vJ = vJ + 1\n",
    "                print(\"Bien joué, vous avez remporté la manche. Votre nombre de manches remportées s'élève à :\", vJ)\n",
    "\n",
    "        \n",
    "            elif choix_ordi == 3 :\n",
    "                vO = vO + 1\n",
    "                print(\"Dommage, vous avez perdu la manche. Votre nombre de manches remportées s'élève à :\", vJ)\n",
    "\n",
    "        if choix_joueur == 4 :\n",
    "            if choix_ordi == 5 :\n",
    "                vO = vO + 1\n",
    "                print(\"Dommage, vous avez perdu la manche. Votre nombre de manches remportées s'élève à :\", vJ)\n",
    "\n",
    "        \n",
    "            elif choix_ordi == 4 :\n",
    "                e = e + 1\n",
    "                print(\"Egalité ! Votre nombre de manches remportées s'élève à :\", vJ)\n",
    "\n",
    "        \n",
    "            elif choix_ordi == 3 :\n",
    "                vJ = vJ + 1\n",
    "                print(\"Bien joué, vous avez remporté la manche. Votre nombre de manches remportées s'élève à :\", vJ)\n",
    "\n",
    "        if choix_joueur == 3 :\n",
    "            if choix_ordi == 5 :\n",
    "                vJ = vJ + 1\n",
    "                print(\"Bien joué, vous avez remporté la manche. Votre nombre de manches remportées s'élève à :\", vJ)\n",
    "\n",
    "        \n",
    "            elif choix_ordi == 4 :\n",
    "                vO = vO + 1 \n",
    "                print(\"Dommage, vous avez perdu la manche. Votre nombre de manches remportées s'élève à :\", vJ)\n",
    "\n",
    "        \n",
    "            elif choix_ordi == 3 :\n",
    "                e = e + 1\n",
    "                print(\"Egalité ! Votre nombre de manches remportées s'élève à :\", vJ)\n",
    "    \n",
    "    \n",
    "\n",
    "# Si joueur gagnant \"Bravo ! Vous avez gagné\"\n",
    "\n",
    "    if vJ > vO :\n",
    "        print(\"Bravo vous avez gagné la partie !\")\n",
    "            \n",
    "    \n",
    "    \n",
    "# Si joueur perdant \"Dommage, vous avez perdu\"\n",
    "          \n",
    "    else :\n",
    "        print(\"Dommage, vous n'avez pas gagné la partie.\")\n",
    "    \n",
    "\n",
    "# Si non, \"Dommage, a une prochaine fois alors\"\n",
    "\n",
    "if lancement == 2 :\n",
    "    print(\"Dommage, a la prochaine !\")"
   ]
  },
  {
   "cell_type": "markdown",
   "metadata": {},
   "source": [
    "## Autres boucles avec while (TANT QUE ou JUSQU'A) :"
   ]
  },
  {
   "cell_type": "markdown",
   "metadata": {},
   "source": [
    "<img src=\"https://ericecmorlaix.github.io/img/BoucleFor.svg\" width=\"30%\">"
   ]
  },
  {
   "cell_type": "markdown",
   "metadata": {},
   "source": [
    "``` python\n",
    "Initialisation\n",
    "# Début de la boucle\n",
    "while Condition :\n",
    "\tInstruction 1\n",
    "\tInstruction 2\n",
    "\t...\n",
    "    Dernière Instruction\n",
    "    Modification\n",
    "# fin de la boucle et suite du programme\n",
    "```\n",
    "Les instructions inscrites dans la boucle forment un bloc d'instructions. Elles seront répétées tant que la condition de répétition est vrai.  \n",
    "Dès que la condition de répétition est fausse le programme sort de la boucle et se poursuit au delà.  \n",
    "L'initialisation déclare une variable et lui affecte une valeur initiale par exemple **`i = 0`**.\n",
    "La modification fait évoluer cette variable de façon régulière à chaque tour de boucle, par exemple par incrémentation **`i+=1`**.\n",
    "La condition consiste donc à faire un test binaire (vrai ou faux) sur la valeur de la variable **`i`**. Puisque **`i`** évolue à chaque tour de boucle, le résultat du test deviendra donc faux au bout d'un nombre fini d'itération.  \n",
    "Ce test s'appuie sur des opérateurs relationnels afin d'établir une comparaison entre la variable **`i`** et la valeur limite de répétition, par exemple **`i < 8`**.\n",
    "\n",
    "Ce qui donne par exemple :"
   ]
  },
  {
   "cell_type": "code",
   "execution_count": 5,
   "metadata": {},
   "outputs": [
    {
     "name": "stdout",
     "output_type": "stream",
     "text": [
      "Début de la boucle\n",
      "    Mon\n",
      "    Bloc\n",
      "    d'instructions\n",
      "    1\n",
      "    Mon\n",
      "    Bloc\n",
      "    d'instructions\n",
      "    2\n",
      "    Mon\n",
      "    Bloc\n",
      "    d'instructions\n",
      "    3\n",
      "    Mon\n",
      "    Bloc\n",
      "    d'instructions\n",
      "    4\n",
      "    Mon\n",
      "    Bloc\n",
      "    d'instructions\n",
      "    5\n",
      "    Mon\n",
      "    Bloc\n",
      "    d'instructions\n",
      "    6\n",
      "    Mon\n",
      "    Bloc\n",
      "    d'instructions\n",
      "    7\n",
      "    Mon\n",
      "    Bloc\n",
      "    d'instructions\n",
      "    8\n",
      "Fin de la boucle, prêt pour la suite du programme\n"
     ]
    }
   ],
   "source": [
    "i=0\n",
    "print('Début de la boucle')\n",
    "while i<8 :\n",
    "    print('    Mon')\n",
    "    print('    Bloc')\n",
    "    print(\"    d'instructions\")\n",
    "    i+=1\n",
    "    print('   ',i)\n",
    "print('Fin de la boucle, prêt pour la suite du programme')"
   ]
  },
  {
   "cell_type": "markdown",
   "metadata": {},
   "source": [
    "<h3 class='fa fa-graduation-cap' style=\"color: MediumSeaGreen\">France IOI - Département d'architecture : construction d'une pyramide : </h3>\n",
    "\n",
    "[![schema.png](http://data.france-ioi.org/Task/5a7caeef98dbbc5f488ba7561008ddf6/schema.png)](http://www.france-ioi.org/algo/task.php?idChapter=649&idTask=2052)\n",
    "\n",
    "Coller ici le code de votre programme qui a permis sur [France IOI](http://www.france-ioi.org/algo/task.php?idChapter=649&idTask=2052) de construire la plus grande pyramide possible :\n",
    "\n",
    "Votre programme doit d'abord lire un entier : le nombre maximum de pierres dont pourra être composée la pyramide. Il devra ensuite calculer et afficher un entier : la hauteur de la plus grande pyramide qui pourra être construite, ainsi que le nombre de pierres qui sera nécessaire."
   ]
  },
  {
   "cell_type": "code",
   "execution_count": 20,
   "metadata": {},
   "outputs": [
    {
     "name": "stdout",
     "output_type": "stream",
     "text": [
      "20\n",
      "La hauteur de la pyramide est égale a 3\n",
      "Le nombre de pierres utilisées est 14\n"
     ]
    }
   ],
   "source": [
    "# On demande un entier a l'utilisateur, le nombre maximum de pierres utilisées\n",
    "nbMaxPierres = int(input())\n",
    "nbPierresUtil = 0\n",
    "h = 0\n",
    "\n",
    "while nbPierresUtil + (h**2 + 1) <= nbMaxPierres :\n",
    "    \n",
    "    \n",
    "    # On calcul quel type de pyramide on pourra effectuer avec les pierres données\n",
    "    h = h + 1\n",
    "    nbPierresUtil += h**2\n",
    "    \n",
    "# On affiche la hauteur et le nombre de pierres utilisées\n",
    "print(\"La hauteur de la pyramide est égale a\", h)\n",
    "print(\"Le nombre de pierres utilisées est\", nbPierresUtil)"
   ]
  },
  {
   "cell_type": "markdown",
   "metadata": {},
   "source": [
    "##  Les fonctions :\n",
    "\n",
    "Les fonctions se définissent de la façon suivante :\n",
    "\n",
    "```Python\n",
    "def maFonction(parametre1, parametre2):\n",
    "    instructions\n",
    "    return valeur1, valeur2\n",
    "```\n",
    "Exemple :"
   ]
  },
  {
   "cell_type": "code",
   "execution_count": null,
   "metadata": {},
   "outputs": [],
   "source": [
    "def max(x,y):\n",
    "    if (x > y):\n",
    "        return x\n",
    "    else :\n",
    "        return y"
   ]
  },
  {
   "cell_type": "markdown",
   "metadata": {},
   "source": [
    "Pour l'utiliser, il faut l'appeler :"
   ]
  },
  {
   "cell_type": "code",
   "execution_count": 4,
   "metadata": {},
   "outputs": [
    {
     "data": {
      "text/plain": [
       "6"
      ]
     },
     "execution_count": 4,
     "metadata": {},
     "output_type": "execute_result"
    }
   ],
   "source": [
    "max(6,3)"
   ]
  },
  {
   "cell_type": "markdown",
   "metadata": {},
   "source": [
    "On peut ensuite la rapeller autant de fois qu'on le souhaite :"
   ]
  },
  {
   "cell_type": "code",
   "execution_count": 5,
   "metadata": {},
   "outputs": [
    {
     "data": {
      "text/plain": [
       "1"
      ]
     },
     "execution_count": 5,
     "metadata": {},
     "output_type": "execute_result"
    }
   ],
   "source": [
    "max(-9,1)"
   ]
  },
  {
   "cell_type": "markdown",
   "metadata": {},
   "source": [
    "<h3 class='fa fa-graduation-cap' style=\"color: MediumSeaGreen\">France IOI - Formes creuses : </h3>\n",
    "\n",
    "Coller ici le code de votre programme qui a permis sur [France IOI](http://www.france-ioi.org/algo/task.php?idChapter=509&idTask=455) d'afficher davantage de dessins pour vos spectateurs :\n",
    "\n",
    "**Ce que doit faire votre programme :**\n",
    "\n",
    "Écrivez un programme qui affiche une ligne de « X », un rectangle de « # », et un triangle de « @ ». Les deux formes doivent être creuses (remplies avec des espaces).\n",
    "\n",
    "L'entrée comporte quatre entiers, un par ligne :\n",
    "\n",
    "le nombre de « X » de la ligne à afficher ;\n",
    "le nombre de lignes du rectangle de « # » ;\n",
    "le nombre de colonnes du rectangle ;\n",
    "le nombre de lignes du triangle de « @ ».\n",
    "\n",
    "Vous devez afficher les trois formes successivement, avec une ligne blanche entre chaque forme, comme le montre l'exemple.\n",
    "\n",
    "Votre objectif doit être d'obtenir le code source le plus simple et clair possible, en le décomposant en fonctions.\n",
    "\n",
    "**Exemple**\n",
    "\n",
    "entrée :\n",
    "\n",
    "```\n",
    "15\n",
    "5\n",
    "12\n",
    "6\n",
    "\n",
    "```\n",
    "\n",
    "sortie :\n",
    "\n",
    "```\n",
    "XXXXXXXXXXXXXXX\n",
    "\n",
    "############\n",
    "#          #\n",
    "#          #\n",
    "#          #\n",
    "############\n",
    "\n",
    "@\n",
    "@@\n",
    "@ @\n",
    "@  @\n",
    "@   @\n",
    "@@@@@@\n",
    "\n",
    "```\n",
    "\n",
    "**Commentaires**\n",
    "\n",
    "Attention : le nombre de lignes ou de colonnes peut être égal à 1.\n",
    "\n"
   ]
  },
  {
   "cell_type": "code",
   "execution_count": 3,
   "metadata": {},
   "outputs": [
    {
     "name": "stdout",
     "output_type": "stream",
     "text": [
      "14\n",
      "27\n",
      "34\n",
      "2\n",
      "XXXXXXXXXXXXXX"
     ]
    }
   ],
   "source": [
    "lX = int(input())\n",
    "lR = int(input())\n",
    "cR = int(input())\n",
    "lT = int(input())\n",
    "\n",
    "for loop in range (lX):\n",
    "        print(\"X\", end=\"\")\n",
    "        \n",
    "print()\n",
    "\n",
    "for loop in range (lR):\n",
    "        print(\"#\", end=\"\")\n"
   ]
  },
  {
   "cell_type": "markdown",
   "metadata": {},
   "source": [
    "## L'outil Python tutor :\n",
    "\n",
    "[Python tutor](http://pythontutor.com/) permet de visualiser pas à pas ce que fait votre script.\n",
    "\n",
    "Il est possible de l'utiliser dans un notebook jupyter pour celà il faut :\n",
    "1. l'installer (si ce n'est pas déjà fait) : ``%pip install metakernel``\n",
    "1. puis exécuter les instructions de la cellule suivante :"
   ]
  },
  {
   "cell_type": "code",
   "execution_count": 3,
   "metadata": {},
   "outputs": [
    {
     "name": "stdout",
     "output_type": "stream",
     "text": [
      "Collecting metakernel\n",
      "\u001b[?25l  Downloading https://files.pythonhosted.org/packages/a4/3f/b4db994950bb1443228f097be3c0827f106641a18f0243f37bc1bd747a0a/metakernel-0.27.5-py2.py3-none-any.whl (208kB)\n",
      "\u001b[K     |████████████████████████████████| 215kB 3.5MB/s eta 0:00:01\n",
      "\u001b[?25hRequirement already satisfied: ipykernel in /private/var/mobile/Containers/Data/Application/B76D8C5F-E6EA-4514-A53C-CA2103E8EFB4/Library/lib/python3.7/site-packages (from metakernel) (5.1.0)\n",
      "Requirement already satisfied: pexpect>=4.2 in /private/var/mobile/Containers/Data/Application/B76D8C5F-E6EA-4514-A53C-CA2103E8EFB4/Library/lib/python3.7/site-packages (from metakernel) (4.6.0)\n",
      "Requirement already satisfied: traitlets>=4.1.0 in /private/var/mobile/Containers/Data/Application/B76D8C5F-E6EA-4514-A53C-CA2103E8EFB4/Library/lib/python3.7/site-packages (from ipykernel->metakernel) (4.3.2)\n",
      "Requirement already satisfied: ipython>=5.0.0 in /private/var/mobile/Containers/Data/Application/B76D8C5F-E6EA-4514-A53C-CA2103E8EFB4/Library/lib/python3.7/site-packages (from ipykernel->metakernel) (7.3.0)\n",
      "Requirement already satisfied: jupyter-client in /private/var/mobile/Containers/Data/Application/B76D8C5F-E6EA-4514-A53C-CA2103E8EFB4/Library/lib/python3.7/site-packages (from ipykernel->metakernel) (5.2.4)\n",
      "Requirement already satisfied: tornado>=4.2 in /private/var/mobile/Containers/Data/Application/B76D8C5F-E6EA-4514-A53C-CA2103E8EFB4/Library/lib/python3.7/site-packages/tornado-6.0.1-py3.7-macosx-12.1-iPad6,7.egg (from ipykernel->metakernel) (6.0.1)\n",
      "Requirement already satisfied: ptyprocess>=0.5 in /private/var/mobile/Containers/Data/Application/B76D8C5F-E6EA-4514-A53C-CA2103E8EFB4/Library/lib/python3.7/site-packages (from pexpect>=4.2->metakernel) (0.6.0)\n",
      "Requirement already satisfied: ipython-genutils in /private/var/mobile/Containers/Data/Application/B76D8C5F-E6EA-4514-A53C-CA2103E8EFB4/Library/lib/python3.7/site-packages (from traitlets>=4.1.0->ipykernel->metakernel) (0.2.0)\n",
      "Requirement already satisfied: decorator in /private/var/mobile/Containers/Data/Application/B76D8C5F-E6EA-4514-A53C-CA2103E8EFB4/Library/lib/python3.7/site-packages (from traitlets>=4.1.0->ipykernel->metakernel) (4.3.0)\n",
      "Requirement already satisfied: six in /private/var/mobile/Containers/Data/Application/B76D8C5F-E6EA-4514-A53C-CA2103E8EFB4/Library/lib/python3.7/site-packages (from traitlets>=4.1.0->ipykernel->metakernel) (1.12.0)\n",
      "Requirement already satisfied: python-dateutil>=2.1 in /private/var/mobile/Containers/Data/Application/B76D8C5F-E6EA-4514-A53C-CA2103E8EFB4/Library/lib/python3.7/site-packages (from jupyter-client->ipykernel->metakernel) (2.7.5)\n",
      "Requirement already satisfied: jupyter-core in /private/var/mobile/Containers/Data/Application/B76D8C5F-E6EA-4514-A53C-CA2103E8EFB4/Library/lib/python3.7/site-packages (from jupyter-client->ipykernel->metakernel) (4.4.0)\n",
      "Requirement already satisfied: pyzmq>=13 in /private/var/mobile/Containers/Data/Application/B76D8C5F-E6EA-4514-A53C-CA2103E8EFB4/Library/lib/python3.7/site-packages (from jupyter-client->ipykernel->metakernel) (17.1.2)\n",
      "Installing collected packages: metakernel\n",
      "Successfully installed metakernel-0.27.5\n",
      "Note: you may need to restart the kernel to use updated packages.\n"
     ]
    }
   ],
   "source": [
    "%pip install metakernel"
   ]
  },
  {
   "cell_type": "code",
   "execution_count": 2,
   "metadata": {},
   "outputs": [],
   "source": [
    "from metakernel import register_ipython_magics\n",
    "register_ipython_magics()"
   ]
  },
  {
   "cell_type": "markdown",
   "metadata": {},
   "source": [
    "3. inscrire la commande ``%%tutor`` devant le script à tester dans la cellule :"
   ]
  },
  {
   "cell_type": "code",
   "execution_count": 3,
   "metadata": {
    "scrolled": true
   },
   "outputs": [
    {
     "data": {
      "text/html": [
       "\n",
       "        <iframe\n",
       "            width=\"100%\"\n",
       "            height=\"500\"\n",
       "            src=\"https://pythontutor.com/iframe-embed.html#code=%23%20Script%20%C3%A0%20tester%20%3A%0Afor%20i%20in%20range%280%2C6%2C2%29%3A%0A%20%20%20%20print%28i%29%0A&origin=opt-frontend.js&cumulative=false&heapPrimitives=false&textReferences=false&py=3&rawInputLstJSON=%5B%5D&curInstr=0&codeDivWidth=350&codeDivHeight=400\"\n",
       "            frameborder=\"0\"\n",
       "            allowfullscreen\n",
       "        ></iframe>\n",
       "        "
      ],
      "text/plain": [
       "<IPython.lib.display.IFrame at 0x1176d65c0>"
      ]
     },
     "metadata": {},
     "output_type": "display_data"
    }
   ],
   "source": [
    "%%tutor\n",
    "# Script à tester :\n",
    "for i in range(0,6,2):\n",
    "    print(i)"
   ]
  },
  {
   "cell_type": "markdown",
   "metadata": {},
   "source": [
    "****\n",
    "## Références aux programmes :\n",
    "\n",
    "<style type=\"text/css\">\n",
    ".tg  {border-collapse:collapse;border-spacing:0;}\n",
    ".tg td{font-family:Arial, sans-serif;font-size:14px;padding:10px 5px;border-style:solid;border-width:1px;overflow:hidden;word-break:normal;border-color:black;}\n",
    ".tg th{font-family:Arial, sans-serif;font-size:14px;font-weight:normal;padding:10px 5px;border-style:solid;border-width:1px;overflow:hidden;word-break:normal;border-color:black;}\n",
    ".tg .tg-cv16{font-weight:bold;background-color:#dae8fc;border-color:inherit;text-align:center}\n",
    ".tg .tg-xldj{border-color:inherit;text-align:left}\n",
    "</style>\n",
    "<table class=\"tg\">\n",
    "  <tr>\n",
    "    <th class=\"tg-cv16\">Compétences développées</th>\n",
    "    <th class=\"tg-cv16\">Capacités attendues</th>\n",
    "    <th class=\"tg-cv16\">Commentaires</th>\n",
    "  </tr>\n",
    "  <tr>\n",
    "    <td class=\"tg-xldj\">Écriture d’un entier positif dans une base b ⩾ 2</td>\n",
    "    <td class=\"tg-xldj\">Passer de la représentation d’une base dans une autre.</td>\n",
    "    <td class=\"tg-xldj\">Les bases 2, 10 et 16 sont privilégiées.</td>\n",
    "  </tr>\n",
    "</table>"
   ]
  },
  {
   "cell_type": "markdown",
   "metadata": {},
   "source": [
    "## Autres ressources :\n",
    "\n",
    "- [Documentation python 3](https://docs.python.org/fr/3/) \n",
    "- [France IOI](http://www.france-ioi.org/algo/chapters.php)\n",
    "- [Fabrice DUMONT](http://python.lecoinduprogrammeur.org/) \n",
    "- [Jean-Daniel Bonjour](https://enacit1.epfl.ch/introduction-python/)\n",
    "- [Débuter avec python au lycée](http://python.lycee.free.fr/)\n",
    "- \n",
    "-   \n",
    "- "
   ]
  },
  {
   "cell_type": "markdown",
   "metadata": {},
   "source": [
    "<a rel=\"license\" href=\"http://creativecommons.org/licenses/by-sa/4.0/\"><img alt=\"Licence Creative Commons\" style=\"border-width:0\" src=\"https://i.creativecommons.org/l/by-sa/4.0/88x31.png\" /></a><br />Ce document est mis à disposition selon les termes de la <a rel=\"license\" href=\"http://creativecommons.org/licenses/by-sa/4.0/\">Licence Creative Commons Attribution -  Partage dans les Mêmes Conditions 4.0 International</a>.\n",
    "\n",
    "Pour toute question, suggestion ou commentaire : <a href=\"mailto:eric.madec@ecmorlaix.fr\">eric.madec@ecmorlaix.fr</a>"
   ]
  },
  {
   "cell_type": "code",
   "execution_count": null,
   "metadata": {},
   "outputs": [],
   "source": []
  }
 ],
 "metadata": {
  "celltoolbar": "Format de la Cellule Texte Brut",
  "kernelspec": {
   "display_name": "Python 3",
   "language": "python",
   "name": "python3"
  },
  "language_info": {
   "codemirror_mode": {
    "name": "ipython",
    "version": 3
   },
   "file_extension": ".py",
   "mimetype": "text/x-python",
   "name": "python",
   "nbconvert_exporter": "python",
   "pygments_lexer": "ipython3",
   "version": "3.7.1"
  },
  "toc": {
   "base_numbering": 1,
   "nav_menu": {},
   "number_sections": true,
   "sideBar": true,
   "skip_h1_title": false,
   "title_cell": "Table of Contents",
   "title_sidebar": "Contents",
   "toc_cell": false,
   "toc_position": {},
   "toc_section_display": true,
   "toc_window_display": false
  },
  "varInspector": {
   "cols": {
    "lenName": 16,
    "lenType": 16,
    "lenVar": 40
   },
   "kernels_config": {
    "python": {
     "delete_cmd_postfix": "",
     "delete_cmd_prefix": "del ",
     "library": "var_list.py",
     "varRefreshCmd": "print(var_dic_list())"
    },
    "r": {
     "delete_cmd_postfix": ") ",
     "delete_cmd_prefix": "rm(",
     "library": "var_list.r",
     "varRefreshCmd": "cat(var_dic_list()) "
    }
   },
   "types_to_exclude": [
    "module",
    "function",
    "builtin_function_or_method",
    "instance",
    "_Feature"
   ],
   "window_display": false
  }
 },
 "nbformat": 4,
 "nbformat_minor": 2
}
