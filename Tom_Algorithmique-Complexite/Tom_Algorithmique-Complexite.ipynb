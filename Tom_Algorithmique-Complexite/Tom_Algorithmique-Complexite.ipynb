{
 "cells": [
  {
   "cell_type": "markdown",
   "metadata": {},
   "source": [
    "# Algorithmique et complexité :\n",
    "\n",
    "<h2 class='fa fa-graduation-cap' style=\"color: MediumSeaGreen\"> A faire vous même :</h2>\n",
    "\n",
    "Lire la page [Introduction à l'algorithmique](https://pixees.fr/informatiquelycee/n_site/nsi_prem_intro_algo.html) proposée par David ROCHE puis répondre aux questions suivantes :"
   ]
  },
  {
   "cell_type": "markdown",
   "metadata": {},
   "source": [
    "- A qui attribue-t-on les premiers algorithmes :\n",
    "\n",
    "On les attribue à Muhammad Ibn Mūsā al-Khuwārizmī"
   ]
  },
  {
   "cell_type": "markdown",
   "metadata": {},
   "source": [
    "- Qu'est-ce qu'un algorithme ? Proposez une définition :\n",
    "\n",
    "Un algorithme c'est la spécification d'un schéma de calcul sous forme d'une suite finie d'opérations élémentaires obéissant à un enchainement déterminé."
   ]
  },
  {
   "cell_type": "markdown",
   "metadata": {},
   "source": [
    "- Dans quel langage exprime-t-on un algorithme :\n",
    "\n",
    "=> En langage naturel."
   ]
  },
  {
   "attachments": {
    "image.png": {
     "image/png": "[encoded data removed]"
    }
   },
   "cell_type": "markdown",
   "metadata": {},
   "source": [
    "- Rechercher sur le Web ce qu'est un algorigramme ? Proposez des synonymes puis collez ci-dessous un lien hypertexte, une image d'un exemple d'algorigramme :\n",
    "\n",
    "    -> Schéma représetant un algorithme\n",
    "    \n",
    "    -> Organigramme de programmation\n",
    "    \n",
    "    \n",
    "    \n",
    "![image.png](attachment:image.png)"
   ]
  },
  {
   "cell_type": "markdown",
   "metadata": {},
   "source": [
    "- Que devez vous faire si on vous demande d'implémenter un algorithme ?\n",
    "\n",
    "Il faut le \"faire tourner à la main\" : on \"exécute\" l'algorithme en utilisant uniquement une feuille et un crayon.\n",
    "Et bien sûr faire attention a l'indice du premier terme."
   ]
  },
  {
   "cell_type": "markdown",
   "metadata": {},
   "source": [
    "- Qu'est-ce que la complexité d'un algorithme ?\n",
    "\n",
    "La notion de complexité d'un algorithme va rendre compte de l'efficacité de cet algorithme. Pour un même problème, par exemple trier un tableau, il existe plusieurs algorithmes, certains algorithmes sont plus efficaces que d'autres"
   ]
  },
  {
   "cell_type": "markdown",
   "metadata": {},
   "source": [
    "- Quels types de complexité distingue-t-on pour un algorithme ?\n",
    "\n",
    "Il y a le temps et la mémoire."
   ]
  },
  {
   "cell_type": "markdown",
   "metadata": {},
   "source": [
    "- Comment mesure-t-on la complexité d'un algorithme ?\n",
    "\n",
    "En effectuant des opérations élémentaires."
   ]
  },
  {
   "cell_type": "markdown",
   "metadata": {},
   "source": [
    "- A quoi correspond la complexité du pire des cas ?\n",
    "\n",
    "=> On parle de \"complexité dans le pire des cas\" quand on s'intéresse uniquement au cas où le nombre d'opérations élémentaires est le plus grand."
   ]
  },
  {
   "cell_type": "markdown",
   "metadata": {},
   "source": [
    "<h2 class='fa fa-code' style=\"color: darkorange\"> A coder vous même :</h2>\n",
    "\n",
    "### Implémenter l'algorithme suivant dans une fonction en Python :\n",
    "\n",
    "> /!\\ en Python le premier élément d'un tableau a pour indice 0\n",
    "\n",
    "```pseudocode\n",
    "VARIABLE\n",
    "t : tableau d'entiers\n",
    "x : nombre entier\n",
    "tr : booléen (VRAI ou FAUX)\n",
    "i : nombre entier\n",
    "DEBUT\n",
    "tr ← FAUX\n",
    "i ← 1\n",
    "tant que i<=longueur(t) et que tr==FAUX:\n",
    "  si t[i]==x:\n",
    "    tr ← VRAI\n",
    "  fin si\n",
    "  i ← i+1\n",
    "fin tant que\n",
    "renvoyer la valeur de tr\n",
    "FIN\n",
    "```"
   ]
  },
  {
   "cell_type": "code",
   "execution_count": 4,
   "metadata": {},
   "outputs": [],
   "source": [
    "from metakernel import register_ipython_magics\n",
    "register_ipython_magics()"
   ]
  },
  {
   "cell_type": "code",
   "execution_count": 7,
   "metadata": {},
   "outputs": [
    {
     "data": {
      "text/html": [
       "\n",
       "        <iframe\n",
       "            width=\"100%\"\n",
       "            height=\"500\"\n",
       "            src=\"https://pythontutor.com/iframe-embed.html#code=def%20maFonction%28t%2C%20x%29%20%3A%0A%20%20%20%20tr%20%3D%20False%0A%20%20%20%20i%20%3D%201%0A%20%20%20%20while%20i%20%3C%3D%20len%28t%29%20and%20tr%20%3D%3D%20False%3A%0A%20%20%20%20%20%20%20%20if%20t%5Bi-1%5D%20%3D%3D%20x%3A%0A%20%20%20%20%20%20%20%20%20%20%20%20tr%20%3D%20True%0A%20%20%20%20%20%20%20%20i%20%2B%3D%201%0A%20%20%20%20%20%20%20%20%0A%20%20%20%20return%20tr%0A%0AmaFonction%28%5B5%2C8%2C15%2C53%5D%2C%2012%29%0A&origin=opt-frontend.js&cumulative=false&heapPrimitives=false&textReferences=false&py=3&rawInputLstJSON=%5B%5D&curInstr=0&codeDivWidth=350&codeDivHeight=400\"\n",
       "            frameborder=\"0\"\n",
       "            allowfullscreen\n",
       "        ></iframe>\n",
       "        "
      ],
      "text/plain": [
       "<IPython.lib.display.IFrame at 0x7fc0fc544bd0>"
      ]
     },
     "metadata": {},
     "output_type": "display_data"
    }
   ],
   "source": [
    "%%tutor\n",
    "def maFonction(t, x) :\n",
    "    tr = False\n",
    "    i = 1\n",
    "    while i <= len(t) and tr == False:\n",
    "        if t[i-1] == x:\n",
    "            tr = True\n",
    "        i += 1\n",
    "        \n",
    "    return tr\n",
    "\n",
    "maFonction([5,8,15,53], 12)"
   ]
  },
  {
   "cell_type": "code",
   "execution_count": 8,
   "metadata": {},
   "outputs": [],
   "source": [
    "def maFonction(t, x) :\n",
    "    tr = False\n",
    "    i = 1 \n",
    "    \n",
    "    while i <= len(t) and tr == False:\n",
    "        if t[i-1] == x:\n",
    "            tr = True\n",
    "        i += 1\n",
    "        \n",
    "    return tr"
   ]
  },
  {
   "cell_type": "markdown",
   "metadata": {},
   "source": [
    "### Vérifier le bon fonctionnement de votre fonction :"
   ]
  },
  {
   "cell_type": "code",
   "execution_count": 9,
   "metadata": {
    "scrolled": false
   },
   "outputs": [
    {
     "data": {
      "text/plain": [
       "True"
      ]
     },
     "execution_count": 9,
     "metadata": {},
     "output_type": "execute_result"
    }
   ],
   "source": [
    "maFonction([5,8,15,53], 15)"
   ]
  },
  {
   "cell_type": "code",
   "execution_count": 10,
   "metadata": {},
   "outputs": [
    {
     "data": {
      "text/plain": [
       "False"
      ]
     },
     "execution_count": 10,
     "metadata": {},
     "output_type": "execute_result"
    }
   ],
   "source": [
    "maFonction([5,8,15,53], 12)"
   ]
  },
  {
   "cell_type": "markdown",
   "metadata": {},
   "source": [
    "### Puis mesurer le temps d'exécution de votre programme avec `timeit` :"
   ]
  },
  {
   "cell_type": "code",
   "execution_count": 11,
   "metadata": {},
   "outputs": [
    {
     "name": "stdout",
     "output_type": "stream",
     "text": [
      "1.12 µs ± 1.19 ns per loop (mean ± std. dev. of 7 runs, 1000000 loops each)\n"
     ]
    }
   ],
   "source": [
    "%timeit maFonction([5,8,15,53], 15)"
   ]
  },
  {
   "cell_type": "code",
   "execution_count": 12,
   "metadata": {},
   "outputs": [
    {
     "name": "stdout",
     "output_type": "stream",
     "text": [
      "1.34 µs ± 0.829 ns per loop (mean ± std. dev. of 7 runs, 1000000 loops each)\n"
     ]
    }
   ],
   "source": [
    "%timeit maFonction([5,8,15,53], 12)"
   ]
  },
  {
   "cell_type": "code",
   "execution_count": 13,
   "metadata": {},
   "outputs": [
    {
     "name": "stdout",
     "output_type": "stream",
     "text": [
      "620 ns ± 1.94 ns per loop (mean ± std. dev. of 7 runs, 1000000 loops each)\n"
     ]
    }
   ],
   "source": [
    "%timeit maFonction([5,8,15,53], 5)"
   ]
  },
  {
   "cell_type": "markdown",
   "metadata": {},
   "source": [
    "Est-ce que ces résultats sont logiques ? Expliquez pourquoi ?\n",
    "\n",
    "=> Oui les résultats sont logiques, car si le x est dans la liste t, le temps que la fonction va mettre à répondre sera plus petit que si le x n'est pas dedans. Suivant sa place dans la liste, le résultat sera encore plus ou moins rapide."
   ]
  },
  {
   "cell_type": "markdown",
   "metadata": {},
   "source": [
    "Mesurez le temps d'exécution de votre programme pour des tableaux de plus grande dimension.\n",
    "\n",
    "Est-ce que ces résultats vérifient l'ordre de grandeur de sa complexité ?\n",
    "\n",
    "oui."
   ]
  },
  {
   "cell_type": "code",
   "execution_count": 14,
   "metadata": {},
   "outputs": [],
   "source": [
    "## à faire plus tard"
   ]
  },
  {
   "cell_type": "code",
   "execution_count": null,
   "metadata": {},
   "outputs": [],
   "source": []
  },
  {
   "cell_type": "code",
   "execution_count": null,
   "metadata": {},
   "outputs": [],
   "source": []
  },
  {
   "cell_type": "markdown",
   "metadata": {},
   "source": [
    "<h2 class='fa fa-cogs' style=\"color: tomato\"> A faire vous même :</h2>"
   ]
  },
  {
   "cell_type": "markdown",
   "metadata": {},
   "source": [
    "Écrivez un algorithme permettant de trouver le plus grand entier présent dans un tableau.\n",
    "\n",
    "```pseudocode\n",
    "VARIABLE\n",
    "t : tableau d'entiers\n",
    "biggest_nb : nombre entier\n",
    "i : nombre entier\n",
    "\n",
    "DEBUT\n",
    "biggest_nb <- 0\n",
    "\n",
    "pour i en boucle parcourant le tableau:\n",
    "    si biggest_nb < t[i+1]:\n",
    "      biggest_nb <- t[i]\n",
    "    fin  si\n",
    "fin boucle\n",
    "\n",
    "renvoyer biggest_nb\n",
    "FIN\n",
    "```\n",
    "\n",
    "Vous ferez \"tourner à la main\" votre algorithme en utilisant le tableau `t = [3,5,1,8,4,2]`.\n",
    "\n",
    "Vous déterminerez ensuite la complexité de votre algorithme.\n",
    "\n",
    "Enfin programmez une fonction Python correspondante à votre algorithme puis mesurez son temps d'exécution et vérifiez sa complexité..."
   ]
  },
  {
   "cell_type": "code",
   "execution_count": null,
   "metadata": {},
   "outputs": [],
   "source": []
  },
  {
   "cell_type": "code",
   "execution_count": 1,
   "metadata": {},
   "outputs": [],
   "source": [
    "def le_plus_grand_nombre(t, biggest_nb):\n",
    "    \n",
    "    \n",
    "    \n",
    "    return biggest_nb"
   ]
  },
  {
   "cell_type": "markdown",
   "metadata": {},
   "source": [
    "<h2 class='fa fa-cogs' style=\"color: tomato\"> A faire vous même :</h2>"
   ]
  },
  {
   "cell_type": "markdown",
   "metadata": {},
   "source": [
    "Écrivez un algorithme permettant de calculer la moyenne de tous les entiers présents dans un tableau.\n",
    "\n",
    "```pseudocode\n",
    "VARIABLE\n",
    "t : tableau d'entiers\n",
    "n : nombre entier\n",
    "somme : nombre entier\n",
    "moyenne : nombre flottant\n",
    "\n",
    "DEBUT\n",
    "\n",
    "somme <- 0\n",
    "\n",
    "pour n en boucle range le nombre d'entiers dans le tableau:\n",
    "    somme incrémenté avec t(n]\n",
    "    fin de la boucle pour\n",
    "\n",
    "moyenne <- somme des entiers du tableau divisée par le nombre d'entiers dans le tableau\n",
    "\n",
    "\n",
    "renvoyer moyenne\n",
    "FIN\n",
    "```\n",
    "\n",
    "Vous ferez \"tourner à la main\" votre algorithme en utilisant le tableau `t = [3,5,1,8,4,2]`.\n",
    "\n",
    "Vous déterminerez ensuite la complexité de votre algorithme.\n",
    "\n",
    "Enfin programmez une fonction Python correspondante à votre algorithme puis mesurez son temps d'exécution et vérifiez sa complexité..."
   ]
  },
  {
   "cell_type": "code",
   "execution_count": null,
   "metadata": {},
   "outputs": [],
   "source": []
  },
  {
   "cell_type": "code",
   "execution_count": 3,
   "metadata": {},
   "outputs": [],
   "source": [
    "def moyenne_element(t) :\n",
    "    somme =0\n",
    "    for n in range (len(t)):\n",
    "        somme += t[n]\n",
    "    moyenne = somme/len(t)\n",
    "\n",
    "    return moyenne"
   ]
  },
  {
   "cell_type": "code",
   "execution_count": 4,
   "metadata": {
    "scrolled": true
   },
   "outputs": [
    {
     "data": {
      "text/plain": [
       "7.0"
      ]
     },
     "execution_count": 4,
     "metadata": {},
     "output_type": "execute_result"
    }
   ],
   "source": [
    "moyenne_element([5,7,9])"
   ]
  },
  {
   "cell_type": "code",
   "execution_count": 5,
   "metadata": {},
   "outputs": [],
   "source": [
    "t = [3,5,1,8,4,2]"
   ]
  },
  {
   "cell_type": "code",
   "execution_count": 6,
   "metadata": {},
   "outputs": [
    {
     "data": {
      "text/plain": [
       "3.8333333333333335"
      ]
     },
     "execution_count": 6,
     "metadata": {},
     "output_type": "execute_result"
    }
   ],
   "source": [
    "moyenne_element(t)"
   ]
  },
  {
   "cell_type": "markdown",
   "metadata": {},
   "source": [
    "****\n",
    "## Références aux programmes :\n",
    "\n",
    "<style type=\"text/css\">\n",
    ".tg  {border-collapse:collapse;border-spacing:0;}\n",
    ".tg td{font-family:Arial, sans-serif;font-size:14px;padding:10px 5px;border-style:solid;border-width:1px;overflow:hidden;word-break:normal;border-color:black;}\n",
    ".tg th{font-family:Arial, sans-serif;font-size:14px;font-weight:normal;padding:10px 5px;border-style:solid;border-width:1px;overflow:hidden;word-break:normal;border-color:black;}\n",
    ".tg .tg-cv16{font-weight:bold;background-color:#dae8fc;border-color:inherit;text-align:center}\n",
    ".tg .tg-xldj{border-color:inherit;text-align:left}\n",
    "</style>\n",
    "\n",
    "<table class=\"tg\">\n",
    "  <tr>\n",
    "    <th class=\"tg-cv16\">Contenus</th>\n",
    "    <th class=\"tg-cv16\">Capacités attendues</th>\n",
    "    <th class=\"tg-cv16\">Commentaires</th>\n",
    "  </tr>\n",
    "  \n",
    "  <tr>\n",
    "    <td class=\"tg-xldj\">Parcours séquentiel d’un tableau</td>\n",
    "    <td class=\"tg-xldj\">Écrire un algorithme de recherche d’une occurrence sur des valeurs de type quelconque.<br>Écrire un algorithme de recherche d’un extremum, de calcul d’une moyenne.</td>\n",
    "    <td class=\"tg-xldj\">On montre que le coût est linéaire.</td>\n",
    "  </tr>\n",
    "    \n",
    "</table>"
   ]
  },
  {
   "cell_type": "markdown",
   "metadata": {},
   "source": [
    "## Ressources :\n",
    "\n",
    "Pour mesurer un temps d'exécution, Python dispose d'une bibliothèque dédiée : [timeit](https://docs.python.org/3.8/library/timeit)"
   ]
  },
  {
   "cell_type": "markdown",
   "metadata": {},
   "source": [
    "Dans jupyter :\n",
    "\n",
    "```python\n",
    "%timeit ma_fonction()\n",
    "```\n",
    "\n",
    "ou \n",
    "\n",
    "```python\n",
    "%%timeit\n",
    "i,r = 0,1\n",
    "n = 5\n",
    "while i <= n:\n",
    "    i = i + 1\n",
    "    r = r*i\n",
    "```\n",
    "\n",
    "Afficher l'aide :"
   ]
  },
  {
   "cell_type": "code",
   "execution_count": 7,
   "metadata": {},
   "outputs": [],
   "source": [
    "?timeit"
   ]
  },
  {
   "cell_type": "markdown",
   "metadata": {},
   "source": [
    "<a rel=\"license\" href=\"http://creativecommons.org/licenses/by-sa/4.0/\"><img alt=\"Licence Creative Commons\" style=\"border-width:0\" src=\"https://i.creativecommons.org/l/by-sa/4.0/88x31.png\" /></a><br />Ce document, basé sur le travail de [David ROCHE](https://pixees.fr/informatiquelycee/n_site/nsi_prem.html), est mis à disposition selon les termes de la <a rel=\"license\" href=\"http://creativecommons.org/licenses/by-sa/4.0/\">Licence Creative Commons Attribution -  Partage dans les Mêmes Conditions 4.0 International</a>.\n",
    "\n",
    "Pour toute question, suggestion ou commentaire : <a href=\"mailto:eric.madec@ecmorlaix.fr\">eric.madec@ecmorlaix.fr</a>"
   ]
  },
  {
   "cell_type": "code",
   "execution_count": null,
   "metadata": {},
   "outputs": [],
   "source": []
  }
 ],
 "metadata": {
  "kernelspec": {
   "display_name": "Python 3",
   "language": "python",
   "name": "python3"
  },
  "language_info": {
   "codemirror_mode": {
    "name": "ipython",
    "version": 3
   },
   "file_extension": ".py",
   "mimetype": "text/x-python",
   "name": "python",
   "nbconvert_exporter": "python",
   "pygments_lexer": "ipython3",
   "version": "3.7.10"
  },
  "toc": {
   "base_numbering": 1,
   "nav_menu": {},
   "number_sections": true,
   "sideBar": true,
   "skip_h1_title": false,
   "title_cell": "Table of Contents",
   "title_sidebar": "Contents",
   "toc_cell": false,
   "toc_position": {},
   "toc_section_display": true,
   "toc_window_display": false
  },
  "varInspector": {
   "cols": {
    "lenName": 16,
    "lenType": 16,
    "lenVar": 40
   },
   "kernels_config": {
    "python": {
     "delete_cmd_postfix": "",
     "delete_cmd_prefix": "del ",
     "library": "var_list.py",
     "varRefreshCmd": "print(var_dic_list())"
    },
    "r": {
     "delete_cmd_postfix": ") ",
     "delete_cmd_prefix": "rm(",
     "library": "var_list.r",
     "varRefreshCmd": "cat(var_dic_list()) "
    }
   },
   "types_to_exclude": [
    "module",
    "function",
    "builtin_function_or_method",
    "instance",
    "_Feature"
   ],
   "window_display": false
  }
 },
 "nbformat": 4,
 "nbformat_minor": 2
}
