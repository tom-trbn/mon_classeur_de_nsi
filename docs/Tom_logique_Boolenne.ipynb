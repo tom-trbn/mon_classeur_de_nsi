{
 "cells": [
  {
   "cell_type": "markdown",
   "metadata": {},
   "source": [
    "# Logique Boléenne :"
   ]
  },
  {
   "cell_type": "markdown",
   "metadata": {},
   "source": [
    "## Un peu d'histoire :\n",
    "\n",
    "En 1847, le Britanique [George Boole](https://fr.wikipedia.org/wiki/George_Boole) développe un algèbre binaire pour traduire des raisonnements logiques sous forme d'équations dites booléennes.\n",
    "\n",
    "En 1938, l'Américain Claude Shannon prouve que les circuits électriques peuvent résoudre tous les problèmes que l'algèbre de Boole peut résoudre.\n",
    "\n",
    "Ceci et les travaux d'Alan Turing de 1936 constituent les fondements de l'informatique."
   ]
  },
  {
   "cell_type": "markdown",
   "metadata": {},
   "source": [
    "## Algèbre de Boole :\n",
    "\n",
    "Un **booléen** ne peut prendre que deux valeurs distinctes :\n",
    "- soit **`True = 1`** (Vrai) ;\n",
    "- soit **`False = 0`** (Faux).\n",
    "\n",
    "On peut **affecter un booléen** à une variable. Il s'agit alors d'une variable binaire."
   ]
  },
  {
   "cell_type": "code",
   "execution_count": 1,
   "metadata": {},
   "outputs": [
    {
     "data": {
      "text/plain": [
       "bool"
      ]
     },
     "execution_count": 1,
     "metadata": {},
     "output_type": "execute_result"
    }
   ],
   "source": [
    "continuer = True\n",
    "type(continuer)"
   ]
  },
  {
   "cell_type": "markdown",
   "metadata": {},
   "source": [
    "Les conditions, comparaisons et tests d'égalité, sont des expressions qui produisent un résultat **booléen**"
   ]
  },
  {
   "cell_type": "code",
   "execution_count": 2,
   "metadata": {},
   "outputs": [
    {
     "name": "stdout",
     "output_type": "stream",
     "text": [
      "demat\n",
      "Voulez-vous continuer ? o/n : o\n",
      "demat\n",
      "Voulez-vous continuer ? o/n : o\n",
      "demat\n",
      "Voulez-vous continuer ? o/n : o\n",
      "demat\n",
      "Voulez-vous continuer ? o/n : n\n",
      "kenavo\n"
     ]
    }
   ],
   "source": [
    "while continuer:              #la condition est vraie, on exécute le bloc de la boucle while\n",
    "    print(\"demat\")\n",
    "    poursuivre = input(\"Voulez-vous continuer ? o/n : \")\n",
    "    if poursuivre.lower() == 'n':\n",
    "        print(\"kenavo\")\n",
    "        continuer = False     #la condition est fausse, on sort de la boucle"
   ]
  },
  {
   "cell_type": "markdown",
   "metadata": {},
   "source": [
    "Les opérations fondamentales de l'[algèbre de Boole](https://fr.wikipedia.org/wiki/Alg%C3%A8bre_de_Boole_(logique)) sont :\n",
    "* la **conjonction**, **ET**, se note : `and`, $\\bullet$, $\\&$ , $∧$ \n",
    "* la **disjonction**, **OU**, se note : `or`, $+$, $|$ , $∨$  \n",
    "* la **négation** : **NON**, se note : `not`, $\\bar{ }$, ~, $¬$\n",
    "\n",
    "Avec ces opérateurs de base, nous allons pouvoir définir des **fonctions logiques**, exprimer des conditions qui combinent plusieurs tests."
   ]
  },
  {
   "cell_type": "code",
   "execution_count": 3,
   "metadata": {},
   "outputs": [
    {
     "name": "stdout",
     "output_type": "stream",
     "text": [
      "Ce nombre appartient à l'intervalle [0 ; 10]\n"
     ]
    }
   ],
   "source": [
    "x = 5\n",
    "if (x >= 0) and (x <= 10):\n",
    "    print(\"Ce nombre appartient à l'intervalle [0 ; 10]\")l\n",
    "else:\n",
    "    print(\"Ce nombre n'appartient pas à l'intervalle [0 ; 10]\")"
   ]
  },
  {
   "cell_type": "markdown",
   "metadata": {},
   "source": [
    "> Ici, les parenthèses permettent de mieux visualiser les tests.\n",
    "\n",
    "L'algèbre de Boole répond à [des règles](https://fr.wikipedia.org/wiki/Alg%C3%A8bre_de_Boole_(logique)#Propri%C3%A9t%C3%A9s), ainsi l’opérateur `and` est prioritaire sur l’opérateur `or` mais il vaut mieux utiliser des parenthèses pour plus de clarté : $ a + b \\bullet c = a + (b \\bullet c)$\n",
    "\n",
    "## Table de vérité :\n",
    "\n",
    "Pour chaque fonction logique, on peut établir une **table de vérité**. Un tableau qui présente toutes les combinaisons de valeurs possibles pour une ou plusieurs variables, et la valeur associée de la fonction décrite. Le nombre de combinaisons est $2^n$ avec $n$ le nombre de variables booléennes combinées.\n",
    "\n",
    "\n",
    "### Fontion ET (AND):\n",
    "La conjonction dont l'[expression booléenne](https://fr.wikipedia.org/wiki/Expression_bool%C3%A9enne_(programmation_informatique)) est `a and b`, est réalisée lorsque les conditions `a` et `b` sont toutes deux réalisées :\n",
    "\n",
    "\n",
    "|  a  |  b  |  ET |\n",
    "|:---:|:---:|:---:|\n",
    "|  0  |  0  |  0  |\n",
    "|  0  |  1  |  0  |\n",
    "|  1  |  0  |  0  |\n",
    "|  1  |  1  |  1  |\n",
    "\n",
    "Equation booléenne : $a \\bullet b = a \\& b = a ∧ b$"
   ]
  },
  {
   "cell_type": "markdown",
   "metadata": {},
   "source": [
    "<h3 class='fa fa-cogs' style=\"color: MediumSeaGreen\"> A faire vous-même :</h3>\n",
    "\n",
    "Modifier le programme suivant pour obtenir une table de vérité avec le même ordre de combinaisons logiques que ci-dessus."
   ]
  },
  {
   "cell_type": "code",
   "execution_count": 3,
   "metadata": {},
   "outputs": [
    {
     "data": {
      "text/markdown": [
       "|  a  |  b  |  ET |\n",
       "|:---:|:---:|:---:|\n",
       "|  False  |  False  |  False  |\n",
       "|  False  |  True  |  False  |\n",
       "|  True  |  False  |  False  |\n",
       "|  True  |  True  |  True  |\n"
      ],
      "text/plain": [
       "<IPython.core.display.Markdown object>"
      ]
     },
     "execution_count": 3,
     "metadata": {},
     "output_type": "execute_result"
    }
   ],
   "source": [
    "# Table de vérité en Markdown par Python de l'opérateur ET :\n",
    "from IPython.display import Markdown\n",
    "    \n",
    "table ='''|  a  |  b  |  ET |\n",
    "|:---:|:---:|:---:|\\n'''\n",
    "\n",
    "for a in [False,True]:\n",
    "    for b in [False,True]:\n",
    "        table += f\"|  {a}  |  {b}  |  {a and b}  |\\n\"\n",
    "        \n",
    "Markdown(table)"
   ]
  },
  {
   "cell_type": "markdown",
   "metadata": {},
   "source": [
    "### Fontion OU (OR) :\n",
    "La disjonction dont l'[expression booléenne](https://fr.wikipedia.org/wiki/Expression_bool%C3%A9enne_(programmation_informatique)) est `a or b`, est réalisée lorsqu'au moins l'une des conditions `a` ou `b` est réalisée :\n",
    "\n",
    "\n",
    "|  a  |  b  |  OU |\n",
    "|:---:|:---:|:---:|\n",
    "|  0  |  0  |  0  |\n",
    "|  0  |  1  |  1  |\n",
    "|  1  |  0  |  1  |\n",
    "|  1  |  1  |  1  |\n",
    "\n",
    "Equation booléenne : $a + b = a | b = a ∨ b$\n",
    "\n",
    "<h3 class='fa fa-code' style=\"color: MediumSeaGreen\"> A programmer vous-même :</h3>"
   ]
  },
  {
   "cell_type": "code",
   "execution_count": 1,
   "metadata": {
    "scrolled": false
   },
   "outputs": [
    {
     "data": {
      "text/markdown": [
       "|  a  |  b  |  OU |\n",
       "|:---:|:---:|:---:|\n",
       "|  True  |  True  |  True  |\n",
       "|  True  |  False  |  True  |\n",
       "|  False  |  True  |  True  |\n",
       "|  False  |  False  |  False  |\n"
      ],
      "text/plain": [
       "<IPython.core.display.Markdown object>"
      ]
     },
     "execution_count": 1,
     "metadata": {},
     "output_type": "execute_result"
    }
   ],
   "source": [
    "# Table de vérité en Markdown par Python de l'opérateur OU :\n",
    "from IPython.display import Markdown\n",
    "    \n",
    "table ='''|  a  |  b  |  OU |\n",
    "|:---:|:---:|:---:|\\n'''\n",
    "\n",
    "for a in [True,False]:\n",
    "    for b in [True,False]:\n",
    "        table += f\"|  {a}  |  {b}  |  {a or b}  |\\n\"\n",
    "        \n",
    "Markdown(table)"
   ]
  },
  {
   "cell_type": "markdown",
   "metadata": {},
   "source": [
    "### Fontion NON (NOT) :\n",
    "La négation dont l'[expression booléenne](https://fr.wikipedia.org/wiki/Expression_bool%C3%A9enne_(programmation_informatique)) est `not a`, est réalisée lorsque la condition `a` n'est pas réalisée  :\n",
    "\n",
    "|  A  | NON |\n",
    "|:---:|:---:|\n",
    "|  0  |  1  |\n",
    "|  1  |  0  |\n",
    "\n",
    "Equation booléenne : $\\bar{a} =$ ~$a = ¬a$\n",
    "\n",
    "<h3 class='fa fa-code' style=\"color: MediumSeaGreen\"> A programmer vous-même :</h3>"
   ]
  },
  {
   "cell_type": "code",
   "execution_count": 2,
   "metadata": {
    "scrolled": false
   },
   "outputs": [
    {
     "data": {
      "text/markdown": [
       "|  A | NON |\n",
       "|:---:|:---:|\n",
       "|  False  | True  |\n",
       "|  True  | False  |\n"
      ],
      "text/plain": [
       "<IPython.core.display.Markdown object>"
      ]
     },
     "execution_count": 2,
     "metadata": {},
     "output_type": "execute_result"
    }
   ],
   "source": [
    "# Table de vérité en Markdown par Python de l'opérateur NON :\n",
    "from IPython.display import Markdown\n",
    "    \n",
    "table ='''|  A | NON |\n",
    "|:---:|:---:|\\n'''\n",
    "\n",
    "for a in [False,True]:\n",
    "    table += f\"|  {a}  | {not a}  |\\n\"\n",
    "        \n",
    "Markdown(table)"
   ]
  },
  {
   "cell_type": "markdown",
   "metadata": {},
   "source": [
    "## Autres Fonctions logiques :\n",
    "\n",
    "A partir des trois fonctions de bases ET, OU, NON, on peut en construire d'autres telles que :\n",
    "\n",
    "### Fonction OU-Exclusif (XOR) :\n",
    "\n",
    "|  A  |  B  |   NOR  |\n",
    "|:---:|:---:|:------:|\n",
    "|  0  |  0  |    0   |\n",
    "|  0  |  1  |    1   |\n",
    "|  1  |  0  |    1   |\n",
    "|  1  |  1  |    0   |\n",
    "\n",
    "<h3 class='fa fa-code' style=\"color: MediumSeaGreen\"> A programmer vous-même :</h3>\n",
    "\n",
    "Vérifier que les [expressions booléennes](https://fr.wikipedia.org/wiki/Expression_bool%C3%A9enne_(programmation_informatique)) `((not a) and b) or (a and (not b))` et `a ^ b` sont équivalentes."
   ]
  },
  {
   "cell_type": "code",
   "execution_count": 3,
   "metadata": {},
   "outputs": [
    {
     "data": {
      "text/markdown": [
       "|  A  |  B  |  NOR |\n",
       "|:---:|:---:|:---:|\n",
       "|  False  |  False  |  False  |\n",
       "|  False  |  True  |  True  |\n",
       "|  True  |  False  |  True  |\n",
       "|  True  |  True  |  False  |\n"
      ],
      "text/plain": [
       "<IPython.core.display.Markdown object>"
      ]
     },
     "execution_count": 3,
     "metadata": {},
     "output_type": "execute_result"
    }
   ],
   "source": [
    "# Table de vérité en Markdown par Python de l'opérateur OU-Exclusif :\n",
    "from IPython.display import Markdown\n",
    "    \n",
    "table ='''|  A  |  B  |  NOR |\n",
    "|:---:|:---:|:---:|\\n'''\n",
    "\n",
    "for a in [False,True]:\n",
    "    for b in [False, True]:\n",
    "        table += f\"|  {a}  |  {b}  |  {a ^ b}  |\\n\"\n",
    "        \n",
    "Markdown(table)"
   ]
  },
  {
   "cell_type": "markdown",
   "metadata": {},
   "source": [
    "### Fonction NON-ET (NAND) :\n",
    "\n",
    "|  A  |  B  |  NAND  |\n",
    "|:---:|:---:|:------:|\n",
    "|  0  |  0  |    1   |\n",
    "|  0  |  1  |    1   |\n",
    "|  1  |  0  |    1   |\n",
    "|  1  |  1  |    0   |\n",
    "\n",
    "<h3 class='fa fa-code' style=\"color: MediumSeaGreen\"> A programmer vous-même :</h3>\n",
    "\n",
    "Vérifier que les [expressions booléennes](https://fr.wikipedia.org/wiki/Expression_bool%C3%A9enne_(programmation_informatique)) `not (a and b)` et `(not a) or (not b)` sont équivalentes."
   ]
  },
  {
   "cell_type": "code",
   "execution_count": 4,
   "metadata": {},
   "outputs": [
    {
     "data": {
      "text/markdown": [
       "|  A  |  B  |  NAND |\n",
       "|:---:|:---:|:---:|\n",
       "|  False  |  False  |  True  |\n",
       "|  False  |  True  |  True  |\n",
       "|  True  |  False  |  True  |\n",
       "|  True  |  True  |  False  |\n"
      ],
      "text/plain": [
       "<IPython.core.display.Markdown object>"
      ]
     },
     "execution_count": 4,
     "metadata": {},
     "output_type": "execute_result"
    }
   ],
   "source": [
    "# Table de vérité en Markdown par Python de l'opérateur NON-ET :\n",
    "\n",
    "from IPython.display import Markdown\n",
    "    \n",
    "table ='''|  A  |  B  |  NAND |\n",
    "|:---:|:---:|:---:|\\n'''\n",
    "\n",
    "for a in [False,True]:\n",
    "    for b in [False,True]:\n",
    "        table += f\"|  {a}  |  {b}  |  {not a or not b}  |\\n\"\n",
    "        \n",
    "Markdown(table)"
   ]
  },
  {
   "cell_type": "markdown",
   "metadata": {},
   "source": [
    "### Fonction NON-OU (NOR) :\n",
    "\n",
    "|  A  |  B  |   NOR  |\n",
    "|:---:|:---:|:------:|\n",
    "|  0  |  0  |    1   |\n",
    "|  0  |  1  |    0   |\n",
    "|  1  |  0  |    0   |\n",
    "|  1  |  1  |    0   |\n",
    "\n",
    "<h3 class='fa fa-code' style=\"color: MediumSeaGreen\"> A programmer vous-même :</h3>\n",
    "\n",
    "Vérifier que les [expressions booléennes](https://fr.wikipedia.org/wiki/Expression_bool%C3%A9enne_(programmation_informatique)) `not (a or b)` et `(not a) and (not b)` sont équivalentes."
   ]
  },
  {
   "cell_type": "code",
   "execution_count": 5,
   "metadata": {},
   "outputs": [
    {
     "data": {
      "text/markdown": [
       "|  A  |  B  |  NOR |\n",
       "|:---:|:---:|:---:|\n",
       "|  False  |  False  |  True  |\n",
       "|  False  |  True  |  False  |\n",
       "|  True  |  False  |  False  |\n",
       "|  True  |  True  |  False  |\n"
      ],
      "text/plain": [
       "<IPython.core.display.Markdown object>"
      ]
     },
     "execution_count": 5,
     "metadata": {},
     "output_type": "execute_result"
    }
   ],
   "source": [
    "# Table de vérité en Markdown par Python de l'opérateur NON-OU :\n",
    "\n",
    "from IPython.display import Markdown\n",
    "    \n",
    "table ='''|  A  |  B  |  NOR |\n",
    "|:---:|:---:|:---:|\\n'''\n",
    "\n",
    "for a in [False,True]:\n",
    "    for b in [False,True]:\n",
    "        table += f\"|  {a}  |  {b}  |  {not a and not b}  |\\n\"\n",
    "        \n",
    "Markdown(table)"
   ]
  },
  {
   "cell_type": "markdown",
   "metadata": {},
   "source": [
    "> Les lois de [De Morgan](https://fr.wikipedia.org/wiki/Lois_de_De_Morgan) :\n",
    ">\n",
    ">$$\\overline{a \\bullet b} = \\overline{a} + \\overline{b}$$\n",
    ">\n",
    ">$$\\overline{a + b} = \\overline{a} \\bullet \\overline{b}$$\n",
    ">\n",
    "> Exemple : Le contraire d'être *riche et célèbre* est pas riche et pas celebre"
   ]
  },
  {
   "cell_type": "markdown",
   "metadata": {},
   "source": [
    "## Application à l'addition binaire :"
   ]
  },
  {
   "cell_type": "code",
   "execution_count": 4,
   "metadata": {},
   "outputs": [],
   "source": [
    "from metakernel import register_ipython_magics\n",
    "register_ipython_magics()"
   ]
  },
  {
   "cell_type": "code",
   "execution_count": 7,
   "metadata": {},
   "outputs": [
    {
     "data": {
      "text/html": [
       "\n",
       "        <iframe\n",
       "            width=\"100%\"\n",
       "            height=\"500\"\n",
       "            src=\"https://pythontutor.com/iframe-embed.html#code=%0An%20%3D%20%5B0%2C%201%2C%200%5D%0Ap%20%3D%20%5B0%2C%201%2C%201%5D%0Ar%20%3D%20%5B%5D%0A%0Ac%20%3D%20False%0Afor%20i%20in%20range%282%2C%20-1%2C%20-1%29%3A%0A%20%20%20%20a%20%3D%20n%5Bi%5D%0A%20%20%20%20b%20%3D%20p%5Bi%5D%0A%20%20%20%20unite%20%3D%20%28a%20and%20not%28b%29%20and%20not%28c%29%29%20or%5C%0A%20%20%20%20%20%20%20%20%28not%28a%29%20and%20b%20and%20not%28c%29%29%20or%5C%0A%20%20%20%20%20%20%20%20%28not%28a%29%20and%20not%28b%29%20and%20c%29%20or%5C%0A%20%20%20%20%20%20%20%20%28a%20and%20b%20and%20c%29%0A%20%20%20%20r%20%3D%20%5Bint%28unite%29%5D%20%2B%20r%0A%20%20%20%20c%20%3D%20%28a%20and%20b%29%20or%20%28b%20and%20c%29%20or%20%28a%20and%20c%29%0Ar%20%3D%20%5Bint%28c%29%5D%20%2B%20r%0A%0Aprint%28r%29%0A&origin=opt-frontend.js&cumulative=false&heapPrimitives=false&textReferences=false&py=3&rawInputLstJSON=%5B%5D&curInstr=0&codeDivWidth=350&codeDivHeight=400\"\n",
       "            frameborder=\"0\"\n",
       "            allowfullscreen\n",
       "        ></iframe>\n",
       "        "
      ],
      "text/plain": [
       "<IPython.lib.display.IFrame at 0x1267ce0f0>"
      ]
     },
     "metadata": {},
     "output_type": "display_data"
    }
   ],
   "source": [
    "%%tutor\n",
    "\n",
    "n = [0, 1, 0]\n",
    "p = [0, 1, 1]\n",
    "r = []\n",
    "\n",
    "c = False\n",
    "for i in range(2, -1, -1):\n",
    "    a = n[i]\n",
    "    b = p[i]\n",
    "    unite = (a and not(b) and not(c)) or\\\n",
    "        (not(a) and b and not(c)) or\\\n",
    "        (not(a) and not(b) and c) or\\\n",
    "        (a and b and c)\n",
    "    r = [int(unite)] + r\n",
    "    c = (a and b) or (b and c) or (a and c)\n",
    "r = [int(c)] + r\n",
    "\n",
    "print(r)"
   ]
  },
  {
   "cell_type": "markdown",
   "metadata": {},
   "source": [
    "## Opération booléenne bit à bit :\n",
    "\n",
    "Dans beaucoup de langages, ``and`` et ``or`` sont écrits ``&&`` et ``||``.\n",
    "\n",
    "Ces symboles existent égalemant en Python, mais ils sont là pour réaliser des opérations binaires bit à bit :"
   ]
  },
  {
   "cell_type": "code",
   "execution_count": 10,
   "metadata": {},
   "outputs": [
    {
     "data": {
      "text/plain": [
       "(13, '0b1101', '0xd')"
      ]
     },
     "execution_count": 10,
     "metadata": {},
     "output_type": "execute_result"
    }
   ],
   "source": [
    "masque = 0b00001111\n",
    "resultat = 0b10011101 & masque\n",
    "resultat, bin(resultat), hex(resultat)"
   ]
  },
  {
   "cell_type": "markdown",
   "metadata": {},
   "source": [
    "> Les `1` du masque définissent les bits qui seront conservés dans le résultat."
   ]
  },
  {
   "cell_type": "code",
   "execution_count": 11,
   "metadata": {},
   "outputs": [
    {
     "data": {
      "text/plain": [
       "'0b10011111'"
      ]
     },
     "execution_count": 11,
     "metadata": {},
     "output_type": "execute_result"
    }
   ],
   "source": [
    "bin(0b10011101 | 0b00001111)"
   ]
  },
  {
   "cell_type": "code",
   "execution_count": 12,
   "metadata": {},
   "outputs": [
    {
     "data": {
      "text/plain": [
       "'0b10010010'"
      ]
     },
     "execution_count": 12,
     "metadata": {},
     "output_type": "execute_result"
    }
   ],
   "source": [
    "bin(0b10011101 ^ 0b00001111)"
   ]
  },
  {
   "cell_type": "markdown",
   "metadata": {},
   "source": [
    "<h3 class='fa fa-cogs' style=\"color: darkorange\"> A faire vous-même :</h3>\n",
    "\n",
    "- Calculer les opérations binaires suivantes :\n",
    "\n",
    "```\n",
    "# calcul A\n",
    "   1100\n",
    "&  0111\n",
    "----------\n",
    "\n",
    "\n",
    "# calcul B\n",
    "   1100\n",
    "|  0111\n",
    "----------\n",
    "   \n",
    "\n",
    "# calcul C\n",
    "   1100\n",
    "^  0111\n",
    "----------\n",
    "\n",
    "\n",
    "# calcul D\n",
    "~  1100\n",
    "&  0111\n",
    "----------\n",
    "\n",
    "\n",
    "```\n",
    "- Vérifier vos résultats avec Python en décimal, puis en binaire et en hexadécimal :    "
   ]
  },
  {
   "cell_type": "code",
   "execution_count": 6,
   "metadata": {},
   "outputs": [
    {
     "data": {
      "text/plain": [
       "4"
      ]
     },
     "execution_count": 6,
     "metadata": {},
     "output_type": "execute_result"
    }
   ],
   "source": [
    "# calcul A\n",
    "12 & 7"
   ]
  },
  {
   "cell_type": "code",
   "execution_count": 7,
   "metadata": {},
   "outputs": [
    {
     "data": {
      "text/plain": [
       "15"
      ]
     },
     "execution_count": 7,
     "metadata": {},
     "output_type": "execute_result"
    }
   ],
   "source": [
    "# calcul B\n",
    "12 | 7"
   ]
  },
  {
   "cell_type": "code",
   "execution_count": 8,
   "metadata": {},
   "outputs": [
    {
     "data": {
      "text/plain": [
       "11"
      ]
     },
     "execution_count": 8,
     "metadata": {},
     "output_type": "execute_result"
    }
   ],
   "source": [
    "# calcul C\n",
    "12 ^ 7"
   ]
  },
  {
   "cell_type": "code",
   "execution_count": 9,
   "metadata": {},
   "outputs": [
    {
     "data": {
      "text/plain": [
       "3"
      ]
     },
     "execution_count": 9,
     "metadata": {},
     "output_type": "execute_result"
    }
   ],
   "source": [
    "# calcul D\n",
    "~12 & 7"
   ]
  },
  {
   "cell_type": "markdown",
   "metadata": {},
   "source": [
    "> [Le OU exclusif (XOR) est une méthode de cryptographie moderne](https://www.dcode.fr/chiffre-xor) qui s'est développée avec l'avènement de l'informatique. Elle consiste à chiffrer un message en binaire avec une clé répétée par une multiplication par OU Exclusif.\n",
    ">\n",
    "> Ainsi le chiffrement de la chaine de caractères `'NSI'` avec la clé `'f'` produit `'(5/'`...\n",
    "\n",
    "\n",
    "## Caractère séquentiel (shortcuts) :\n",
    "\n",
    "En Python, les opérateurs ``and`` et ``or`` sont séquentiels : L'opérande de droite n'est évaluée que si l'opérande de gauche ne permet pas de trouver le résultat. On parle d'évaluation fainéante...\n",
    "\n",
    "Pour ``a and b`` :\n",
    "- Si a est False, inutile d'évaluer b, ce sera False ;\n",
    "- Si a est True, alors il faudra évaluer b pour savoir.\n",
    "\n",
    "Pour ``a or b`` : \n",
    "- si a est True, inutile d'évaluer b, ce sera True ;\n",
    "- si a est False, il faudra évaluer b pour savoir.\n",
    "\n",
    "Illustration : http://sametmax.com/quelques-astuces-a-propos-de-and-et-or/\n"
   ]
  },
  {
   "cell_type": "markdown",
   "metadata": {},
   "source": [
    "## Applications :\n",
    "\n",
    "<h3 class='fa fa-graduation-cap' style=\"color: darkorange\">France IOI - Zones de couleurs : </h3>\n",
    "\n",
    "Coller ci-dessous le code de votre programme qui a permis sur [France IOI](http://www.france-ioi.org/algo/task.php?idChapter=648&idTask=496) de résoudre le besoin suivant :\n",
    "\n",
    "**Ce que doit faire votre programme :**\n",
    "\n",
    "Sur une table est placée une feuille de papier rectangulaire de 90 cm de large et 70 cm de haut, composée de zones de différentes couleurs, comme le décrit la figure ci-dessous. Un certain nombre de personnes placent l'une après l'autre un jeton où elles le souhaitent sur la table, à l'exception des frontières entre les différentes zones.\n",
    "\n",
    "[![zones_couleurs.png](http://data.france-ioi.org/Task/2611ff10f44b2ea3d7a6ab0ce364a1cb/zones_couleurs.png)](http://www.france-ioi.org/algo/task.php?idChapter=648&idTask=496)\n",
    "\n",
    "On vous donne en entrée le nombre de jetons qui ont été déposés, puis, pour chaque jeton, ses coordonnées sur la feuille par rapport à l'origine en haut à gauche, sous la forme d'une abscisse et d'une ordonnée entre −1 000 et 1 000.\n",
    "\n",
    "Votre programme devra qualifier chaque jeton avec l'un des textes suivants, en fonction de la couleur sur laquelle il se trouve :\n",
    "\n",
    "- « En dehors de la feuille »\n",
    "- « Dans une zone jaune »\n",
    "- « Dans une zone bleue »\n",
    "- « Dans une zone rouge »\n",
    "\n",
    "Essayez d'écrire votre programme de sorte qu'il y ait au maximum une condition par possibilité de texte affiché.\n",
    "\n",
    "\n",
    "**Exemple**\n",
    "\n",
    "entrée :\n",
    "\n",
    "```\n",
    "4\n",
    "16\n",
    "12\n",
    "30\n",
    "22\n",
    "64\n",
    "62\n",
    "-5\n",
    "86\n",
    "```\n",
    "\n",
    "sortie :\n",
    "\n",
    "```\n",
    "Dans une zone bleue\n",
    "Dans une zone jaune\n",
    "Dans une zone rouge\n",
    "En dehors de la feuille\n",
    "```\n",
    "\n",
    "**Commentaires**\n",
    "\n",
    "Dans l'exemple, on a 4 jetons, de coordonnées (16 ; 12), (30 ; 22), (64 ; 62) et (-5 ; 86)."
   ]
  },
  {
   "cell_type": "code",
   "execution_count": 2,
   "metadata": {},
   "outputs": [
    {
     "name": "stdout",
     "output_type": "stream",
     "text": [
      "Combien il y a de jetons ?\n",
      "2\n",
      "Coordonnees du jeton n° 1\n",
      "29\n",
      "45\n",
      "Dans une zone jaune\n",
      "Coordonnees du jeton n° 2\n",
      "-2\n",
      "6\n",
      "En dehors de la feuille\n"
     ]
    }
   ],
   "source": [
    "# Votre code France-IOI\n",
    "print(\"Combien il y a de jetons ?\")\n",
    "nbJetons = int(input())\n",
    "\n",
    "for jeton in range(nbJetons):\n",
    "    print(\"Coordonnees du jeton n°\",jeton+1)\n",
    "    x = int(input())\n",
    "    y = int(input())\n",
    "\n",
    "    if (x < 0 or y < 0 or x > 90 or y > 70):\n",
    "        print(\"En dehors de la feuille\")\n",
    "        \n",
    "    else:\n",
    "        if ((x >= 10 and x <= 85 and y >= 10 and y <= 55)\n",
    "            and not(x >= 25 and x <= 50 and y >= 20 and y <= 45)):\n",
    "            print(\"Dans une zone bleue\")\n",
    "            \n",
    "        elif (((x >= 15 and x <= 45) or (x >= 60 and x <= 85))\n",
    "            and (y >= 60 and y <= 70)):\n",
    "            print(\"Dans une zone rouge\")\n",
    "            \n",
    "        else:\n",
    "            print(\"Dans une zone jaune\")\n",
    "            "
   ]
  },
  {
   "cell_type": "markdown",
   "metadata": {},
   "source": [
    "<h3 class='fa fa-rocket' style=\"color: tomato\">Animation avec ipycanvas : </h3>\n",
    "\n",
    "Coder avec le module ipycanvas une animation graphique qui illustre la logique booléenne à l'image du gif de Google en hommage à [George Boole](https://fr.wikipedia.org/wiki/George_Boole) :\n",
    "\n",
    "<br>\n",
    "<img  src=\"https://ericecmorlaix.github.io/img/doodle_George.gif\" alt=\"doodle_George\">\n",
    "<br>\n",
    "\n",
    "Si vous ne connaissez pas ce module, il vous faut donc préalablement le prendre en main en faisant, par exemple, les activités de [ipycanvas-Le_BN_pour_dessiner.ipynb\n",
    "](ipycanvas-Le_BN_pour_dessiner.ipynb)...\n",
    "\n",
    "De plus certaines autres fonctionnalités d'ipycanvas pourraient s'avérer utiles dans ce cas d'application :\n",
    "\n",
    "- Les textes : https://ipycanvas.readthedocs.io/en/latest/drawing_text.html\n",
    "\n",
    "- Le style dessin à main levé avec `RoughCanvas` : https://ipycanvas.readthedocs.io/en/latest/rough_canvas.html\n",
    "\n",
    "- Les boucles d'animation : https://ipycanvas.readthedocs.io/en/latest/animations.html"
   ]
  },
  {
   "cell_type": "code",
   "execution_count": 4,
   "metadata": {},
   "outputs": [
    {
     "name": "stdout",
     "output_type": "stream",
     "text": [
      "bonjour\n"
     ]
    }
   ],
   "source": [
    "# Votre code d'animation avec ipycanvas\n",
    "\n",
    "\"\"\"\n",
    "Il faudrait un code peut-etre avec un True/False et qui prend en compte les conditions\n",
    "x / y. \n",
    "Si x et y sont reunis le G s'allume en bleu, pour le premier o il faut x XOR y pour qu'il\n",
    "s'allume en orange, pour le second o il faut un x OR y, pour le g... pour qu'il montre\n",
    "soit un x soit un y dans des cercles soit aucun des deux, pour le l il faut un\n",
    "NOT y pour afficher du vert, et enfin pour le e un NOT x pour pe faire s'allumer en rouge.\n",
    "Sinon tous s'allume en gris, sauf le g qui prend la forme de deux cercles noirs superposéd.\n",
    "\n",
    "\"\"\"\n",
    "\n"
   ]
  },
  {
   "cell_type": "markdown",
   "metadata": {},
   "source": [
    "****\n",
    "## Références aux programmes :\n",
    "\n",
    "<style type=\"text/css\">\n",
    ".tg  {border-collapse:collapse;border-spacing:0;}\n",
    ".tg td{font-family:Arial, sans-serif;font-size:14px;padding:10px 5px;border-style:solid;border-width:1px;overflow:hidden;word-break:normal;border-color:black;}\n",
    ".tg th{font-family:Arial, sans-serif;font-size:14px;font-weight:normal;padding:10px 5px;border-style:solid;border-width:1px;overflow:hidden;word-break:normal;border-color:black;}\n",
    ".tg .tg-cv16{font-weight:bold;background-color:#dae8fc;border-color:inherit;text-align:center}\n",
    ".tg .tg-xldj{border-color:inherit;text-align:left}\n",
    "</style>\n",
    "<table class=\"tg\">\n",
    "  <tr>\n",
    "    <th class=\"tg-cv16\">Contenus</th>\n",
    "    <th class=\"tg-cv16\">Capacités attendues</th>\n",
    "    <th class=\"tg-cv16\">Commentaires</th>\n",
    "  </tr>\n",
    "  <tr>\n",
    "    <td class=\"tg-xldj\">Valeurs booléennes : 0,1.<br>Opérateurs booléens : and, or, not.<br>Expressions booléennes.</td>\n",
    "    <td class=\"tg-xldj\">Dresser la table d’une expression booléenne.</td>\n",
    "    <td class=\"tg-xldj\">Le ou exclusif (xor) est évoqué.<br>Quelques applications directes comme l’addition binaire sont présentées.<br>L’attention des élèves est attirée sur le caractère séquentiel de certains opérateurs booléens.</td>\n",
    "  </tr>\n",
    "  \n",
    "</table>"
   ]
  },
  {
   "cell_type": "markdown",
   "metadata": {},
   "source": [
    "## Pour Aller plus loin :\n",
    "\n",
    "- https://python.developpez.com/cours/DiveIntoPython/php/frdiveintopython/power_of_introspection/and_or.php\n",
    "- https://docs.python.org/fr/3/library/operator.html\n"
   ]
  },
  {
   "cell_type": "markdown",
   "metadata": {},
   "source": [
    "<a rel=\"license\" href=\"http://creativecommons.org/licenses/by-sa/4.0/\"><img alt=\"Licence Creative Commons\" style=\"border-width:0\" src=\"https://i.creativecommons.org/l/by-sa/4.0/88x31.png\" /></a><br />Ce document est mis à disposition selon les termes de la <a rel=\"license\" href=\"http://creativecommons.org/licenses/by-sa/4.0/\">Licence Creative Commons Attribution -  Partage dans les Mêmes Conditions 4.0 International</a>.\n",
    "\n",
    "Pour toute question, suggestion ou commentaire : <a href=\"mailto:eric.madec@ecmorlaix.fr\">eric.madec@ecmorlaix.fr</a>"
   ]
  },
  {
   "cell_type": "code",
   "execution_count": null,
   "metadata": {},
   "outputs": [],
   "source": []
  }
 ],
 "metadata": {
  "kernelspec": {
   "display_name": "Python 3",
   "language": "python",
   "name": "python3"
  },
  "language_info": {
   "codemirror_mode": {
    "name": "ipython",
    "version": 3
   },
   "file_extension": ".py",
   "mimetype": "text/x-python",
   "name": "python",
   "nbconvert_exporter": "python",
   "pygments_lexer": "ipython3",
   "version": "3.7.1"
  },
  "toc": {
   "base_numbering": 1,
   "nav_menu": {},
   "number_sections": true,
   "sideBar": true,
   "skip_h1_title": false,
   "title_cell": "Table of Contents",
   "title_sidebar": "Contents",
   "toc_cell": false,
   "toc_position": {},
   "toc_section_display": true,
   "toc_window_display": false
  },
  "varInspector": {
   "cols": {
    "lenName": 16,
    "lenType": 16,
    "lenVar": 40
   },
   "kernels_config": {
    "python": {
     "delete_cmd_postfix": "",
     "delete_cmd_prefix": "del ",
     "library": "var_list.py",
     "varRefreshCmd": "print(var_dic_list())"
    },
    "r": {
     "delete_cmd_postfix": ") ",
     "delete_cmd_prefix": "rm(",
     "library": "var_list.r",
     "varRefreshCmd": "cat(var_dic_list()) "
    }
   },
   "types_to_exclude": [
    "module",
    "function",
    "builtin_function_or_method",
    "instance",
    "_Feature"
   ],
   "window_display": false
  }
 },
 "nbformat": 4,
 "nbformat_minor": 2
}
