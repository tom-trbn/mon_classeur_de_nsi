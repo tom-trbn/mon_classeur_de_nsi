{
 "cells": [
  {
   "cell_type": "markdown",
   "metadata": {},
   "source": [
    "Ex1 :\n",
    "\n",
    "On considère la liste ```temp = [4, -5, 8, 10, -1, -2, 7, 13]```.  \n",
    "Parcourir ```temp``` pour construire la liste ```temp_pos``` qui ne contient que les éléments positifs de  ```temp```."
   ]
  },
  {
   "cell_type": "code",
   "execution_count": 1,
   "metadata": {},
   "outputs": [],
   "source": [
    "temp = [4, -5, 8, 10, -1, -2, 7, 13]\n",
    "\n",
    "def positif (temp):\n",
    "    temp_pos = []\n",
    "    for valeur in temp:\n",
    "        if valeur >= 0:\n",
    "            temp_pos.append(valeur)\n",
    "    \n",
    "    return temp_pos"
   ]
  },
  {
   "cell_type": "code",
   "execution_count": 2,
   "metadata": {},
   "outputs": [
    {
     "data": {
      "text/plain": [
       "[4, 8, 10, 7, 13]"
      ]
     },
     "execution_count": 2,
     "metadata": {},
     "output_type": "execute_result"
    }
   ],
   "source": [
    "positif(temp)"
   ]
  },
  {
   "cell_type": "markdown",
   "metadata": {},
   "source": [
    "Ex2 :\n",
    "\n",
    "On considère la liste ```lst = [51, 52, 66, 91, 92, 82, 65, 53, 86, 42, 79, 95]```.  \n",
    "Seuls les nombres entre 60 et 90 ont une signification : ce sont des codes ASCII (récupérables par la fonction ```chr()``` ).  \n",
    "\n",
    "Créer (en compréhension) une liste ```sol``` qui contient les lettres correspondants aux nombres ayant une signification."
   ]
  },
  {
   "cell_type": "code",
   "execution_count": 3,
   "metadata": {},
   "outputs": [
    {
     "data": {
      "text/plain": [
       "['B', 'R', 'A', 'V', 'O']"
      ]
     },
     "execution_count": 3,
     "metadata": {},
     "output_type": "execute_result"
    }
   ],
   "source": [
    "lsd = [51, 52, 66, 91, 92, 82, 65, 53, 86, 42, 79, 95]\n",
    "sol = [chr(lsd[i]) for i in range(len(lsd)) if lsd[i]<90 and lsd[i]>60] \n",
    "sol"
   ]
  },
  {
   "cell_type": "markdown",
   "metadata": {},
   "source": [
    "Ex3 :\n",
    "\n",
    "On considère la variable ```phrase = 'Bonjour les vacances sont finies'``` et la variable ```voyelles = 'aeiouy'```.\n",
    "\n",
    "Construire en compréhension la liste ```liste_voyelles``` qui contient toutes les voyelles présentes dans la variable ```phrase```."
   ]
  },
  {
   "cell_type": "code",
   "execution_count": 4,
   "metadata": {},
   "outputs": [
    {
     "ename": "SyntaxError",
     "evalue": "invalid syntax (<ipython-input-4-0d06a1d31dc5>, line 4)",
     "output_type": "error",
     "traceback": [
      "\u001b[0;36m  File \u001b[0;32m\"<ipython-input-4-0d06a1d31dc5>\"\u001b[0;36m, line \u001b[0;32m4\u001b[0m\n\u001b[0;31m    liste_voyelles =\u001b[0m\n\u001b[0m                     ^\u001b[0m\n\u001b[0;31mSyntaxError\u001b[0m\u001b[0;31m:\u001b[0m invalid syntax\n"
     ]
    }
   ],
   "source": [
    "#tentatives de fonction et de comprehension\n",
    "\n",
    "phrase = 'Bonjour les vacances sont finies'\n",
    "voyelles = 'aeiouy'\n",
    "\n",
    "def VoyellesOnly(phrase, voyelles):\n",
    "    for i in phrase:\n",
    "        for j in voyelles:\n",
    "            if voyelles[i] == :\n",
    "                listes_voyelles.append(lettre)\n",
    "            \n",
    "    liste_voyelles"
   ]
  },
  {
   "cell_type": "code",
   "execution_count": null,
   "metadata": {},
   "outputs": [],
   "source": [
    "def comptage(phrase,voyelles):\n",
    "    i = 0\n",
    "    for j in phrase:\n",
    "        if j == voyelles:\n",
    "            i = i+1\n",
    "    return i"
   ]
  },
  {
   "cell_type": "code",
   "execution_count": 1,
   "metadata": {},
   "outputs": [
    {
     "ename": "SyntaxError",
     "evalue": "invalid syntax (<ipython-input-1-a6fa46022cbe>, line 2)",
     "output_type": "error",
     "traceback": [
      "\u001b[0;36m  File \u001b[0;32m\"<ipython-input-1-a6fa46022cbe>\"\u001b[0;36m, line \u001b[0;32m2\u001b[0m\n\u001b[0;31m    liste_voyelles = [for i in range(len(phrase)) if i == voyelles]\u001b[0m\n\u001b[0m                        ^\u001b[0m\n\u001b[0;31mSyntaxError\u001b[0m\u001b[0;31m:\u001b[0m invalid syntax\n"
     ]
    }
   ],
   "source": [
    "phrase = ['Bonjour les vacances sont finies']\n",
    "liste_voyelles = [for i in range(len(phrase)) if i == voyelles] \n",
    "liste_voyelles"
   ]
  },
  {
   "cell_type": "markdown",
   "metadata": {},
   "source": [
    "Ex4 :\n",
    "\n",
    "On considère le jeu du Morpion (ou *Tic-Tac-Toe*) dont la surface de jeu vierge est representée par le tableau :  \n",
    "```tab = [[' ', ' ', ' '], [' ', ' ', ' '], [' ', ' ', ' ']]``` \n",
    "\n",
    "Les premiers coups joués sont ceux-ci :\n",
    "- ```tab[1][1] = 'X'``` \n",
    "- ```tab[2][1] = 'O'``` \n",
    "- ```tab[2][2] = 'X'``` \n",
    "- ```tab[0][0] = 'O'``` \n",
    "\n",
    "Quel coup doit maintenant jouer le joueur  `'X'` pour s'assurer la victoire ?"
   ]
  },
  {
   "cell_type": "code",
   "execution_count": 5,
   "metadata": {},
   "outputs": [],
   "source": [
    "## Il faut que le joueur 'X' joue le coup tab[1][2]= 'x'"
   ]
  },
  {
   "cell_type": "markdown",
   "metadata": {},
   "source": [
    "Ex5 :\n",
    "\n",
    "On considère la liste ```m``` ('m' comme *matrice*) suivante :  \n",
    "\n",
    "```m = [[1, 9, 4], [4, 1, 8], [7, 10, 1]]```  \n",
    "\n",
    "Quelle est la somme de tous les nombres de la matrice ```m``` ?"
   ]
  },
  {
   "cell_type": "code",
   "execution_count": 35,
   "metadata": {},
   "outputs": [],
   "source": [
    "## la somme de tous les nombres de la matrice m est 45, parce que :\n",
    "\n",
    "\n",
    "\n",
    "#tentative de code de comptage\n",
    "m = [[1, 9, 4], [4, 1, 8], [7, 10, 1]]\n",
    "\n",
    "def add_matrice (blurp):\n",
    "    \n",
    "    for valeur in m:\n",
    "        for i in range(len(m)):\n",
    "            [i]\n",
    "            \n",
    "        \n",
    "    return resultat"
   ]
  }
 ],
 "metadata": {
  "kernelspec": {
   "display_name": "Python 3",
   "language": "python",
   "name": "python3"
  },
  "language_info": {
   "codemirror_mode": {
    "name": "ipython",
    "version": 3
   },
   "file_extension": ".py",
   "mimetype": "text/x-python",
   "name": "python",
   "nbconvert_exporter": "python",
   "pygments_lexer": "ipython3",
   "version": "3.7.1"
  }
 },
 "nbformat": 4,
 "nbformat_minor": 2
}
