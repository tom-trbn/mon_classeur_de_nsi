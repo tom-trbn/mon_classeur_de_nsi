{
 "cells": [
  {
   "cell_type": "markdown",
   "id": "decent-mount",
   "metadata": {},
   "source": [
    "# Exercices pratiques\n",
    "\n",
    "Sur le site : https://e-nsi.gitlab.io/pratique/tags/"
   ]
  },
  {
   "cell_type": "code",
   "execution_count": 3,
   "id": "devoted-interim",
   "metadata": {},
   "outputs": [],
   "source": [
    "##Exercices 0-1\n",
    "\n",
    "def somme(a, b):\n",
    "    return a+b # ← compléter ici\n",
    "\n",
    "\n",
    "# tests\n",
    "\n",
    "assert somme(10, 32) == 42\n",
    "assert somme(100, 7) == 107"
   ]
  },
  {
   "cell_type": "code",
   "execution_count": 4,
   "id": "quick-deadline",
   "metadata": {},
   "outputs": [
    {
     "ename": "TypeError",
     "evalue": "'ellipsis' object cannot be interpreted as an integer",
     "output_type": "error",
     "traceback": [
      "\u001b[0;31m---------------------------------------------------------------------------\u001b[0m",
      "\u001b[0;31mTypeError\u001b[0m                                 Traceback (most recent call last)",
      "\u001b[0;32m<ipython-input-4-9d01ba0bdf6d>\u001b[0m in \u001b[0;36m<module>\u001b[0;34m\u001b[0m\n\u001b[1;32m     30\u001b[0m \u001b[0;34m\u001b[0m\u001b[0m\n\u001b[1;32m     31\u001b[0m \u001b[0;31m# Les entiers de 500 (inclus) à 200 (exclu)\u001b[0m\u001b[0;34m\u001b[0m\u001b[0;34m\u001b[0m\u001b[0;34m\u001b[0m\u001b[0m\n\u001b[0;32m---> 32\u001b[0;31m \u001b[0mliste_9\u001b[0m \u001b[0;34m=\u001b[0m \u001b[0mlist\u001b[0m\u001b[0;34m(\u001b[0m\u001b[0mrange\u001b[0m\u001b[0;34m(\u001b[0m\u001b[0;34m...\u001b[0m\u001b[0;34m,\u001b[0m \u001b[0;34m...\u001b[0m\u001b[0;34m,\u001b[0m \u001b[0;34m...\u001b[0m\u001b[0;34m)\u001b[0m\u001b[0;34m)\u001b[0m\u001b[0;34m\u001b[0m\u001b[0;34m\u001b[0m\u001b[0m\n\u001b[0m\u001b[1;32m     33\u001b[0m \u001b[0;34m\u001b[0m\u001b[0m\n\u001b[1;32m     34\u001b[0m \u001b[0;31m# Les entiers de 10 (inclus) à -10 (exclu)\u001b[0m\u001b[0;34m\u001b[0m\u001b[0;34m\u001b[0m\u001b[0;34m\u001b[0m\u001b[0m\n",
      "\u001b[0;31mTypeError\u001b[0m: 'ellipsis' object cannot be interpreted as an integer"
     ]
    }
   ],
   "source": [
    "# UN SEUL PARAMETRE #\n",
    "\n",
    "# Les entiers de 0 (inclus) à 11 (exclu)\n",
    "liste_1 = list(range(11))\n",
    "\n",
    "# Les entiers de 0 (inclus) à 20 (exclu)\n",
    "liste_2 = list(range(20))\n",
    "\n",
    "# Les entiers de 0 (inclus) à 20 (inclus)\n",
    "liste_3 = list(range(21))\n",
    "\n",
    "# DEUX PARAMETRES #\n",
    "\n",
    "# Les entiers de 3 (inclus) à 10 (exlu)\n",
    "liste_4 = list(range(3, 10))\n",
    "\n",
    "# Les entiers de 12 (inclus) à 20 (inclus)\n",
    "liste_5 = list(range(12, 21))\n",
    "\n",
    "# Les entiers de -10 (inclus) à 1 (exlu)\n",
    "liste_6 = list(range(-10, 1))\n",
    "\n",
    "# Les entiers de -10 (inclus) à 1 (inclus)\n",
    "liste_7 = list(range(-10, 2))\n",
    "\n",
    "# TROIS PARAMETRES #\n",
    "\n",
    "# Les entiers de 20 (inclus) à 0 (exclu)\n",
    "liste_8 = list(range(20, 0, 1))\n",
    "\n",
    "# Les entiers de 500 (inclus) à 200 (exclu)\n",
    "liste_9 = list(range(..., ..., ...))\n",
    "\n",
    "# Les entiers de 10 (inclus) à -10 (exclu)\n",
    "liste_10 = list(range(..., ..., ...))\n",
    "\n",
    "# Les entiers de 25 (inclus) à -25 (inclus)\n",
    "liste_11 = list(range(..., ..., ...))\n",
    "\n",
    "# Les pairs de 1 (inclus) à 100 (exclu)\n",
    "liste_12 = list(range(..., ..., ...))\n",
    "\n",
    "# Les multiples de 3 de 0 (inclus) à 301 (exclu)\n",
    "liste_13 = list(range(..., ..., ...))\n",
    "\n",
    "# Les multiples de 7 de 0 (inclus) à 994 (inclus)\n",
    "liste_14 = list(range(..., ..., ...))\n",
    "\n",
    "# Les pairs de -100 (inclus) à 100 (exclu)\n",
    "liste_15 = list(range(..., ..., ...))\n",
    "\n",
    "# Les multiples de 3 de 300 (inclus) à 102 (exclu)\n",
    "liste_16 = list(range(..., ..., ...))\n",
    "\n",
    "# Les multiples de 13 de 3445 (inclus) à -559 (inclus)\n",
    "liste_17 = list(range(..., ..., ...))\n"
   ]
  },
  {
   "cell_type": "code",
   "execution_count": 1,
   "id": "threatened-astronomy",
   "metadata": {},
   "outputs": [],
   "source": [
    "##Exercice 1-2\n",
    "\n",
    "def indice_min(nombres):\n",
    "    indice_minimum = 0\n",
    "    minimum = nombres[0]\n",
    "    for k in range (len(nombres)):\n",
    "        if minimum > nombres[k]:\n",
    "            minimum = nombres[k]\n",
    "            indice_minimum = k\n",
    "    return indice_minimum"
   ]
  },
  {
   "cell_type": "code",
   "execution_count": 2,
   "id": "usual-tiffany",
   "metadata": {},
   "outputs": [],
   "source": [
    "##Exercices 1-4\n",
    "\n",
    "def maximum(nombres):\n",
    "    nb_max = 0\n",
    "    for i in range(len(nombres)):\n",
    "        if nb_max < nombres[i]:\n",
    "            nb_max = nombres[i]\n",
    "    \n",
    "    return nb_max"
   ]
  },
  {
   "cell_type": "code",
   "execution_count": 6,
   "id": "fourth-delta",
   "metadata": {
    "scrolled": true
   },
   "outputs": [
    {
     "data": {
      "text/plain": [
       "131"
      ]
     },
     "execution_count": 6,
     "metadata": {},
     "output_type": "execute_result"
    }
   ],
   "source": [
    "maximum([98, 12, 104, 23, 131, 9])"
   ]
  },
  {
   "cell_type": "code",
   "execution_count": 7,
   "id": "placed-timing",
   "metadata": {},
   "outputs": [
    {
     "data": {
      "text/plain": [
       "24"
      ]
     },
     "execution_count": 7,
     "metadata": {},
     "output_type": "execute_result"
    }
   ],
   "source": [
    "maximum([-27, 24, -3, 15])"
   ]
  },
  {
   "cell_type": "code",
   "execution_count": 1,
   "id": "resistant-nashville",
   "metadata": {},
   "outputs": [],
   "source": [
    "##Exercice 1- 8\n",
    "def moyenne(valeurs):\n",
    "    somme =0\n",
    "    for n in range (len(valeurs)):\n",
    "        somme += valeurs[n]\n",
    "    moyenne = somme/len(valeurs)\n",
    "\n",
    "    return moyenne\n",
    "\n",
    "\n",
    "# tests\n",
    "\n",
    "def sont_proches(x, y):\n",
    "    return abs(x - y) < 10**-6\n",
    "\n",
    "assert sont_proches(moyenne([10, 20, 30, 40, 60, 110]), 45.0)\n",
    "assert sont_proches(moyenne([1, 3]), 2.0)\n",
    "assert sont_proches(moyenne([44, 51, 12, 72, 65, 34]), 46.333333333333336)"
   ]
  },
  {
   "cell_type": "code",
   "execution_count": null,
   "id": "compressed-antarctica",
   "metadata": {},
   "outputs": [],
   "source": []
  }
 ],
 "metadata": {
  "kernelspec": {
   "display_name": "Python 3",
   "language": "python",
   "name": "python3"
  },
  "language_info": {
   "codemirror_mode": {
    "name": "ipython",
    "version": 3
   },
   "file_extension": ".py",
   "mimetype": "text/x-python",
   "name": "python",
   "nbconvert_exporter": "python",
   "pygments_lexer": "ipython3",
   "version": "3.7.10"
  }
 },
 "nbformat": 4,
 "nbformat_minor": 5
}
